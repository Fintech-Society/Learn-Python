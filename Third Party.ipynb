{
 "cells": [
  {
   "cell_type": "markdown",
   "metadata": {},
   "source": [
    "# Numpy"
   ]
  },
  {
   "cell_type": "markdown",
   "metadata": {},
   "source": [
    "Used for matrix math, Numpy introduces matrices for python, numpy arrays will only store one type of data such as a float to help optimise memory.\n",
    "\n",
    "Becuase of how useful matricies are Numpy is used in almost every third party libary. It even has a reserved symbol for matrix multiplication\n",
    "\n",
    "[Explanation on matrix multiplication and dot product](https://mkang32.github.io/python/2020/08/23/dot-product.html)\n",
    "\n",
    "[Numpy site](https://numpy.org/)"
   ]
  },
  {
   "cell_type": "code",
   "execution_count": 179,
   "metadata": {},
   "outputs": [
    {
     "data": {
      "text/plain": [
       "array([ 0,  1,  2,  3,  4,  5,  6,  7,  8,  9, 10, 11, 12, 13, 14, 15, 16,\n",
       "       17, 18, 19])"
      ]
     },
     "execution_count": 179,
     "metadata": {},
     "output_type": "execute_result"
    }
   ],
   "source": [
    "import numpy as np\n",
    "\n",
    "array = np.arange(20)\n",
    "array\n"
   ]
  },
  {
   "cell_type": "code",
   "execution_count": 180,
   "metadata": {},
   "outputs": [
    {
     "data": {
      "text/plain": [
       "array([[5, 6],\n",
       "       [7, 8]])"
      ]
     },
     "execution_count": 180,
     "metadata": {},
     "output_type": "execute_result"
    }
   ],
   "source": [
    "matrix_0 = np.array(2)\n",
    "matrix_1 = np.array([[1, 2], [3, 4]]) # create matrix\n",
    "matrix_2 = np.array([[5, 6], [7, 8]])\n",
    "matrix_3 = np.ones((2,2))\n",
    "matrix_4 = np.zeros((2,2))\n",
    "\n",
    "matrix_2"
   ]
  },
  {
   "cell_type": "markdown",
   "metadata": {},
   "source": [
    "## Multiply two matricies together\n",
    "\n",
    "With matrix multiplication and dot products the order of multiplication matters."
   ]
  },
  {
   "cell_type": "code",
   "execution_count": 181,
   "metadata": {},
   "outputs": [
    {
     "name": "stdout",
     "output_type": "stream",
     "text": [
      "[[23 34]\n",
      " [31 46]]\n",
      "\n",
      "[[19 22]\n",
      " [43 50]]\n"
     ]
    }
   ],
   "source": [
    "print(matrix_2 @ matrix_1)\n",
    "print()\n",
    "print(matrix_1 @ matrix_2)"
   ]
  },
  {
   "cell_type": "markdown",
   "metadata": {},
   "source": [
    "# Dot product"
   ]
  },
  {
   "cell_type": "code",
   "execution_count": 182,
   "metadata": {},
   "outputs": [
    {
     "data": {
      "text/plain": [
       "array([[3., 3.],\n",
       "       [7., 7.]])"
      ]
     },
     "execution_count": 182,
     "metadata": {},
     "output_type": "execute_result"
    }
   ],
   "source": [
    "np.dot(matrix_1, matrix_3)"
   ]
  },
  {
   "cell_type": "markdown",
   "metadata": {},
   "source": [
    "# Scipy\n",
    "\n",
    "Scipy is an open source libary for scientific computing and engineering. It extends the numpy libary.\n",
    "\n",
    "Scipy can be divided into subpackages with each one serving a different purpose. \n",
    "\n",
    "[Full list here](https://docs.scipy.org/doc/scipy/tutorial/index.html)\n",
    "\n",
    "[Scipy minimise](https://docs.scipy.org/doc/scipy/reference/generated/scipy.optimize.minimize.html)"
   ]
  },
  {
   "cell_type": "code",
   "execution_count": 183,
   "metadata": {},
   "outputs": [
    {
     "data": {
      "text/plain": [
       "  message: Optimization terminated successfully.\n",
       "  success: True\n",
       "   status: 0\n",
       "      fun: 3.021713842692517\n",
       "        x: [ 2.770e+00]\n",
       "      nit: 7\n",
       "      jac: [-5.096e-06]\n",
       " hess_inv: [[ 5.170e-01]]\n",
       "     nfev: 18\n",
       "     njev: 9"
      ]
     },
     "execution_count": 183,
     "metadata": {},
     "output_type": "execute_result"
    }
   ],
   "source": [
    "from scipy import optimize\n",
    "import math\n",
    "\n",
    "# Optimize finds the minimum of any function\n",
    "# it is a unified interface for finding the local minimums of optimization problems\n",
    "\n",
    "def func1(x):\n",
    "    # Graphed equation : https://www.desmos.com/calculator/rdxwwggo6i\n",
    "    return (2*x) + (x * math.sin(x))/math.tan(x) + math.e**(-x)\n",
    "\n",
    "\n",
    "x_0=5.0\n",
    "# Minimise defualts to only positive bounds, if you input a negative it will find negative solutions\n",
    "output = optimize.minimize(func1,x_0,)\n",
    "output"
   ]
  },
  {
   "cell_type": "markdown",
   "metadata": {},
   "source": [
    "`optimize.minimize` returns a data structure with the result. \n",
    "\n",
    "x is the input.\n",
    "\n",
    "and fun is the output, or y on a graph\n",
    "\n",
    "`optimize.minimize` also has other inputs where we can constrain it to solve within certain bounds or conditions that we define."
   ]
  },
  {
   "cell_type": "code",
   "execution_count": 184,
   "metadata": {},
   "outputs": [
    {
     "name": "stdout",
     "output_type": "stream",
     "text": [
      "[2.77010104]\n",
      "3.021713842692517\n",
      "3.021713842692517\n"
     ]
    }
   ],
   "source": [
    "# get the input as a numpy array\n",
    "print(output.x)\n",
    "# get the output of function at x\n",
    "print(output.fun)\n",
    "# output.fun is same as\n",
    "print(func1(output.x[0]))"
   ]
  },
  {
   "cell_type": "markdown",
   "metadata": {},
   "source": [
    "# Matplotlib\n",
    "\n",
    "Matplotlib is widely used and you'll see this more often than not. matplotlib is very versitile and is able to interpret data in many ways depending on the graph you want to show, I reccomend visiting the site and exploring it on your own\n",
    "\n",
    "Matplotlib comes orginally from MATLAB, an old statistical programming language.\n",
    "\n",
    "[Visit the site](https://matplotlib.org/stable/)\n",
    "\n",
    "or view the cheatsheet below"
   ]
  },
  {
   "cell_type": "markdown",
   "metadata": {},
   "source": [
    "<div>\n",
    "<img src=\"matplotlib-beginner.webp\" width=\"1000\"/>\n",
    "</div>"
   ]
  },
  {
   "cell_type": "code",
   "execution_count": 185,
   "metadata": {},
   "outputs": [
    {
     "data": {
      "image/png": "[encoded data removed]",
      "text/plain": [
       "<Figure size 640x480 with 1 Axes>"
      ]
     },
     "metadata": {},
     "output_type": "display_data"
    }
   ],
   "source": [
    "import matplotlib.pyplot as plt\n",
    "\n",
    "data = [1,2,3,4,5,6,7,8,10,10]\n",
    "plt.plot(data) # add the data to the plot\n",
    "plt.show() # show the plot"
   ]
  },
  {
   "cell_type": "markdown",
   "metadata": {},
   "source": [
    "# Pandas, yfinance and plotly\n",
    "\n",
    "Pandas is used to manipulate datasets in python. Pandas uses a \"dataframe\" object which is used to manipulate or handle multiple columns of data. The pandas libary is a tool not a method, its more effective to learn and understand the statistical methods you are going to use than to only learn pandas.\n",
    "\n",
    "- [Pandas dataframe docs](https://pandas.pydata.org/docs/reference/frame.html)\n",
    "\n",
    "yfinance is used to gather stock data from yahoo finance.\n",
    "\n",
    "- [yfinance on pypi](https://pypi.org/project/yfinance/)\n",
    "\n",
    "Plotly is similar to matplotlib but offers more interactive graphs.\n",
    "\n",
    "- [Plotly docs](https://plotly.com/python/)\n",
    "\n",
    "- [Plotly cheatsheet](https://images.plot.ly/plotly-documentation/images/python_cheat_sheet.pdf)"
   ]
  },
  {
   "cell_type": "code",
   "execution_count": 186,
   "metadata": {},
   "outputs": [],
   "source": [
    "import pandas as pd\n",
    "import yfinance as yf\n",
    "import plotly.graph_objects as go\n",
    "from math import floor"
   ]
  },
  {
   "cell_type": "markdown",
   "metadata": {},
   "source": [
    "The dataframe object is tabular, it uses columns and rows to store data and there is a decent crossover between excel and pandas because of this."
   ]
  },
  {
   "cell_type": "code",
   "execution_count": 187,
   "metadata": {},
   "outputs": [
    {
     "data": {
      "text/html": [
       "<div>\n",
       "<style scoped>\n",
       "    .dataframe tbody tr th:only-of-type {\n",
       "        vertical-align: middle;\n",
       "    }\n",
       "\n",
       "    .dataframe tbody tr th {\n",
       "        vertical-align: top;\n",
       "    }\n",
       "\n",
       "    .dataframe thead th {\n",
       "        text-align: right;\n",
       "    }\n",
       "</style>\n",
       "<table border=\"1\" class=\"dataframe\">\n",
       "  <thead>\n",
       "    <tr style=\"text-align: right;\">\n",
       "      <th></th>\n",
       "      <th>Product</th>\n",
       "      <th>Price</th>\n",
       "    </tr>\n",
       "  </thead>\n",
       "  <tbody>\n",
       "    <tr>\n",
       "      <th>0</th>\n",
       "      <td>Apples</td>\n",
       "      <td>0.7</td>\n",
       "    </tr>\n",
       "    <tr>\n",
       "      <th>1</th>\n",
       "      <td>Bananas</td>\n",
       "      <td>2.0</td>\n",
       "    </tr>\n",
       "    <tr>\n",
       "      <th>2</th>\n",
       "      <td>Cherries</td>\n",
       "      <td>3.0</td>\n",
       "    </tr>\n",
       "  </tbody>\n",
       "</table>\n",
       "</div>"
      ],
      "text/plain": [
       "    Product  Price\n",
       "0    Apples    0.7\n",
       "1   Bananas    2.0\n",
       "2  Cherries    3.0"
      ]
     },
     "execution_count": 187,
     "metadata": {},
     "output_type": "execute_result"
    }
   ],
   "source": [
    "# Pandas can interpret different data structures to build a dataframe, dictionaries are the best but lists work too, although you need to pass in `columns=[]` to pd.DataFrame to name them if you use lists.\n",
    "data = {\"Product\": [\"Apples\", \"Bananas\", \"Cherries\"], \"Price\" : [0.7, 2, 3]}\n",
    "# data = [[\"Apples\",0.7], [\"Bananas\",2], [\"Cherries\",3]]\n",
    "\n",
    "dataframe = pd.DataFrame(data)\n",
    "dataframe"
   ]
  },
  {
   "cell_type": "markdown",
   "metadata": {},
   "source": [
    "Pandas automatically assigns the datatype of a column, Columns can only be a single type, this is becuase pandas uses numpy to store the values in a column, use `.info()` to get types, count of rows and memory usage. Dtype is the data type.\n",
    "\n",
    "The left most column is the index and can be defined by passing in a list to `index=[]` otherwise it starts from 0 and increments for every row."
   ]
  },
  {
   "cell_type": "code",
   "execution_count": 188,
   "metadata": {},
   "outputs": [
    {
     "name": "stdout",
     "output_type": "stream",
     "text": [
      "<class 'pandas.core.frame.DataFrame'>\n",
      "RangeIndex: 3 entries, 0 to 2\n",
      "Data columns (total 2 columns):\n",
      " #   Column   Non-Null Count  Dtype  \n",
      "---  ------   --------------  -----  \n",
      " 0   Product  3 non-null      object \n",
      " 1   Price    3 non-null      float64\n",
      "dtypes: float64(1), object(1)\n",
      "memory usage: 180.0+ bytes\n"
     ]
    }
   ],
   "source": [
    "dataframe.info()"
   ]
  },
  {
   "cell_type": "markdown",
   "metadata": {},
   "source": [
    "Data is primarily accessed by columns, not rows, you get specific columns by passing in the column name as a key (like a dictionary) and a series is returned, a series is a single column of data."
   ]
  },
  {
   "cell_type": "code",
   "execution_count": 189,
   "metadata": {},
   "outputs": [
    {
     "data": {
      "text/plain": [
       "0    0.7\n",
       "1    2.0\n",
       "2    3.0\n",
       "Name: Price, dtype: float64"
      ]
     },
     "execution_count": 189,
     "metadata": {},
     "output_type": "execute_result"
    }
   ],
   "source": [
    "dataframe[\"Price\"]\n",
    "# type(dataframe[\"Price\"])"
   ]
  },
  {
   "cell_type": "markdown",
   "metadata": {},
   "source": [
    "You can also acces data by position/index using `.iloc[position]` ."
   ]
  },
  {
   "cell_type": "code",
   "execution_count": 190,
   "metadata": {},
   "outputs": [
    {
     "data": {
      "text/plain": [
       "Product    Bananas\n",
       "Price          2.0\n",
       "Name: 1, dtype: object"
      ]
     },
     "execution_count": 190,
     "metadata": {},
     "output_type": "execute_result"
    }
   ],
   "source": [
    "dataframe.iloc[1]"
   ]
  },
  {
   "cell_type": "markdown",
   "metadata": {},
   "source": [
    "# Pandas and (y)Finance\n",
    "\n",
    "Now we will build a simple mean reversion strategy."
   ]
  },
  {
   "cell_type": "markdown",
   "metadata": {},
   "source": [
    "Use yfinance to get the history of a stock.\n",
    "\n",
    "yf.download has many arguments you can pass in, if you are veiwing this in vscode you can hold CTRL and hover over `download` to see all of them.\n",
    "\n",
    "Period will start today and go back in time for the set period, in this case: a year.\n",
    "\n",
    "You can use any ticker on yfinance, some tickers may have .L or another letter, this is for the different exchanges.\n",
    "\n",
    "`download` will return a pandas dataframe with the columns `Open`, `High`, `Low`, `Close`, `Adj Close`, `Volume`"
   ]
  },
  {
   "cell_type": "code",
   "execution_count": 191,
   "metadata": {},
   "outputs": [
    {
     "name": "stdout",
     "output_type": "stream",
     "text": [
      "[*********************100%%**********************]  1 of 1 completed\n"
     ]
    },
    {
     "data": {
      "text/html": [
       "<div>\n",
       "<style scoped>\n",
       "    .dataframe tbody tr th:only-of-type {\n",
       "        vertical-align: middle;\n",
       "    }\n",
       "\n",
       "    .dataframe tbody tr th {\n",
       "        vertical-align: top;\n",
       "    }\n",
       "\n",
       "    .dataframe thead th {\n",
       "        text-align: right;\n",
       "    }\n",
       "</style>\n",
       "<table border=\"1\" class=\"dataframe\">\n",
       "  <thead>\n",
       "    <tr style=\"text-align: right;\">\n",
       "      <th></th>\n",
       "      <th>Open</th>\n",
       "      <th>High</th>\n",
       "      <th>Low</th>\n",
       "      <th>Close</th>\n",
       "      <th>Adj Close</th>\n",
       "      <th>Volume</th>\n",
       "      <th>Repaired?</th>\n",
       "    </tr>\n",
       "    <tr>\n",
       "      <th>Date</th>\n",
       "      <th></th>\n",
       "      <th></th>\n",
       "      <th></th>\n",
       "      <th></th>\n",
       "      <th></th>\n",
       "      <th></th>\n",
       "      <th></th>\n",
       "    </tr>\n",
       "  </thead>\n",
       "  <tbody>\n",
       "    <tr>\n",
       "      <th>2022-10-21</th>\n",
       "      <td>234.740005</td>\n",
       "      <td>243.000000</td>\n",
       "      <td>234.500000</td>\n",
       "      <td>242.119995</td>\n",
       "      <td>239.803314</td>\n",
       "      <td>26299700</td>\n",
       "      <td>False</td>\n",
       "    </tr>\n",
       "    <tr>\n",
       "      <th>2022-10-24</th>\n",
       "      <td>243.759995</td>\n",
       "      <td>247.839996</td>\n",
       "      <td>241.300003</td>\n",
       "      <td>247.250000</td>\n",
       "      <td>244.884232</td>\n",
       "      <td>24911200</td>\n",
       "      <td>False</td>\n",
       "    </tr>\n",
       "    <tr>\n",
       "      <th>2022-10-25</th>\n",
       "      <td>247.259995</td>\n",
       "      <td>251.039993</td>\n",
       "      <td>245.830002</td>\n",
       "      <td>250.660004</td>\n",
       "      <td>248.261597</td>\n",
       "      <td>34775500</td>\n",
       "      <td>False</td>\n",
       "    </tr>\n",
       "    <tr>\n",
       "      <th>2022-10-26</th>\n",
       "      <td>231.169998</td>\n",
       "      <td>238.300003</td>\n",
       "      <td>230.059998</td>\n",
       "      <td>231.320007</td>\n",
       "      <td>229.106659</td>\n",
       "      <td>82543200</td>\n",
       "      <td>False</td>\n",
       "    </tr>\n",
       "    <tr>\n",
       "      <th>2022-10-27</th>\n",
       "      <td>231.039993</td>\n",
       "      <td>233.690002</td>\n",
       "      <td>225.779999</td>\n",
       "      <td>226.750000</td>\n",
       "      <td>224.580353</td>\n",
       "      <td>40424600</td>\n",
       "      <td>False</td>\n",
       "    </tr>\n",
       "  </tbody>\n",
       "</table>\n",
       "</div>"
      ],
      "text/plain": [
       "                  Open        High         Low       Close   Adj Close   \n",
       "Date                                                                     \n",
       "2022-10-21  234.740005  243.000000  234.500000  242.119995  239.803314  \\\n",
       "2022-10-24  243.759995  247.839996  241.300003  247.250000  244.884232   \n",
       "2022-10-25  247.259995  251.039993  245.830002  250.660004  248.261597   \n",
       "2022-10-26  231.169998  238.300003  230.059998  231.320007  229.106659   \n",
       "2022-10-27  231.039993  233.690002  225.779999  226.750000  224.580353   \n",
       "\n",
       "              Volume  Repaired?  \n",
       "Date                             \n",
       "2022-10-21  26299700      False  \n",
       "2022-10-24  24911200      False  \n",
       "2022-10-25  34775500      False  \n",
       "2022-10-26  82543200      False  \n",
       "2022-10-27  40424600      False  "
      ]
     },
     "execution_count": 191,
     "metadata": {},
     "output_type": "execute_result"
    }
   ],
   "source": [
    "\n",
    "TICKER = \"MSFT\"\n",
    "stock_data = yf.download(TICKER,period=\"1y\",repair=True)\n",
    "\n",
    "# .describe() gives us statistics on the dataset for each column, by removing .describe() jupyter presents the dataframe\n",
    "stock_data.describe()\n",
    "\n",
    "# we can also use .head(x) for the first x rows\n",
    "stock_data.head(5)"
   ]
  },
  {
   "cell_type": "markdown",
   "metadata": {},
   "source": [
    "We can veiw the price stock history with plotly. Plotly adds interactivity to the graph such as zoom.\n",
    "\n",
    "Since we only have daily prices the resolution is not great, so dont zoom too far in."
   ]
  },
  {
   "cell_type": "code",
   "execution_count": 192,
   "metadata": {},
   "outputs": [
    {
     "data": {
      "application/vnd.plotly.v1+json": {
       "config": {
        "plotlyServerURL": "https://plot.ly"
       },
       "data": [
        {
         "name": "MSFT",
         "type": "scatter",
         "x": [
          "2022-10-21",
          "2022-10-24",
          "2022-10-25",
          "2022-10-26",
          "2022-10-27",
          "2022-10-28",
          "2022-10-31",
          "2022-11-01",
          "2022-11-02",
          "2022-11-03",
          "2022-11-04",
          "2022-11-07",
          "2022-11-08",
          "2022-11-09",
          "2022-11-10",
          "2022-11-11",
          "2022-11-14",
          "2022-11-15",
          "2022-11-16",
          "2022-11-17",
          "2022-11-18",
          "2022-11-21",
          "2022-11-22",
          "2022-11-23",
          "2022-11-25",
          "2022-11-28",
          "2022-11-29",
          "2022-11-30",
          "2022-12-01",
          "2022-12-02",
          "2022-12-05",
          "2022-12-06",
          "2022-12-07",
          "2022-12-08",
          "2022-12-09",
          "2022-12-12",
          "2022-12-13",
          "2022-12-14",
          "2022-12-15",
          "2022-12-16",
          "2022-12-19",
          "2022-12-20",
          "2022-12-21",
          "2022-12-22",
          "2022-12-23",
          "2022-12-27",
          "2022-12-28",
          "2022-12-29",
          "2022-12-30",
          "2023-01-03",
          "2023-01-04",
          "2023-01-05",
          "2023-01-06",
          "2023-01-09",
          "2023-01-10",
          "2023-01-11",
          "2023-01-12",
          "2023-01-13",
          "2023-01-17",
          "2023-01-18",
          "2023-01-19",
          "2023-01-20",
          "2023-01-23",
          "2023-01-24",
          "2023-01-25",
          "2023-01-26",
          "2023-01-27",
          "2023-01-30",
          "2023-01-31",
          "2023-02-01",
          "2023-02-02",
          "2023-02-03",
          "2023-02-06",
          "2023-02-07",
          "2023-02-08",
          "2023-02-09",
          "2023-02-10",
          "2023-02-13",
          "2023-02-14",
          "2023-02-15",
          "2023-02-16",
          "2023-02-17",
          "2023-02-21",
          "2023-02-22",
          "2023-02-23",
          "2023-02-24",
          "2023-02-27",
          "2023-02-28",
          "2023-03-01",
          "2023-03-02",
          "2023-03-03",
          "2023-03-06",
          "2023-03-07",
          "2023-03-08",
          "2023-03-09",
          "2023-03-10",
          "2023-03-13",
          "2023-03-14",
          "2023-03-15",
          "2023-03-16",
          "2023-03-17",
          "2023-03-20",
          "2023-03-21",
          "2023-03-22",
          "2023-03-23",
          "2023-03-24",
          "2023-03-27",
          "2023-03-28",
          "2023-03-29",
          "2023-03-30",
          "2023-03-31",
          "2023-04-03",
          "2023-04-04",
          "2023-04-05",
          "2023-04-06",
          "2023-04-10",
          "2023-04-11",
          "2023-04-12",
          "2023-04-13",
          "2023-04-14",
          "2023-04-17",
          "2023-04-18",
          "2023-04-19",
          "2023-04-20",
          "2023-04-21",
          "2023-04-24",
          "2023-04-25",
          "2023-04-26",
          "2023-04-27",
          "2023-04-28",
          "2023-05-01",
          "2023-05-02",
          "2023-05-03",
          "2023-05-04",
          "2023-05-05",
          "2023-05-08",
          "2023-05-09",
          "2023-05-10",
          "2023-05-11",
          "2023-05-12",
          "2023-05-15",
          "2023-05-16",
          "2023-05-17",
          "2023-05-18",
          "2023-05-19",
          "2023-05-22",
          "2023-05-23",
          "2023-05-24",
          "2023-05-25",
          "2023-05-26",
          "2023-05-30",
          "2023-05-31",
          "2023-06-01",
          "2023-06-02",
          "2023-06-05",
          "2023-06-06",
          "2023-06-07",
          "2023-06-08",
          "2023-06-09",
          "2023-06-12",
          "2023-06-13",
          "2023-06-14",
          "2023-06-15",
          "2023-06-16",
          "2023-06-20",
          "2023-06-21",
          "2023-06-22",
          "2023-06-23",
          "2023-06-26",
          "2023-06-27",
          "2023-06-28",
          "2023-06-29",
          "2023-06-30",
          "2023-07-03",
          "2023-07-05",
          "2023-07-06",
          "2023-07-07",
          "2023-07-10",
          "2023-07-11",
          "2023-07-12",
          "2023-07-13",
          "2023-07-14",
          "2023-07-17",
          "2023-07-18",
          "2023-07-19",
          "2023-07-20",
          "2023-07-21",
          "2023-07-24",
          "2023-07-25",
          "2023-07-26",
          "2023-07-27",
          "2023-07-28",
          "2023-07-31",
          "2023-08-01",
          "2023-08-02",
          "2023-08-03",
          "2023-08-04",
          "2023-08-07",
          "2023-08-08",
          "2023-08-09",
          "2023-08-10",
          "2023-08-11",
          "2023-08-14",
          "2023-08-15",
          "2023-08-16",
          "2023-08-17",
          "2023-08-18",
          "2023-08-21",
          "2023-08-22",
          "2023-08-23",
          "2023-08-24",
          "2023-08-25",
          "2023-08-28",
          "2023-08-29",
          "2023-08-30",
          "2023-08-31",
          "2023-09-01",
          "2023-09-05",
          "2023-09-06",
          "2023-09-07",
          "2023-09-08",
          "2023-09-11",
          "2023-09-12",
          "2023-09-13",
          "2023-09-14",
          "2023-09-15",
          "2023-09-18",
          "2023-09-19",
          "2023-09-20",
          "2023-09-21",
          "2023-09-22",
          "2023-09-25",
          "2023-09-26",
          "2023-09-27",
          "2023-09-28",
          "2023-09-29",
          "2023-10-02",
          "2023-10-03",
          "2023-10-04",
          "2023-10-05",
          "2023-10-06",
          "2023-10-09",
          "2023-10-10",
          "2023-10-11",
          "2023-10-12",
          "2023-10-13",
          "2023-10-16",
          "2023-10-17",
          "2023-10-18",
          "2023-10-19",
          "2023-10-20"
         ],
         "y": [
          239.80331420898438,
          244.8842315673828,
          248.2615966796875,
          229.10665893554688,
          224.58035278320312,
          233.61309814453125,
          229.9088897705078,
          225.98678588867188,
          217.99400329589844,
          212.19998168945312,
          219.27166748046875,
          225.6896514892578,
          226.6800994873047,
          222.36180114746094,
          240.6550750732422,
          244.7455596923828,
          239.23875427246094,
          239.6547393798828,
          240.0917510986328,
          240.04208374023438,
          239.58522033691406,
          240.4095916748047,
          243.36940002441406,
          245.90211486816406,
          245.81271362304688,
          240.12155151367188,
          238.7012481689453,
          253.41087341308594,
          252.9639129638672,
          253.29168701171875,
          248.50436401367188,
          243.45877075195312,
          242.71385192871094,
          245.7233123779297,
          243.75674438476562,
          250.79869079589844,
          255.17881774902344,
          255.47679138183594,
          247.32241821289062,
          243.03170776367188,
          238.82041931152344,
          240.16128540039062,
          242.77345275878906,
          236.57574462890625,
          237.11209106445312,
          235.35409545898438,
          232.9405517578125,
          239.3766326904297,
          238.1947021484375,
          237.95632934570312,
          227.54736328125,
          220.80335998535156,
          223.40560913085938,
          225.5807647705078,
          227.29904174804688,
          234.17214965820312,
          236.89356994628906,
          237.60870361328125,
          238.7211151123047,
          234.2118682861328,
          230.35816955566406,
          238.5919952392578,
          240.9359893798828,
          240.399658203125,
          238.97933959960938,
          246.3192596435547,
          246.47817993164062,
          241.06512451171875,
          246.13055419921875,
          251.0370635986328,
          262.8067321777344,
          256.59912109375,
          255.02980041503906,
          265.7467041015625,
          264.9223327636719,
          261.8334045410156,
          261.3169250488281,
          269.481201171875,
          270.32550048828125,
          268.164794921875,
          261.0255126953125,
          256.95306396484375,
          251.586181640625,
          250.43116760253906,
          253.67718505859375,
          248.15098571777344,
          249.0869598388672,
          248.35012817382812,
          245.21363830566406,
          250.0328826904297,
          254.1949462890625,
          255.76817321777344,
          253.05982971191406,
          252.61175537109375,
          251.23770141601562,
          247.523681640625,
          252.83082580566406,
          259.6713562011719,
          264.3013916015625,
          275.0152893066406,
          278.2314147949219,
          271.0622863769531,
          272.6056213378906,
          271.1220397949219,
          276.468994140625,
          279.36651611328125,
          275.1944885253906,
          274.0494384765625,
          279.3067626953125,
          282.8315734863281,
          287.0633544921875,
          285.9979553222656,
          285.9481506347656,
          283.1203308105469,
          290.34918212890625,
          288.148681640625,
          281.6168212890625,
          282.27398681640625,
          288.59674072265625,
          284.9126281738281,
          287.5611877441406,
          287.133056640625,
          287.21270751953125,
          284.8827209472656,
          284.5342712402344,
          280.5613708496094,
          274.2386474609375,
          294.10302734375,
          303.5224304199219,
          305.9420471191406,
          304.24932861328125,
          304.0999450683594,
          303.09429931640625,
          304.0999450683594,
          309.3175048828125,
          307.3260498046875,
          305.6831359863281,
          310.9703674316406,
          308.77978515625,
          307.64471435546875,
          308.1325988769531,
          310.4028015136719,
          313.33660888671875,
          317.8470458984375,
          317.66741943359375,
          320.5014343261719,
          314.59393310546875,
          313.1869201660156,
          325.2314147949219,
          332.18670654296875,
          330.5102233886719,
          327.6961975097656,
          331.8773193359375,
          334.6913757324219,
          335.2302551269531,
          332.9750061035156,
          322.69677734375,
          324.57281494140625,
          326.0995788574219,
          331.1488952636719,
          333.583740234375,
          336.6272888183594,
          347.36456298828125,
          341.6067199707031,
          337.3357849121094,
          332.8552551269531,
          338.9922790527344,
          334.3121643066406,
          327.90576171875,
          333.8631591796875,
          335.14044189453125,
          334.34210205078125,
          339.8205261230469,
          337.2759094238281,
          337.4355773925781,
          340.5489807128906,
          336.5075378417969,
          331.12890625,
          331.767578125,
          336.4875793457031,
          341.93603515625,
          344.5105895996094,
          344.99957275390625,
          358.73046875,
          354.3298034667969,
          346.13714599609375,
          343.043701171875,
          344.380859375,
          350.23846435546875,
          337.0563659667969,
          330.0212707519531,
          337.65509033203125,
          335.2102966308594,
          335.62939453125,
          326.8080749511719,
          325.9698486328125,
          327.0874938964844,
          329.41253662109375,
          325.3611145019531,
          321.5492248535156,
          322.2477111816406,
          320.331787109375,
          323.35540771484375,
          321.1799621582031,
          320.3999938964844,
          316.8800048828125,
          316.4800109863281,
          321.8800048828125,
          322.4599914550781,
          327,
          319.9700012207031,
          322.9800109863281,
          323.70001220703125,
          328.4100036621094,
          328.7900085449219,
          327.760009765625,
          328.6600036621094,
          333.54998779296875,
          332.8800048828125,
          329.9100036621094,
          334.2699890136719,
          337.94000244140625,
          331.7699890136719,
          336.05999755859375,
          338.70001220703125,
          330.2200012207031,
          329.05999755859375,
          328.6499938964844,
          320.7699890136719,
          319.5299987792969,
          317.010009765625,
          317.5400085449219,
          312.1400146484375,
          312.7900085449219,
          313.6400146484375,
          315.75,
          321.79998779296875,
          313.3900146484375,
          318.9599914550781,
          319.3599853515625,
          327.260009765625,
          329.82000732421875,
          328.3900146484375,
          332.4200134277344,
          331.1600036621094,
          327.7300109863281,
          332.6400146484375,
          332.05999755859375,
          330.1099853515625,
          331.32000732421875,
          326.6700134277344
         ]
        }
       ],
       "layout": {
        "template": {
         "data": {
          "bar": [
           {
            "error_x": {
             "color": "#2a3f5f"
            },
            "error_y": {
             "color": "#2a3f5f"
            },
            "marker": {
             "line": {
              "color": "#E5ECF6",
              "width": 0.5
             },
             "pattern": {
              "fillmode": "overlay",
              "size": 10,
              "solidity": 0.2
             }
            },
            "type": "bar"
           }
          ],
          "barpolar": [
           {
            "marker": {
             "line": {
              "color": "#E5ECF6",
              "width": 0.5
             },
             "pattern": {
              "fillmode": "overlay",
              "size": 10,
              "solidity": 0.2
             }
            },
            "type": "barpolar"
           }
          ],
          "carpet": [
           {
            "aaxis": {
             "endlinecolor": "#2a3f5f",
             "gridcolor": "white",
             "linecolor": "white",
             "minorgridcolor": "white",
             "startlinecolor": "#2a3f5f"
            },
            "baxis": {
             "endlinecolor": "#2a3f5f",
             "gridcolor": "white",
             "linecolor": "white",
             "minorgridcolor": "white",
             "startlinecolor": "#2a3f5f"
            },
            "type": "carpet"
           }
          ],
          "choropleth": [
           {
            "colorbar": {
             "outlinewidth": 0,
             "ticks": ""
            },
            "type": "choropleth"
           }
          ],
          "contour": [
           {
            "colorbar": {
             "outlinewidth": 0,
             "ticks": ""
            },
            "colorscale": [
             [
              0,
              "#0d0887"
             ],
             [
              0.1111111111111111,
              "#46039f"
             ],
             [
              0.2222222222222222,
              "#7201a8"
             ],
             [
              0.3333333333333333,
              "#9c179e"
             ],
             [
              0.4444444444444444,
              "#bd3786"
             ],
             [
              0.5555555555555556,
              "#d8576b"
             ],
             [
              0.6666666666666666,
              "#ed7953"
             ],
             [
              0.7777777777777778,
              "#fb9f3a"
             ],
             [
              0.8888888888888888,
              "#fdca26"
             ],
             [
              1,
              "#f0f921"
             ]
            ],
            "type": "contour"
           }
          ],
          "contourcarpet": [
           {
            "colorbar": {
             "outlinewidth": 0,
             "ticks": ""
            },
            "type": "contourcarpet"
           }
          ],
          "heatmap": [
           {
            "colorbar": {
             "outlinewidth": 0,
             "ticks": ""
            },
            "colorscale": [
             [
              0,
              "#0d0887"
             ],
             [
              0.1111111111111111,
              "#46039f"
             ],
             [
              0.2222222222222222,
              "#7201a8"
             ],
             [
              0.3333333333333333,
              "#9c179e"
             ],
             [
              0.4444444444444444,
              "#bd3786"
             ],
             [
              0.5555555555555556,
              "#d8576b"
             ],
             [
              0.6666666666666666,
              "#ed7953"
             ],
             [
              0.7777777777777778,
              "#fb9f3a"
             ],
             [
              0.8888888888888888,
              "#fdca26"
             ],
             [
              1,
              "#f0f921"
             ]
            ],
            "type": "heatmap"
           }
          ],
          "heatmapgl": [
           {
            "colorbar": {
             "outlinewidth": 0,
             "ticks": ""
            },
            "colorscale": [
             [
              0,
              "#0d0887"
             ],
             [
              0.1111111111111111,
              "#46039f"
             ],
             [
              0.2222222222222222,
              "#7201a8"
             ],
             [
              0.3333333333333333,
              "#9c179e"
             ],
             [
              0.4444444444444444,
              "#bd3786"
             ],
             [
              0.5555555555555556,
              "#d8576b"
             ],
             [
              0.6666666666666666,
              "#ed7953"
             ],
             [
              0.7777777777777778,
              "#fb9f3a"
             ],
             [
              0.8888888888888888,
              "#fdca26"
             ],
             [
              1,
              "#f0f921"
             ]
            ],
            "type": "heatmapgl"
           }
          ],
          "histogram": [
           {
            "marker": {
             "pattern": {
              "fillmode": "overlay",
              "size": 10,
              "solidity": 0.2
             }
            },
            "type": "histogram"
           }
          ],
          "histogram2d": [
           {
            "colorbar": {
             "outlinewidth": 0,
             "ticks": ""
            },
            "colorscale": [
             [
              0,
              "#0d0887"
             ],
             [
              0.1111111111111111,
              "#46039f"
             ],
             [
              0.2222222222222222,
              "#7201a8"
             ],
             [
              0.3333333333333333,
              "#9c179e"
             ],
             [
              0.4444444444444444,
              "#bd3786"
             ],
             [
              0.5555555555555556,
              "#d8576b"
             ],
             [
              0.6666666666666666,
              "#ed7953"
             ],
             [
              0.7777777777777778,
              "#fb9f3a"
             ],
             [
              0.8888888888888888,
              "#fdca26"
             ],
             [
              1,
              "#f0f921"
             ]
            ],
            "type": "histogram2d"
           }
          ],
          "histogram2dcontour": [
           {
            "colorbar": {
             "outlinewidth": 0,
             "ticks": ""
            },
            "colorscale": [
             [
              0,
              "#0d0887"
             ],
             [
              0.1111111111111111,
              "#46039f"
             ],
             [
              0.2222222222222222,
              "#7201a8"
             ],
             [
              0.3333333333333333,
              "#9c179e"
             ],
             [
              0.4444444444444444,
              "#bd3786"
             ],
             [
              0.5555555555555556,
              "#d8576b"
             ],
             [
              0.6666666666666666,
              "#ed7953"
             ],
             [
              0.7777777777777778,
              "#fb9f3a"
             ],
             [
              0.8888888888888888,
              "#fdca26"
             ],
             [
              1,
              "#f0f921"
             ]
            ],
            "type": "histogram2dcontour"
           }
          ],
          "mesh3d": [
           {
            "colorbar": {
             "outlinewidth": 0,
             "ticks": ""
            },
            "type": "mesh3d"
           }
          ],
          "parcoords": [
           {
            "line": {
             "colorbar": {
              "outlinewidth": 0,
              "ticks": ""
             }
            },
            "type": "parcoords"
           }
          ],
          "pie": [
           {
            "automargin": true,
            "type": "pie"
           }
          ],
          "scatter": [
           {
            "fillpattern": {
             "fillmode": "overlay",
             "size": 10,
             "solidity": 0.2
            },
            "type": "scatter"
           }
          ],
          "scatter3d": [
           {
            "line": {
             "colorbar": {
              "outlinewidth": 0,
              "ticks": ""
             }
            },
            "marker": {
             "colorbar": {
              "outlinewidth": 0,
              "ticks": ""
             }
            },
            "type": "scatter3d"
           }
          ],
          "scattercarpet": [
           {
            "marker": {
             "colorbar": {
              "outlinewidth": 0,
              "ticks": ""
             }
            },
            "type": "scattercarpet"
           }
          ],
          "scattergeo": [
           {
            "marker": {
             "colorbar": {
              "outlinewidth": 0,
              "ticks": ""
             }
            },
            "type": "scattergeo"
           }
          ],
          "scattergl": [
           {
            "marker": {
             "colorbar": {
              "outlinewidth": 0,
              "ticks": ""
             }
            },
            "type": "scattergl"
           }
          ],
          "scattermapbox": [
           {
            "marker": {
             "colorbar": {
              "outlinewidth": 0,
              "ticks": ""
             }
            },
            "type": "scattermapbox"
           }
          ],
          "scatterpolar": [
           {
            "marker": {
             "colorbar": {
              "outlinewidth": 0,
              "ticks": ""
             }
            },
            "type": "scatterpolar"
           }
          ],
          "scatterpolargl": [
           {
            "marker": {
             "colorbar": {
              "outlinewidth": 0,
              "ticks": ""
             }
            },
            "type": "scatterpolargl"
           }
          ],
          "scatterternary": [
           {
            "marker": {
             "colorbar": {
              "outlinewidth": 0,
              "ticks": ""
             }
            },
            "type": "scatterternary"
           }
          ],
          "surface": [
           {
            "colorbar": {
             "outlinewidth": 0,
             "ticks": ""
            },
            "colorscale": [
             [
              0,
              "#0d0887"
             ],
             [
              0.1111111111111111,
              "#46039f"
             ],
             [
              0.2222222222222222,
              "#7201a8"
             ],
             [
              0.3333333333333333,
              "#9c179e"
             ],
             [
              0.4444444444444444,
              "#bd3786"
             ],
             [
              0.5555555555555556,
              "#d8576b"
             ],
             [
              0.6666666666666666,
              "#ed7953"
             ],
             [
              0.7777777777777778,
              "#fb9f3a"
             ],
             [
              0.8888888888888888,
              "#fdca26"
             ],
             [
              1,
              "#f0f921"
             ]
            ],
            "type": "surface"
           }
          ],
          "table": [
           {
            "cells": {
             "fill": {
              "color": "#EBF0F8"
             },
             "line": {
              "color": "white"
             }
            },
            "header": {
             "fill": {
              "color": "#C8D4E3"
             },
             "line": {
              "color": "white"
             }
            },
            "type": "table"
           }
          ]
         },
         "layout": {
          "annotationdefaults": {
           "arrowcolor": "#2a3f5f",
           "arrowhead": 0,
           "arrowwidth": 1
          },
          "autotypenumbers": "strict",
          "coloraxis": {
           "colorbar": {
            "outlinewidth": 0,
            "ticks": ""
           }
          },
          "colorscale": {
           "diverging": [
            [
             0,
             "#8e0152"
            ],
            [
             0.1,
             "#c51b7d"
            ],
            [
             0.2,
             "#de77ae"
            ],
            [
             0.3,
             "#f1b6da"
            ],
            [
             0.4,
             "#fde0ef"
            ],
            [
             0.5,
             "#f7f7f7"
            ],
            [
             0.6,
             "#e6f5d0"
            ],
            [
             0.7,
             "#b8e186"
            ],
            [
             0.8,
             "#7fbc41"
            ],
            [
             0.9,
             "#4d9221"
            ],
            [
             1,
             "#276419"
            ]
           ],
           "sequential": [
            [
             0,
             "#0d0887"
            ],
            [
             0.1111111111111111,
             "#46039f"
            ],
            [
             0.2222222222222222,
             "#7201a8"
            ],
            [
             0.3333333333333333,
             "#9c179e"
            ],
            [
             0.4444444444444444,
             "#bd3786"
            ],
            [
             0.5555555555555556,
             "#d8576b"
            ],
            [
             0.6666666666666666,
             "#ed7953"
            ],
            [
             0.7777777777777778,
             "#fb9f3a"
            ],
            [
             0.8888888888888888,
             "#fdca26"
            ],
            [
             1,
             "#f0f921"
            ]
           ],
           "sequentialminus": [
            [
             0,
             "#0d0887"
            ],
            [
             0.1111111111111111,
             "#46039f"
            ],
            [
             0.2222222222222222,
             "#7201a8"
            ],
            [
             0.3333333333333333,
             "#9c179e"
            ],
            [
             0.4444444444444444,
             "#bd3786"
            ],
            [
             0.5555555555555556,
             "#d8576b"
            ],
            [
             0.6666666666666666,
             "#ed7953"
            ],
            [
             0.7777777777777778,
             "#fb9f3a"
            ],
            [
             0.8888888888888888,
             "#fdca26"
            ],
            [
             1,
             "#f0f921"
            ]
           ]
          },
          "colorway": [
           "#636efa",
           "#EF553B",
           "#00cc96",
           "#ab63fa",
           "#FFA15A",
           "#19d3f3",
           "#FF6692",
           "#B6E880",
           "#FF97FF",
           "#FECB52"
          ],
          "font": {
           "color": "#2a3f5f"
          },
          "geo": {
           "bgcolor": "white",
           "lakecolor": "white",
           "landcolor": "#E5ECF6",
           "showlakes": true,
           "showland": true,
           "subunitcolor": "white"
          },
          "hoverlabel": {
           "align": "left"
          },
          "hovermode": "closest",
          "mapbox": {
           "style": "light"
          },
          "paper_bgcolor": "white",
          "plot_bgcolor": "#E5ECF6",
          "polar": {
           "angularaxis": {
            "gridcolor": "white",
            "linecolor": "white",
            "ticks": ""
           },
           "bgcolor": "#E5ECF6",
           "radialaxis": {
            "gridcolor": "white",
            "linecolor": "white",
            "ticks": ""
           }
          },
          "scene": {
           "xaxis": {
            "backgroundcolor": "#E5ECF6",
            "gridcolor": "white",
            "gridwidth": 2,
            "linecolor": "white",
            "showbackground": true,
            "ticks": "",
            "zerolinecolor": "white"
           },
           "yaxis": {
            "backgroundcolor": "#E5ECF6",
            "gridcolor": "white",
            "gridwidth": 2,
            "linecolor": "white",
            "showbackground": true,
            "ticks": "",
            "zerolinecolor": "white"
           },
           "zaxis": {
            "backgroundcolor": "#E5ECF6",
            "gridcolor": "white",
            "gridwidth": 2,
            "linecolor": "white",
            "showbackground": true,
            "ticks": "",
            "zerolinecolor": "white"
           }
          },
          "shapedefaults": {
           "line": {
            "color": "#2a3f5f"
           }
          },
          "ternary": {
           "aaxis": {
            "gridcolor": "white",
            "linecolor": "white",
            "ticks": ""
           },
           "baxis": {
            "gridcolor": "white",
            "linecolor": "white",
            "ticks": ""
           },
           "bgcolor": "#E5ECF6",
           "caxis": {
            "gridcolor": "white",
            "linecolor": "white",
            "ticks": ""
           }
          },
          "title": {
           "x": 0.05
          },
          "xaxis": {
           "automargin": true,
           "gridcolor": "white",
           "linecolor": "white",
           "ticks": "",
           "title": {
            "standoff": 15
           },
           "zerolinecolor": "white",
           "zerolinewidth": 2
          },
          "yaxis": {
           "automargin": true,
           "gridcolor": "white",
           "linecolor": "white",
           "ticks": "",
           "title": {
            "standoff": 15
           },
           "zerolinecolor": "white",
           "zerolinewidth": 2
          }
         }
        },
        "title": {
         "text": "Stock price of MSFT"
        },
        "xaxis": {
         "dtick": 100,
         "rangeslider": {
          "visible": true
         },
         "tickformat": "%d, %Y",
         "type": "category"
        }
       }
      }
     },
     "metadata": {},
     "output_type": "display_data"
    }
   ],
   "source": [
    "fig = go.Figure()\n",
    "\n",
    "# Graph\n",
    "fig.add_trace(go.Scatter(x=stock_data.index.format(\"\"),y=stock_data[\"Adj Close\"], name=TICKER))\n",
    "\n",
    "# Buttons\n",
    "fig.update_layout(title=f\"Stock price of {TICKER}\", \n",
    "                  xaxis=dict(rangeslider=dict(visible=True),type=\"category\",tickformat = \"%d, %Y\", dtick = 100)\n",
    "                  )\n",
    "\n",
    "fig.show()"
   ]
  },
  {
   "cell_type": "markdown",
   "metadata": {},
   "source": [
    "We only need `Adj Close` for our next sections "
   ]
  },
  {
   "cell_type": "code",
   "execution_count": 193,
   "metadata": {},
   "outputs": [],
   "source": [
    "# Use \"Adj Close\" over \"Close\" as Adj takes into account stock splits and dividends, we dont need the other columns.\n",
    "stock_data = stock_data[\"Adj Close\"].to_frame() # use .to_frame() otherwise a Series is returned"
   ]
  },
  {
   "cell_type": "markdown",
   "metadata": {},
   "source": [
    "Pandas has many methods that can be applied directly to the dataframe, one of those is .pct_change() which gets the change between each datapoint in the column, in our case it is the share price movement. See pandas docs for more"
   ]
  },
  {
   "cell_type": "code",
   "execution_count": 194,
   "metadata": {},
   "outputs": [
    {
     "name": "stdout",
     "output_type": "stream",
     "text": [
      "            Adj Close\n",
      "Date                 \n",
      "2022-10-21        NaN\n",
      "2022-10-24   0.021188\n",
      "2022-10-25   0.013792\n",
      "2022-10-26  -0.077156\n",
      "2022-10-27  -0.019756\n",
      "...               ...\n",
      "2023-10-16   0.014982\n",
      "2023-10-17  -0.001744\n",
      "2023-10-18  -0.005872\n",
      "2023-10-19   0.003666\n",
      "2023-10-20  -0.014035\n",
      "\n",
      "[251 rows x 1 columns]\n",
      "\n",
      "--- .std()\n",
      "\n",
      "Adj Close    40.684787\n",
      "dtype: float64\n",
      "\n",
      "--- .mean()\n",
      "\n",
      "Adj Close    288.898766\n",
      "dtype: float64\n"
     ]
    }
   ],
   "source": [
    "print(stock_data.pct_change()) # share price movement\n",
    "print(\"\\n--- .std()\\n\")\n",
    "print(stock_data.std()) # standard deviation of each column\n",
    "print(\"\\n--- .mean()\\n\")\n",
    "print(stock_data.mean()) # mean of each colmn"
   ]
  },
  {
   "cell_type": "markdown",
   "metadata": {},
   "source": [
    "we can find the moving average by using `.rolling(periods)` which creates a moving window for applying `.mean()` or the other methods"
   ]
  },
  {
   "cell_type": "code",
   "execution_count": 195,
   "metadata": {},
   "outputs": [],
   "source": [
    "rolling = stock_data.rolling(5)\n",
    "# print(rolling)\n",
    "# for i in rolling: # Rolling is a similar to range(), to view it fully iterate over it or pass it into list()\n",
    "    # print(i)\n",
    "\n",
    "rolling_mean = rolling.mean()"
   ]
  },
  {
   "cell_type": "code",
   "execution_count": 196,
   "metadata": {},
   "outputs": [
    {
     "data": {
      "application/vnd.plotly.v1+json": {
       "config": {
        "plotlyServerURL": "https://plot.ly"
       },
       "data": [
        {
         "name": "MSFT",
         "type": "scatter",
         "x": [
          "2022-10-21T00:00:00",
          "2022-10-24T00:00:00",
          "2022-10-25T00:00:00",
          "2022-10-26T00:00:00",
          "2022-10-27T00:00:00",
          "2022-10-28T00:00:00",
          "2022-10-31T00:00:00",
          "2022-11-01T00:00:00",
          "2022-11-02T00:00:00",
          "2022-11-03T00:00:00",
          "2022-11-04T00:00:00",
          "2022-11-07T00:00:00",
          "2022-11-08T00:00:00",
          "2022-11-09T00:00:00",
          "2022-11-10T00:00:00",
          "2022-11-11T00:00:00",
          "2022-11-14T00:00:00",
          "2022-11-15T00:00:00",
          "2022-11-16T00:00:00",
          "2022-11-17T00:00:00",
          "2022-11-18T00:00:00",
          "2022-11-21T00:00:00",
          "2022-11-22T00:00:00",
          "2022-11-23T00:00:00",
          "2022-11-25T00:00:00",
          "2022-11-28T00:00:00",
          "2022-11-29T00:00:00",
          "2022-11-30T00:00:00",
          "2022-12-01T00:00:00",
          "2022-12-02T00:00:00",
          "2022-12-05T00:00:00",
          "2022-12-06T00:00:00",
          "2022-12-07T00:00:00",
          "2022-12-08T00:00:00",
          "2022-12-09T00:00:00",
          "2022-12-12T00:00:00",
          "2022-12-13T00:00:00",
          "2022-12-14T00:00:00",
          "2022-12-15T00:00:00",
          "2022-12-16T00:00:00",
          "2022-12-19T00:00:00",
          "2022-12-20T00:00:00",
          "2022-12-21T00:00:00",
          "2022-12-22T00:00:00",
          "2022-12-23T00:00:00",
          "2022-12-27T00:00:00",
          "2022-12-28T00:00:00",
          "2022-12-29T00:00:00",
          "2022-12-30T00:00:00",
          "2023-01-03T00:00:00",
          "2023-01-04T00:00:00",
          "2023-01-05T00:00:00",
          "2023-01-06T00:00:00",
          "2023-01-09T00:00:00",
          "2023-01-10T00:00:00",
          "2023-01-11T00:00:00",
          "2023-01-12T00:00:00",
          "2023-01-13T00:00:00",
          "2023-01-17T00:00:00",
          "2023-01-18T00:00:00",
          "2023-01-19T00:00:00",
          "2023-01-20T00:00:00",
          "2023-01-23T00:00:00",
          "2023-01-24T00:00:00",
          "2023-01-25T00:00:00",
          "2023-01-26T00:00:00",
          "2023-01-27T00:00:00",
          "2023-01-30T00:00:00",
          "2023-01-31T00:00:00",
          "2023-02-01T00:00:00",
          "2023-02-02T00:00:00",
          "2023-02-03T00:00:00",
          "2023-02-06T00:00:00",
          "2023-02-07T00:00:00",
          "2023-02-08T00:00:00",
          "2023-02-09T00:00:00",
          "2023-02-10T00:00:00",
          "2023-02-13T00:00:00",
          "2023-02-14T00:00:00",
          "2023-02-15T00:00:00",
          "2023-02-16T00:00:00",
          "2023-02-17T00:00:00",
          "2023-02-21T00:00:00",
          "2023-02-22T00:00:00",
          "2023-02-23T00:00:00",
          "2023-02-24T00:00:00",
          "2023-02-27T00:00:00",
          "2023-02-28T00:00:00",
          "2023-03-01T00:00:00",
          "2023-03-02T00:00:00",
          "2023-03-03T00:00:00",
          "2023-03-06T00:00:00",
          "2023-03-07T00:00:00",
          "2023-03-08T00:00:00",
          "2023-03-09T00:00:00",
          "2023-03-10T00:00:00",
          "2023-03-13T00:00:00",
          "2023-03-14T00:00:00",
          "2023-03-15T00:00:00",
          "2023-03-16T00:00:00",
          "2023-03-17T00:00:00",
          "2023-03-20T00:00:00",
          "2023-03-21T00:00:00",
          "2023-03-22T00:00:00",
          "2023-03-23T00:00:00",
          "2023-03-24T00:00:00",
          "2023-03-27T00:00:00",
          "2023-03-28T00:00:00",
          "2023-03-29T00:00:00",
          "2023-03-30T00:00:00",
          "2023-03-31T00:00:00",
          "2023-04-03T00:00:00",
          "2023-04-04T00:00:00",
          "2023-04-05T00:00:00",
          "2023-04-06T00:00:00",
          "2023-04-10T00:00:00",
          "2023-04-11T00:00:00",
          "2023-04-12T00:00:00",
          "2023-04-13T00:00:00",
          "2023-04-14T00:00:00",
          "2023-04-17T00:00:00",
          "2023-04-18T00:00:00",
          "2023-04-19T00:00:00",
          "2023-04-20T00:00:00",
          "2023-04-21T00:00:00",
          "2023-04-24T00:00:00",
          "2023-04-25T00:00:00",
          "2023-04-26T00:00:00",
          "2023-04-27T00:00:00",
          "2023-04-28T00:00:00",
          "2023-05-01T00:00:00",
          "2023-05-02T00:00:00",
          "2023-05-03T00:00:00",
          "2023-05-04T00:00:00",
          "2023-05-05T00:00:00",
          "2023-05-08T00:00:00",
          "2023-05-09T00:00:00",
          "2023-05-10T00:00:00",
          "2023-05-11T00:00:00",
          "2023-05-12T00:00:00",
          "2023-05-15T00:00:00",
          "2023-05-16T00:00:00",
          "2023-05-17T00:00:00",
          "2023-05-18T00:00:00",
          "2023-05-19T00:00:00",
          "2023-05-22T00:00:00",
          "2023-05-23T00:00:00",
          "2023-05-24T00:00:00",
          "2023-05-25T00:00:00",
          "2023-05-26T00:00:00",
          "2023-05-30T00:00:00",
          "2023-05-31T00:00:00",
          "2023-06-01T00:00:00",
          "2023-06-02T00:00:00",
          "2023-06-05T00:00:00",
          "2023-06-06T00:00:00",
          "2023-06-07T00:00:00",
          "2023-06-08T00:00:00",
          "2023-06-09T00:00:00",
          "2023-06-12T00:00:00",
          "2023-06-13T00:00:00",
          "2023-06-14T00:00:00",
          "2023-06-15T00:00:00",
          "2023-06-16T00:00:00",
          "2023-06-20T00:00:00",
          "2023-06-21T00:00:00",
          "2023-06-22T00:00:00",
          "2023-06-23T00:00:00",
          "2023-06-26T00:00:00",
          "2023-06-27T00:00:00",
          "2023-06-28T00:00:00",
          "2023-06-29T00:00:00",
          "2023-06-30T00:00:00",
          "2023-07-03T00:00:00",
          "2023-07-05T00:00:00",
          "2023-07-06T00:00:00",
          "2023-07-07T00:00:00",
          "2023-07-10T00:00:00",
          "2023-07-11T00:00:00",
          "2023-07-12T00:00:00",
          "2023-07-13T00:00:00",
          "2023-07-14T00:00:00",
          "2023-07-17T00:00:00",
          "2023-07-18T00:00:00",
          "2023-07-19T00:00:00",
          "2023-07-20T00:00:00",
          "2023-07-21T00:00:00",
          "2023-07-24T00:00:00",
          "2023-07-25T00:00:00",
          "2023-07-26T00:00:00",
          "2023-07-27T00:00:00",
          "2023-07-28T00:00:00",
          "2023-07-31T00:00:00",
          "2023-08-01T00:00:00",
          "2023-08-02T00:00:00",
          "2023-08-03T00:00:00",
          "2023-08-04T00:00:00",
          "2023-08-07T00:00:00",
          "2023-08-08T00:00:00",
          "2023-08-09T00:00:00",
          "2023-08-10T00:00:00",
          "2023-08-11T00:00:00",
          "2023-08-14T00:00:00",
          "2023-08-15T00:00:00",
          "2023-08-16T00:00:00",
          "2023-08-17T00:00:00",
          "2023-08-18T00:00:00",
          "2023-08-21T00:00:00",
          "2023-08-22T00:00:00",
          "2023-08-23T00:00:00",
          "2023-08-24T00:00:00",
          "2023-08-25T00:00:00",
          "2023-08-28T00:00:00",
          "2023-08-29T00:00:00",
          "2023-08-30T00:00:00",
          "2023-08-31T00:00:00",
          "2023-09-01T00:00:00",
          "2023-09-05T00:00:00",
          "2023-09-06T00:00:00",
          "2023-09-07T00:00:00",
          "2023-09-08T00:00:00",
          "2023-09-11T00:00:00",
          "2023-09-12T00:00:00",
          "2023-09-13T00:00:00",
          "2023-09-14T00:00:00",
          "2023-09-15T00:00:00",
          "2023-09-18T00:00:00",
          "2023-09-19T00:00:00",
          "2023-09-20T00:00:00",
          "2023-09-21T00:00:00",
          "2023-09-22T00:00:00",
          "2023-09-25T00:00:00",
          "2023-09-26T00:00:00",
          "2023-09-27T00:00:00",
          "2023-09-28T00:00:00",
          "2023-09-29T00:00:00",
          "2023-10-02T00:00:00",
          "2023-10-03T00:00:00",
          "2023-10-04T00:00:00",
          "2023-10-05T00:00:00",
          "2023-10-06T00:00:00",
          "2023-10-09T00:00:00",
          "2023-10-10T00:00:00",
          "2023-10-11T00:00:00",
          "2023-10-12T00:00:00",
          "2023-10-13T00:00:00",
          "2023-10-16T00:00:00",
          "2023-10-17T00:00:00",
          "2023-10-18T00:00:00",
          "2023-10-19T00:00:00",
          "2023-10-20T00:00:00"
         ],
         "y": [
          239.80331420898438,
          244.8842315673828,
          248.2615966796875,
          229.10665893554688,
          224.58035278320312,
          233.61309814453125,
          229.9088897705078,
          225.98678588867188,
          217.99400329589844,
          212.19998168945312,
          219.27166748046875,
          225.6896514892578,
          226.6800994873047,
          222.36180114746094,
          240.6550750732422,
          244.7455596923828,
          239.23875427246094,
          239.6547393798828,
          240.0917510986328,
          240.04208374023438,
          239.58522033691406,
          240.4095916748047,
          243.36940002441406,
          245.90211486816406,
          245.81271362304688,
          240.12155151367188,
          238.7012481689453,
          253.41087341308594,
          252.9639129638672,
          253.29168701171875,
          248.50436401367188,
          243.45877075195312,
          242.71385192871094,
          245.7233123779297,
          243.75674438476562,
          250.79869079589844,
          255.17881774902344,
          255.47679138183594,
          247.32241821289062,
          243.03170776367188,
          238.82041931152344,
          240.16128540039062,
          242.77345275878906,
          236.57574462890625,
          237.11209106445312,
          235.35409545898438,
          232.9405517578125,
          239.3766326904297,
          238.1947021484375,
          237.95632934570312,
          227.54736328125,
          220.80335998535156,
          223.40560913085938,
          225.5807647705078,
          227.29904174804688,
          234.17214965820312,
          236.89356994628906,
          237.60870361328125,
          238.7211151123047,
          234.2118682861328,
          230.35816955566406,
          238.5919952392578,
          240.9359893798828,
          240.399658203125,
          238.97933959960938,
          246.3192596435547,
          246.47817993164062,
          241.06512451171875,
          246.13055419921875,
          251.0370635986328,
          262.8067321777344,
          256.59912109375,
          255.02980041503906,
          265.7467041015625,
          264.9223327636719,
          261.8334045410156,
          261.3169250488281,
          269.481201171875,
          270.32550048828125,
          268.164794921875,
          261.0255126953125,
          256.95306396484375,
          251.586181640625,
          250.43116760253906,
          253.67718505859375,
          248.15098571777344,
          249.0869598388672,
          248.35012817382812,
          245.21363830566406,
          250.0328826904297,
          254.1949462890625,
          255.76817321777344,
          253.05982971191406,
          252.61175537109375,
          251.23770141601562,
          247.523681640625,
          252.83082580566406,
          259.6713562011719,
          264.3013916015625,
          275.0152893066406,
          278.2314147949219,
          271.0622863769531,
          272.6056213378906,
          271.1220397949219,
          276.468994140625,
          279.36651611328125,
          275.1944885253906,
          274.0494384765625,
          279.3067626953125,
          282.8315734863281,
          287.0633544921875,
          285.9979553222656,
          285.9481506347656,
          283.1203308105469,
          290.34918212890625,
          288.148681640625,
          281.6168212890625,
          282.27398681640625,
          288.59674072265625,
          284.9126281738281,
          287.5611877441406,
          287.133056640625,
          287.21270751953125,
          284.8827209472656,
          284.5342712402344,
          280.5613708496094,
          274.2386474609375,
          294.10302734375,
          303.5224304199219,
          305.9420471191406,
          304.24932861328125,
          304.0999450683594,
          303.09429931640625,
          304.0999450683594,
          309.3175048828125,
          307.3260498046875,
          305.6831359863281,
          310.9703674316406,
          308.77978515625,
          307.64471435546875,
          308.1325988769531,
          310.4028015136719,
          313.33660888671875,
          317.8470458984375,
          317.66741943359375,
          320.5014343261719,
          314.59393310546875,
          313.1869201660156,
          325.2314147949219,
          332.18670654296875,
          330.5102233886719,
          327.6961975097656,
          331.8773193359375,
          334.6913757324219,
          335.2302551269531,
          332.9750061035156,
          322.69677734375,
          324.57281494140625,
          326.0995788574219,
          331.1488952636719,
          333.583740234375,
          336.6272888183594,
          347.36456298828125,
          341.6067199707031,
          337.3357849121094,
          332.8552551269531,
          338.9922790527344,
          334.3121643066406,
          327.90576171875,
          333.8631591796875,
          335.14044189453125,
          334.34210205078125,
          339.8205261230469,
          337.2759094238281,
          337.4355773925781,
          340.5489807128906,
          336.5075378417969,
          331.12890625,
          331.767578125,
          336.4875793457031,
          341.93603515625,
          344.5105895996094,
          344.99957275390625,
          358.73046875,
          354.3298034667969,
          346.13714599609375,
          343.043701171875,
          344.380859375,
          350.23846435546875,
          337.0563659667969,
          330.0212707519531,
          337.65509033203125,
          335.2102966308594,
          335.62939453125,
          326.8080749511719,
          325.9698486328125,
          327.0874938964844,
          329.41253662109375,
          325.3611145019531,
          321.5492248535156,
          322.2477111816406,
          320.331787109375,
          323.35540771484375,
          321.1799621582031,
          320.3999938964844,
          316.8800048828125,
          316.4800109863281,
          321.8800048828125,
          322.4599914550781,
          327,
          319.9700012207031,
          322.9800109863281,
          323.70001220703125,
          328.4100036621094,
          328.7900085449219,
          327.760009765625,
          328.6600036621094,
          333.54998779296875,
          332.8800048828125,
          329.9100036621094,
          334.2699890136719,
          337.94000244140625,
          331.7699890136719,
          336.05999755859375,
          338.70001220703125,
          330.2200012207031,
          329.05999755859375,
          328.6499938964844,
          320.7699890136719,
          319.5299987792969,
          317.010009765625,
          317.5400085449219,
          312.1400146484375,
          312.7900085449219,
          313.6400146484375,
          315.75,
          321.79998779296875,
          313.3900146484375,
          318.9599914550781,
          319.3599853515625,
          327.260009765625,
          329.82000732421875,
          328.3900146484375,
          332.4200134277344,
          331.1600036621094,
          327.7300109863281,
          332.6400146484375,
          332.05999755859375,
          330.1099853515625,
          331.32000732421875,
          326.6700134277344
         ]
        },
        {
         "name": "Rolling mean",
         "type": "scatter",
         "x": [
          "2022-10-21T00:00:00",
          "2022-10-24T00:00:00",
          "2022-10-25T00:00:00",
          "2022-10-26T00:00:00",
          "2022-10-27T00:00:00",
          "2022-10-28T00:00:00",
          "2022-10-31T00:00:00",
          "2022-11-01T00:00:00",
          "2022-11-02T00:00:00",
          "2022-11-03T00:00:00",
          "2022-11-04T00:00:00",
          "2022-11-07T00:00:00",
          "2022-11-08T00:00:00",
          "2022-11-09T00:00:00",
          "2022-11-10T00:00:00",
          "2022-11-11T00:00:00",
          "2022-11-14T00:00:00",
          "2022-11-15T00:00:00",
          "2022-11-16T00:00:00",
          "2022-11-17T00:00:00",
          "2022-11-18T00:00:00",
          "2022-11-21T00:00:00",
          "2022-11-22T00:00:00",
          "2022-11-23T00:00:00",
          "2022-11-25T00:00:00",
          "2022-11-28T00:00:00",
          "2022-11-29T00:00:00",
          "2022-11-30T00:00:00",
          "2022-12-01T00:00:00",
          "2022-12-02T00:00:00",
          "2022-12-05T00:00:00",
          "2022-12-06T00:00:00",
          "2022-12-07T00:00:00",
          "2022-12-08T00:00:00",
          "2022-12-09T00:00:00",
          "2022-12-12T00:00:00",
          "2022-12-13T00:00:00",
          "2022-12-14T00:00:00",
          "2022-12-15T00:00:00",
          "2022-12-16T00:00:00",
          "2022-12-19T00:00:00",
          "2022-12-20T00:00:00",
          "2022-12-21T00:00:00",
          "2022-12-22T00:00:00",
          "2022-12-23T00:00:00",
          "2022-12-27T00:00:00",
          "2022-12-28T00:00:00",
          "2022-12-29T00:00:00",
          "2022-12-30T00:00:00",
          "2023-01-03T00:00:00",
          "2023-01-04T00:00:00",
          "2023-01-05T00:00:00",
          "2023-01-06T00:00:00",
          "2023-01-09T00:00:00",
          "2023-01-10T00:00:00",
          "2023-01-11T00:00:00",
          "2023-01-12T00:00:00",
          "2023-01-13T00:00:00",
          "2023-01-17T00:00:00",
          "2023-01-18T00:00:00",
          "2023-01-19T00:00:00",
          "2023-01-20T00:00:00",
          "2023-01-23T00:00:00",
          "2023-01-24T00:00:00",
          "2023-01-25T00:00:00",
          "2023-01-26T00:00:00",
          "2023-01-27T00:00:00",
          "2023-01-30T00:00:00",
          "2023-01-31T00:00:00",
          "2023-02-01T00:00:00",
          "2023-02-02T00:00:00",
          "2023-02-03T00:00:00",
          "2023-02-06T00:00:00",
          "2023-02-07T00:00:00",
          "2023-02-08T00:00:00",
          "2023-02-09T00:00:00",
          "2023-02-10T00:00:00",
          "2023-02-13T00:00:00",
          "2023-02-14T00:00:00",
          "2023-02-15T00:00:00",
          "2023-02-16T00:00:00",
          "2023-02-17T00:00:00",
          "2023-02-21T00:00:00",
          "2023-02-22T00:00:00",
          "2023-02-23T00:00:00",
          "2023-02-24T00:00:00",
          "2023-02-27T00:00:00",
          "2023-02-28T00:00:00",
          "2023-03-01T00:00:00",
          "2023-03-02T00:00:00",
          "2023-03-03T00:00:00",
          "2023-03-06T00:00:00",
          "2023-03-07T00:00:00",
          "2023-03-08T00:00:00",
          "2023-03-09T00:00:00",
          "2023-03-10T00:00:00",
          "2023-03-13T00:00:00",
          "2023-03-14T00:00:00",
          "2023-03-15T00:00:00",
          "2023-03-16T00:00:00",
          "2023-03-17T00:00:00",
          "2023-03-20T00:00:00",
          "2023-03-21T00:00:00",
          "2023-03-22T00:00:00",
          "2023-03-23T00:00:00",
          "2023-03-24T00:00:00",
          "2023-03-27T00:00:00",
          "2023-03-28T00:00:00",
          "2023-03-29T00:00:00",
          "2023-03-30T00:00:00",
          "2023-03-31T00:00:00",
          "2023-04-03T00:00:00",
          "2023-04-04T00:00:00",
          "2023-04-05T00:00:00",
          "2023-04-06T00:00:00",
          "2023-04-10T00:00:00",
          "2023-04-11T00:00:00",
          "2023-04-12T00:00:00",
          "2023-04-13T00:00:00",
          "2023-04-14T00:00:00",
          "2023-04-17T00:00:00",
          "2023-04-18T00:00:00",
          "2023-04-19T00:00:00",
          "2023-04-20T00:00:00",
          "2023-04-21T00:00:00",
          "2023-04-24T00:00:00",
          "2023-04-25T00:00:00",
          "2023-04-26T00:00:00",
          "2023-04-27T00:00:00",
          "2023-04-28T00:00:00",
          "2023-05-01T00:00:00",
          "2023-05-02T00:00:00",
          "2023-05-03T00:00:00",
          "2023-05-04T00:00:00",
          "2023-05-05T00:00:00",
          "2023-05-08T00:00:00",
          "2023-05-09T00:00:00",
          "2023-05-10T00:00:00",
          "2023-05-11T00:00:00",
          "2023-05-12T00:00:00",
          "2023-05-15T00:00:00",
          "2023-05-16T00:00:00",
          "2023-05-17T00:00:00",
          "2023-05-18T00:00:00",
          "2023-05-19T00:00:00",
          "2023-05-22T00:00:00",
          "2023-05-23T00:00:00",
          "2023-05-24T00:00:00",
          "2023-05-25T00:00:00",
          "2023-05-26T00:00:00",
          "2023-05-30T00:00:00",
          "2023-05-31T00:00:00",
          "2023-06-01T00:00:00",
          "2023-06-02T00:00:00",
          "2023-06-05T00:00:00",
          "2023-06-06T00:00:00",
          "2023-06-07T00:00:00",
          "2023-06-08T00:00:00",
          "2023-06-09T00:00:00",
          "2023-06-12T00:00:00",
          "2023-06-13T00:00:00",
          "2023-06-14T00:00:00",
          "2023-06-15T00:00:00",
          "2023-06-16T00:00:00",
          "2023-06-20T00:00:00",
          "2023-06-21T00:00:00",
          "2023-06-22T00:00:00",
          "2023-06-23T00:00:00",
          "2023-06-26T00:00:00",
          "2023-06-27T00:00:00",
          "2023-06-28T00:00:00",
          "2023-06-29T00:00:00",
          "2023-06-30T00:00:00",
          "2023-07-03T00:00:00",
          "2023-07-05T00:00:00",
          "2023-07-06T00:00:00",
          "2023-07-07T00:00:00",
          "2023-07-10T00:00:00",
          "2023-07-11T00:00:00",
          "2023-07-12T00:00:00",
          "2023-07-13T00:00:00",
          "2023-07-14T00:00:00",
          "2023-07-17T00:00:00",
          "2023-07-18T00:00:00",
          "2023-07-19T00:00:00",
          "2023-07-20T00:00:00",
          "2023-07-21T00:00:00",
          "2023-07-24T00:00:00",
          "2023-07-25T00:00:00",
          "2023-07-26T00:00:00",
          "2023-07-27T00:00:00",
          "2023-07-28T00:00:00",
          "2023-07-31T00:00:00",
          "2023-08-01T00:00:00",
          "2023-08-02T00:00:00",
          "2023-08-03T00:00:00",
          "2023-08-04T00:00:00",
          "2023-08-07T00:00:00",
          "2023-08-08T00:00:00",
          "2023-08-09T00:00:00",
          "2023-08-10T00:00:00",
          "2023-08-11T00:00:00",
          "2023-08-14T00:00:00",
          "2023-08-15T00:00:00",
          "2023-08-16T00:00:00",
          "2023-08-17T00:00:00",
          "2023-08-18T00:00:00",
          "2023-08-21T00:00:00",
          "2023-08-22T00:00:00",
          "2023-08-23T00:00:00",
          "2023-08-24T00:00:00",
          "2023-08-25T00:00:00",
          "2023-08-28T00:00:00",
          "2023-08-29T00:00:00",
          "2023-08-30T00:00:00",
          "2023-08-31T00:00:00",
          "2023-09-01T00:00:00",
          "2023-09-05T00:00:00",
          "2023-09-06T00:00:00",
          "2023-09-07T00:00:00",
          "2023-09-08T00:00:00",
          "2023-09-11T00:00:00",
          "2023-09-12T00:00:00",
          "2023-09-13T00:00:00",
          "2023-09-14T00:00:00",
          "2023-09-15T00:00:00",
          "2023-09-18T00:00:00",
          "2023-09-19T00:00:00",
          "2023-09-20T00:00:00",
          "2023-09-21T00:00:00",
          "2023-09-22T00:00:00",
          "2023-09-25T00:00:00",
          "2023-09-26T00:00:00",
          "2023-09-27T00:00:00",
          "2023-09-28T00:00:00",
          "2023-09-29T00:00:00",
          "2023-10-02T00:00:00",
          "2023-10-03T00:00:00",
          "2023-10-04T00:00:00",
          "2023-10-05T00:00:00",
          "2023-10-06T00:00:00",
          "2023-10-09T00:00:00",
          "2023-10-10T00:00:00",
          "2023-10-11T00:00:00",
          "2023-10-12T00:00:00",
          "2023-10-13T00:00:00",
          "2023-10-16T00:00:00",
          "2023-10-17T00:00:00",
          "2023-10-18T00:00:00",
          "2023-10-19T00:00:00",
          "2023-10-20T00:00:00"
         ],
         "y": [
          null,
          null,
          null,
          null,
          237.32723083496094,
          236.0891876220703,
          233.0941192626953,
          228.6391571044922,
          226.4166259765625,
          223.9405517578125,
          221.072265625,
          220.22841796875,
          220.36708068847656,
          221.24064025878906,
          226.93165893554686,
          232.02643737792968,
          234.73625793457032,
          237.33118591308593,
          240.8771759033203,
          240.75457763671875,
          239.722509765625,
          239.95667724609376,
          240.699609375,
          241.86168212890624,
          243.01580810546875,
          243.12307434082032,
          242.78140563964843,
          244.78970031738282,
          246.20205993652343,
          247.6978546142578,
          249.37441711425782,
          250.32592163085937,
          248.18651733398437,
          246.73839721679687,
          244.83140869140624,
          245.29027404785157,
          247.63428344726563,
          250.18687133789064,
          250.5066925048828,
          250.36168518066407,
          247.96603088378907,
          244.9625244140625,
          242.42185668945314,
          240.27252197265625,
          239.0885986328125,
          238.39533386230468,
          236.95118713378906,
          236.27182312011718,
          236.59561462402343,
          236.76446228027345,
          235.20311584472657,
          232.7756774902344,
          229.58147277832032,
          227.05868530273438,
          224.92722778320314,
          226.25218505859374,
          229.47022705078126,
          232.31084594726562,
          234.938916015625,
          236.32148132324218,
          235.55868530273438,
          235.89837036132812,
          236.56382751464844,
          236.8995361328125,
          237.8530303955078,
          241.04524841308594,
          242.6224853515625,
          242.6483123779297,
          243.79449157714845,
          246.20603637695314,
          249.50353088378907,
          251.52771911621093,
          254.320654296875,
          258.24388427734374,
          261.02093811035155,
          260.82627258300784,
          261.76983337402345,
          264.6601135253906,
          265.57587280273435,
          266.224365234375,
          266.0627868652344,
          265.1900146484375,
          261.6110107421875,
          257.63214416503905,
          254.7346221923828,
          252.159716796875,
          250.58649597167968,
          249.9392852783203,
          248.89577941894532,
          248.1669189453125,
          249.3757110595703,
          250.71195373535156,
          251.65389404296874,
          253.13351745605468,
          253.37448120117188,
          252.04022827148438,
          251.4527587890625,
          252.77506408691406,
          255.1129913330078,
          259.86850891113284,
          266.0100555419922,
          269.65634765625,
          272.2432006835937,
          273.6073303222656,
          273.8980712890625,
          274.1250915527344,
          274.9515319824219,
          275.24029541015625,
          276.8772399902344,
          278.149755859375,
          279.6891235351562,
          281.8498168945313,
          284.22955932617185,
          284.9922729492188,
          286.49579467773435,
          286.7128601074219,
          285.8366333007813,
          285.1018005371094,
          286.19708251953125,
          285.1097717285156,
          284.9922729492188,
          286.09552001953125,
          287.08326416015626,
          286.3404602050781,
          286.26478881835936,
          284.8648254394531,
          282.28594360351565,
          283.66400756835935,
          287.39194946289064,
          291.6735046386719,
          296.4110961914063,
          302.38335571289065,
          304.1816101074219,
          304.2971130371094,
          304.9722045898437,
          305.587548828125,
          305.90418701171876,
          307.4794006347656,
          308.4153686523438,
          308.080810546875,
          308.24212036132815,
          309.18605346679686,
          309.6593017578125,
          311.47275390625,
          313.477294921875,
          315.95106201171876,
          316.78928833007814,
          316.7593505859375,
          318.23622436523436,
          321.14008178710935,
          323.1418395996094,
          325.7622924804688,
          329.5003723144531,
          331.3923645019531,
          332.00107421875,
          332.49403076171876,
          331.4941467285156,
          330.0332458496094,
          328.31488647460935,
          327.4986145019531,
          327.620361328125,
          330.4064636230469,
          334.9648132324219,
          338.0662414550781,
          339.3036193847656,
          339.1579223632813,
          339.63092041015625,
          337.02044067382815,
          334.2802490234375,
          333.5857238769531,
          334.0427612304687,
          333.11272583007815,
          334.2143981933594,
          336.088427734375,
          336.80291137695315,
          337.884619140625,
          338.3177062988281,
          336.5793823242187,
          335.47771606445315,
          335.2881164550781,
          335.56552734375,
          337.1661376953125,
          339.9402709960938,
          345.3328491210938,
          348.9012939453125,
          349.74151611328125,
          349.44813842773436,
          349.32439575195315,
          347.62599487304686,
          344.1713073730469,
          340.94813232421876,
          339.87041015625,
          338.0362976074219,
          335.11448364257814,
          333.0648254394531,
          332.254541015625,
          330.1410217285156,
          328.9814697265625,
          326.9278137207031,
          325.87604370117185,
          325.1316162109375,
          323.7804748535156,
          322.5690490722656,
          321.7328186035156,
          321.5029724121094,
          320.42943115234374,
          319.65907592773436,
          319.36399536132814,
          319.6200012207031,
          320.94000244140625,
          321.55800170898436,
          322.8580017089844,
          323.2220031738281,
          324.41200561523436,
          324.77000732421874,
          326.3280090332031,
          327.46400756835936,
          329.4340026855469,
          330.3280029296875,
          330.552001953125,
          331.8539978027344,
          333.7099975585937,
          333.3539978027344,
          333.9899963378906,
          335.747998046875,
          334.93800048828126,
          333.16199951171876,
          332.5380004882812,
          329.47999877929686,
          325.64599609375,
          323.0039978027344,
          320.7,
          317.39800415039065,
          315.8020080566406,
          314.62401123046874,
          314.37200927734375,
          315.2240051269531,
          315.4740051269531,
          316.7080017089844,
          317.85199584960935,
          320.15399780273435,
          321.75800170898435,
          324.75800170898435,
          327.45000610351565,
          329.810009765625,
          329.9040100097656,
          330.4680114746094,
          331.20200805664064,
          330.74000244140626,
          330.7720031738281,
          330.56000366210935
         ]
        }
       ],
       "layout": {
        "template": {
         "data": {
          "bar": [
           {
            "error_x": {
             "color": "#2a3f5f"
            },
            "error_y": {
             "color": "#2a3f5f"
            },
            "marker": {
             "line": {
              "color": "#E5ECF6",
              "width": 0.5
             },
             "pattern": {
              "fillmode": "overlay",
              "size": 10,
              "solidity": 0.2
             }
            },
            "type": "bar"
           }
          ],
          "barpolar": [
           {
            "marker": {
             "line": {
              "color": "#E5ECF6",
              "width": 0.5
             },
             "pattern": {
              "fillmode": "overlay",
              "size": 10,
              "solidity": 0.2
             }
            },
            "type": "barpolar"
           }
          ],
          "carpet": [
           {
            "aaxis": {
             "endlinecolor": "#2a3f5f",
             "gridcolor": "white",
             "linecolor": "white",
             "minorgridcolor": "white",
             "startlinecolor": "#2a3f5f"
            },
            "baxis": {
             "endlinecolor": "#2a3f5f",
             "gridcolor": "white",
             "linecolor": "white",
             "minorgridcolor": "white",
             "startlinecolor": "#2a3f5f"
            },
            "type": "carpet"
           }
          ],
          "choropleth": [
           {
            "colorbar": {
             "outlinewidth": 0,
             "ticks": ""
            },
            "type": "choropleth"
           }
          ],
          "contour": [
           {
            "colorbar": {
             "outlinewidth": 0,
             "ticks": ""
            },
            "colorscale": [
             [
              0,
              "#0d0887"
             ],
             [
              0.1111111111111111,
              "#46039f"
             ],
             [
              0.2222222222222222,
              "#7201a8"
             ],
             [
              0.3333333333333333,
              "#9c179e"
             ],
             [
              0.4444444444444444,
              "#bd3786"
             ],
             [
              0.5555555555555556,
              "#d8576b"
             ],
             [
              0.6666666666666666,
              "#ed7953"
             ],
             [
              0.7777777777777778,
              "#fb9f3a"
             ],
             [
              0.8888888888888888,
              "#fdca26"
             ],
             [
              1,
              "#f0f921"
             ]
            ],
            "type": "contour"
           }
          ],
          "contourcarpet": [
           {
            "colorbar": {
             "outlinewidth": 0,
             "ticks": ""
            },
            "type": "contourcarpet"
           }
          ],
          "heatmap": [
           {
            "colorbar": {
             "outlinewidth": 0,
             "ticks": ""
            },
            "colorscale": [
             [
              0,
              "#0d0887"
             ],
             [
              0.1111111111111111,
              "#46039f"
             ],
             [
              0.2222222222222222,
              "#7201a8"
             ],
             [
              0.3333333333333333,
              "#9c179e"
             ],
             [
              0.4444444444444444,
              "#bd3786"
             ],
             [
              0.5555555555555556,
              "#d8576b"
             ],
             [
              0.6666666666666666,
              "#ed7953"
             ],
             [
              0.7777777777777778,
              "#fb9f3a"
             ],
             [
              0.8888888888888888,
              "#fdca26"
             ],
             [
              1,
              "#f0f921"
             ]
            ],
            "type": "heatmap"
           }
          ],
          "heatmapgl": [
           {
            "colorbar": {
             "outlinewidth": 0,
             "ticks": ""
            },
            "colorscale": [
             [
              0,
              "#0d0887"
             ],
             [
              0.1111111111111111,
              "#46039f"
             ],
             [
              0.2222222222222222,
              "#7201a8"
             ],
             [
              0.3333333333333333,
              "#9c179e"
             ],
             [
              0.4444444444444444,
              "#bd3786"
             ],
             [
              0.5555555555555556,
              "#d8576b"
             ],
             [
              0.6666666666666666,
              "#ed7953"
             ],
             [
              0.7777777777777778,
              "#fb9f3a"
             ],
             [
              0.8888888888888888,
              "#fdca26"
             ],
             [
              1,
              "#f0f921"
             ]
            ],
            "type": "heatmapgl"
           }
          ],
          "histogram": [
           {
            "marker": {
             "pattern": {
              "fillmode": "overlay",
              "size": 10,
              "solidity": 0.2
             }
            },
            "type": "histogram"
           }
          ],
          "histogram2d": [
           {
            "colorbar": {
             "outlinewidth": 0,
             "ticks": ""
            },
            "colorscale": [
             [
              0,
              "#0d0887"
             ],
             [
              0.1111111111111111,
              "#46039f"
             ],
             [
              0.2222222222222222,
              "#7201a8"
             ],
             [
              0.3333333333333333,
              "#9c179e"
             ],
             [
              0.4444444444444444,
              "#bd3786"
             ],
             [
              0.5555555555555556,
              "#d8576b"
             ],
             [
              0.6666666666666666,
              "#ed7953"
             ],
             [
              0.7777777777777778,
              "#fb9f3a"
             ],
             [
              0.8888888888888888,
              "#fdca26"
             ],
             [
              1,
              "#f0f921"
             ]
            ],
            "type": "histogram2d"
           }
          ],
          "histogram2dcontour": [
           {
            "colorbar": {
             "outlinewidth": 0,
             "ticks": ""
            },
            "colorscale": [
             [
              0,
              "#0d0887"
             ],
             [
              0.1111111111111111,
              "#46039f"
             ],
             [
              0.2222222222222222,
              "#7201a8"
             ],
             [
              0.3333333333333333,
              "#9c179e"
             ],
             [
              0.4444444444444444,
              "#bd3786"
             ],
             [
              0.5555555555555556,
              "#d8576b"
             ],
             [
              0.6666666666666666,
              "#ed7953"
             ],
             [
              0.7777777777777778,
              "#fb9f3a"
             ],
             [
              0.8888888888888888,
              "#fdca26"
             ],
             [
              1,
              "#f0f921"
             ]
            ],
            "type": "histogram2dcontour"
           }
          ],
          "mesh3d": [
           {
            "colorbar": {
             "outlinewidth": 0,
             "ticks": ""
            },
            "type": "mesh3d"
           }
          ],
          "parcoords": [
           {
            "line": {
             "colorbar": {
              "outlinewidth": 0,
              "ticks": ""
             }
            },
            "type": "parcoords"
           }
          ],
          "pie": [
           {
            "automargin": true,
            "type": "pie"
           }
          ],
          "scatter": [
           {
            "fillpattern": {
             "fillmode": "overlay",
             "size": 10,
             "solidity": 0.2
            },
            "type": "scatter"
           }
          ],
          "scatter3d": [
           {
            "line": {
             "colorbar": {
              "outlinewidth": 0,
              "ticks": ""
             }
            },
            "marker": {
             "colorbar": {
              "outlinewidth": 0,
              "ticks": ""
             }
            },
            "type": "scatter3d"
           }
          ],
          "scattercarpet": [
           {
            "marker": {
             "colorbar": {
              "outlinewidth": 0,
              "ticks": ""
             }
            },
            "type": "scattercarpet"
           }
          ],
          "scattergeo": [
           {
            "marker": {
             "colorbar": {
              "outlinewidth": 0,
              "ticks": ""
             }
            },
            "type": "scattergeo"
           }
          ],
          "scattergl": [
           {
            "marker": {
             "colorbar": {
              "outlinewidth": 0,
              "ticks": ""
             }
            },
            "type": "scattergl"
           }
          ],
          "scattermapbox": [
           {
            "marker": {
             "colorbar": {
              "outlinewidth": 0,
              "ticks": ""
             }
            },
            "type": "scattermapbox"
           }
          ],
          "scatterpolar": [
           {
            "marker": {
             "colorbar": {
              "outlinewidth": 0,
              "ticks": ""
             }
            },
            "type": "scatterpolar"
           }
          ],
          "scatterpolargl": [
           {
            "marker": {
             "colorbar": {
              "outlinewidth": 0,
              "ticks": ""
             }
            },
            "type": "scatterpolargl"
           }
          ],
          "scatterternary": [
           {
            "marker": {
             "colorbar": {
              "outlinewidth": 0,
              "ticks": ""
             }
            },
            "type": "scatterternary"
           }
          ],
          "surface": [
           {
            "colorbar": {
             "outlinewidth": 0,
             "ticks": ""
            },
            "colorscale": [
             [
              0,
              "#0d0887"
             ],
             [
              0.1111111111111111,
              "#46039f"
             ],
             [
              0.2222222222222222,
              "#7201a8"
             ],
             [
              0.3333333333333333,
              "#9c179e"
             ],
             [
              0.4444444444444444,
              "#bd3786"
             ],
             [
              0.5555555555555556,
              "#d8576b"
             ],
             [
              0.6666666666666666,
              "#ed7953"
             ],
             [
              0.7777777777777778,
              "#fb9f3a"
             ],
             [
              0.8888888888888888,
              "#fdca26"
             ],
             [
              1,
              "#f0f921"
             ]
            ],
            "type": "surface"
           }
          ],
          "table": [
           {
            "cells": {
             "fill": {
              "color": "#EBF0F8"
             },
             "line": {
              "color": "white"
             }
            },
            "header": {
             "fill": {
              "color": "#C8D4E3"
             },
             "line": {
              "color": "white"
             }
            },
            "type": "table"
           }
          ]
         },
         "layout": {
          "annotationdefaults": {
           "arrowcolor": "#2a3f5f",
           "arrowhead": 0,
           "arrowwidth": 1
          },
          "autotypenumbers": "strict",
          "coloraxis": {
           "colorbar": {
            "outlinewidth": 0,
            "ticks": ""
           }
          },
          "colorscale": {
           "diverging": [
            [
             0,
             "#8e0152"
            ],
            [
             0.1,
             "#c51b7d"
            ],
            [
             0.2,
             "#de77ae"
            ],
            [
             0.3,
             "#f1b6da"
            ],
            [
             0.4,
             "#fde0ef"
            ],
            [
             0.5,
             "#f7f7f7"
            ],
            [
             0.6,
             "#e6f5d0"
            ],
            [
             0.7,
             "#b8e186"
            ],
            [
             0.8,
             "#7fbc41"
            ],
            [
             0.9,
             "#4d9221"
            ],
            [
             1,
             "#276419"
            ]
           ],
           "sequential": [
            [
             0,
             "#0d0887"
            ],
            [
             0.1111111111111111,
             "#46039f"
            ],
            [
             0.2222222222222222,
             "#7201a8"
            ],
            [
             0.3333333333333333,
             "#9c179e"
            ],
            [
             0.4444444444444444,
             "#bd3786"
            ],
            [
             0.5555555555555556,
             "#d8576b"
            ],
            [
             0.6666666666666666,
             "#ed7953"
            ],
            [
             0.7777777777777778,
             "#fb9f3a"
            ],
            [
             0.8888888888888888,
             "#fdca26"
            ],
            [
             1,
             "#f0f921"
            ]
           ],
           "sequentialminus": [
            [
             0,
             "#0d0887"
            ],
            [
             0.1111111111111111,
             "#46039f"
            ],
            [
             0.2222222222222222,
             "#7201a8"
            ],
            [
             0.3333333333333333,
             "#9c179e"
            ],
            [
             0.4444444444444444,
             "#bd3786"
            ],
            [
             0.5555555555555556,
             "#d8576b"
            ],
            [
             0.6666666666666666,
             "#ed7953"
            ],
            [
             0.7777777777777778,
             "#fb9f3a"
            ],
            [
             0.8888888888888888,
             "#fdca26"
            ],
            [
             1,
             "#f0f921"
            ]
           ]
          },
          "colorway": [
           "#636efa",
           "#EF553B",
           "#00cc96",
           "#ab63fa",
           "#FFA15A",
           "#19d3f3",
           "#FF6692",
           "#B6E880",
           "#FF97FF",
           "#FECB52"
          ],
          "font": {
           "color": "#2a3f5f"
          },
          "geo": {
           "bgcolor": "white",
           "lakecolor": "white",
           "landcolor": "#E5ECF6",
           "showlakes": true,
           "showland": true,
           "subunitcolor": "white"
          },
          "hoverlabel": {
           "align": "left"
          },
          "hovermode": "closest",
          "mapbox": {
           "style": "light"
          },
          "paper_bgcolor": "white",
          "plot_bgcolor": "#E5ECF6",
          "polar": {
           "angularaxis": {
            "gridcolor": "white",
            "linecolor": "white",
            "ticks": ""
           },
           "bgcolor": "#E5ECF6",
           "radialaxis": {
            "gridcolor": "white",
            "linecolor": "white",
            "ticks": ""
           }
          },
          "scene": {
           "xaxis": {
            "backgroundcolor": "#E5ECF6",
            "gridcolor": "white",
            "gridwidth": 2,
            "linecolor": "white",
            "showbackground": true,
            "ticks": "",
            "zerolinecolor": "white"
           },
           "yaxis": {
            "backgroundcolor": "#E5ECF6",
            "gridcolor": "white",
            "gridwidth": 2,
            "linecolor": "white",
            "showbackground": true,
            "ticks": "",
            "zerolinecolor": "white"
           },
           "zaxis": {
            "backgroundcolor": "#E5ECF6",
            "gridcolor": "white",
            "gridwidth": 2,
            "linecolor": "white",
            "showbackground": true,
            "ticks": "",
            "zerolinecolor": "white"
           }
          },
          "shapedefaults": {
           "line": {
            "color": "#2a3f5f"
           }
          },
          "ternary": {
           "aaxis": {
            "gridcolor": "white",
            "linecolor": "white",
            "ticks": ""
           },
           "baxis": {
            "gridcolor": "white",
            "linecolor": "white",
            "ticks": ""
           },
           "bgcolor": "#E5ECF6",
           "caxis": {
            "gridcolor": "white",
            "linecolor": "white",
            "ticks": ""
           }
          },
          "title": {
           "x": 0.05
          },
          "xaxis": {
           "automargin": true,
           "gridcolor": "white",
           "linecolor": "white",
           "ticks": "",
           "title": {
            "standoff": 15
           },
           "zerolinecolor": "white",
           "zerolinewidth": 2
          },
          "yaxis": {
           "automargin": true,
           "gridcolor": "white",
           "linecolor": "white",
           "ticks": "",
           "title": {
            "standoff": 15
           },
           "zerolinecolor": "white",
           "zerolinewidth": 2
          }
         }
        },
        "title": {
         "text": "Stock price of MSFT"
        },
        "xaxis": {
         "dtick": 100,
         "rangeslider": {
          "visible": true
         },
         "tickformat": "%d, %Y",
         "type": "category"
        }
       }
      }
     },
     "metadata": {},
     "output_type": "display_data"
    }
   ],
   "source": [
    "# Plot rolling mean\n",
    "stock_data[\"rolling mean\"] = rolling_mean\n",
    "\n",
    "fig = go.Figure()\n",
    "fig.add_trace(go.Scatter(x=stock_data.index,y=stock_data[\"Adj Close\"], name=TICKER))\n",
    "fig.add_trace(go.Scatter(x=stock_data.index,y=stock_data[\"rolling mean\"], name = \"Rolling mean\"))\n",
    "\n",
    "fig.update_layout(title=f\"Stock price of {TICKER}\", \n",
    "                  xaxis=dict(rangeslider=dict(visible=True),type=\"category\",tickformat = \"%d, %Y\", dtick = 100)\n",
    "                  )\n",
    "\n",
    "fig.show()"
   ]
  },
  {
   "cell_type": "markdown",
   "metadata": {},
   "source": [
    "Mean reversion strategies rely on the fact that the stock price should always return to the mean at some point, If we buy below the mean and sell above the mean we can hope to make profit, the further the stock price moves from the mean the more likely you are to take a profit as it is more likely to go back. However we cant do this every time it drops below otherwise we will incur trading fees larger than the stock movement so the differnece has to be large enough but the larger the difference the less likely it is to occur as stock price movements are normally distributed.\n",
    "\n",
    "To create the bands that to trade at create two new columns called `\"high\"` and `\"low\"`. This is done by assignment like its a dictionary.\n",
    "\n",
    "```python\n",
    "data[\"test\"] = 60 * 1.02\n",
    "```\n",
    "\n",
    "Our high and low bands will be defined as a percentage of the rolling mean. Pandas applies the math to all rows so you dont need to iterate over the rows."
   ]
  },
  {
   "cell_type": "code",
   "execution_count": 197,
   "metadata": {},
   "outputs": [
    {
     "data": {
      "text/html": [
       "<div>\n",
       "<style scoped>\n",
       "    .dataframe tbody tr th:only-of-type {\n",
       "        vertical-align: middle;\n",
       "    }\n",
       "\n",
       "    .dataframe tbody tr th {\n",
       "        vertical-align: top;\n",
       "    }\n",
       "\n",
       "    .dataframe thead th {\n",
       "        text-align: right;\n",
       "    }\n",
       "</style>\n",
       "<table border=\"1\" class=\"dataframe\">\n",
       "  <thead>\n",
       "    <tr style=\"text-align: right;\">\n",
       "      <th></th>\n",
       "      <th>Adj Close</th>\n",
       "      <th>rolling mean</th>\n",
       "      <th>high</th>\n",
       "      <th>low</th>\n",
       "    </tr>\n",
       "    <tr>\n",
       "      <th>Date</th>\n",
       "      <th></th>\n",
       "      <th></th>\n",
       "      <th></th>\n",
       "      <th></th>\n",
       "    </tr>\n",
       "  </thead>\n",
       "  <tbody>\n",
       "    <tr>\n",
       "      <th>2022-10-21</th>\n",
       "      <td>239.803314</td>\n",
       "      <td>NaN</td>\n",
       "      <td>NaN</td>\n",
       "      <td>NaN</td>\n",
       "    </tr>\n",
       "    <tr>\n",
       "      <th>2022-10-24</th>\n",
       "      <td>244.884232</td>\n",
       "      <td>NaN</td>\n",
       "      <td>NaN</td>\n",
       "      <td>NaN</td>\n",
       "    </tr>\n",
       "    <tr>\n",
       "      <th>2022-10-25</th>\n",
       "      <td>248.261597</td>\n",
       "      <td>NaN</td>\n",
       "      <td>NaN</td>\n",
       "      <td>NaN</td>\n",
       "    </tr>\n",
       "    <tr>\n",
       "      <th>2022-10-26</th>\n",
       "      <td>229.106659</td>\n",
       "      <td>NaN</td>\n",
       "      <td>NaN</td>\n",
       "      <td>NaN</td>\n",
       "    </tr>\n",
       "    <tr>\n",
       "      <th>2022-10-27</th>\n",
       "      <td>224.580353</td>\n",
       "      <td>237.327231</td>\n",
       "      <td>242.073775</td>\n",
       "      <td>232.580686</td>\n",
       "    </tr>\n",
       "    <tr>\n",
       "      <th>...</th>\n",
       "      <td>...</td>\n",
       "      <td>...</td>\n",
       "      <td>...</td>\n",
       "      <td>...</td>\n",
       "    </tr>\n",
       "    <tr>\n",
       "      <th>2023-10-16</th>\n",
       "      <td>332.640015</td>\n",
       "      <td>330.468011</td>\n",
       "      <td>337.077372</td>\n",
       "      <td>323.858651</td>\n",
       "    </tr>\n",
       "    <tr>\n",
       "      <th>2023-10-17</th>\n",
       "      <td>332.059998</td>\n",
       "      <td>331.202008</td>\n",
       "      <td>337.826048</td>\n",
       "      <td>324.577968</td>\n",
       "    </tr>\n",
       "    <tr>\n",
       "      <th>2023-10-18</th>\n",
       "      <td>330.109985</td>\n",
       "      <td>330.740002</td>\n",
       "      <td>337.354802</td>\n",
       "      <td>324.125202</td>\n",
       "    </tr>\n",
       "    <tr>\n",
       "      <th>2023-10-19</th>\n",
       "      <td>331.320007</td>\n",
       "      <td>330.772003</td>\n",
       "      <td>337.387443</td>\n",
       "      <td>324.156563</td>\n",
       "    </tr>\n",
       "    <tr>\n",
       "      <th>2023-10-20</th>\n",
       "      <td>326.670013</td>\n",
       "      <td>330.560004</td>\n",
       "      <td>337.171204</td>\n",
       "      <td>323.948804</td>\n",
       "    </tr>\n",
       "  </tbody>\n",
       "</table>\n",
       "<p>251 rows × 4 columns</p>\n",
       "</div>"
      ],
      "text/plain": [
       "             Adj Close  rolling mean        high         low\n",
       "Date                                                        \n",
       "2022-10-21  239.803314           NaN         NaN         NaN\n",
       "2022-10-24  244.884232           NaN         NaN         NaN\n",
       "2022-10-25  248.261597           NaN         NaN         NaN\n",
       "2022-10-26  229.106659           NaN         NaN         NaN\n",
       "2022-10-27  224.580353    237.327231  242.073775  232.580686\n",
       "...                ...           ...         ...         ...\n",
       "2023-10-16  332.640015    330.468011  337.077372  323.858651\n",
       "2023-10-17  332.059998    331.202008  337.826048  324.577968\n",
       "2023-10-18  330.109985    330.740002  337.354802  324.125202\n",
       "2023-10-19  331.320007    330.772003  337.387443  324.156563\n",
       "2023-10-20  326.670013    330.560004  337.171204  323.948804\n",
       "\n",
       "[251 rows x 4 columns]"
      ]
     },
     "execution_count": 197,
     "metadata": {},
     "output_type": "execute_result"
    }
   ],
   "source": [
    "stock_data[\"high\"] = stock_data[\"rolling mean\"] * 1.02\n",
    "stock_data[\"low\"] = stock_data[\"rolling mean\"] * 0.98\n",
    "stock_data"
   ]
  },
  {
   "cell_type": "code",
   "execution_count": 198,
   "metadata": {},
   "outputs": [
    {
     "data": {
      "application/vnd.plotly.v1+json": {
       "config": {
        "plotlyServerURL": "https://plot.ly"
       },
       "data": [
        {
         "name": "MSFT",
         "type": "scatter",
         "x": [
          "2022-10-21T00:00:00",
          "2022-10-24T00:00:00",
          "2022-10-25T00:00:00",
          "2022-10-26T00:00:00",
          "2022-10-27T00:00:00",
          "2022-10-28T00:00:00",
          "2022-10-31T00:00:00",
          "2022-11-01T00:00:00",
          "2022-11-02T00:00:00",
          "2022-11-03T00:00:00",
          "2022-11-04T00:00:00",
          "2022-11-07T00:00:00",
          "2022-11-08T00:00:00",
          "2022-11-09T00:00:00",
          "2022-11-10T00:00:00",
          "2022-11-11T00:00:00",
          "2022-11-14T00:00:00",
          "2022-11-15T00:00:00",
          "2022-11-16T00:00:00",
          "2022-11-17T00:00:00",
          "2022-11-18T00:00:00",
          "2022-11-21T00:00:00",
          "2022-11-22T00:00:00",
          "2022-11-23T00:00:00",
          "2022-11-25T00:00:00",
          "2022-11-28T00:00:00",
          "2022-11-29T00:00:00",
          "2022-11-30T00:00:00",
          "2022-12-01T00:00:00",
          "2022-12-02T00:00:00",
          "2022-12-05T00:00:00",
          "2022-12-06T00:00:00",
          "2022-12-07T00:00:00",
          "2022-12-08T00:00:00",
          "2022-12-09T00:00:00",
          "2022-12-12T00:00:00",
          "2022-12-13T00:00:00",
          "2022-12-14T00:00:00",
          "2022-12-15T00:00:00",
          "2022-12-16T00:00:00",
          "2022-12-19T00:00:00",
          "2022-12-20T00:00:00",
          "2022-12-21T00:00:00",
          "2022-12-22T00:00:00",
          "2022-12-23T00:00:00",
          "2022-12-27T00:00:00",
          "2022-12-28T00:00:00",
          "2022-12-29T00:00:00",
          "2022-12-30T00:00:00",
          "2023-01-03T00:00:00",
          "2023-01-04T00:00:00",
          "2023-01-05T00:00:00",
          "2023-01-06T00:00:00",
          "2023-01-09T00:00:00",
          "2023-01-10T00:00:00",
          "2023-01-11T00:00:00",
          "2023-01-12T00:00:00",
          "2023-01-13T00:00:00",
          "2023-01-17T00:00:00",
          "2023-01-18T00:00:00",
          "2023-01-19T00:00:00",
          "2023-01-20T00:00:00",
          "2023-01-23T00:00:00",
          "2023-01-24T00:00:00",
          "2023-01-25T00:00:00",
          "2023-01-26T00:00:00",
          "2023-01-27T00:00:00",
          "2023-01-30T00:00:00",
          "2023-01-31T00:00:00",
          "2023-02-01T00:00:00",
          "2023-02-02T00:00:00",
          "2023-02-03T00:00:00",
          "2023-02-06T00:00:00",
          "2023-02-07T00:00:00",
          "2023-02-08T00:00:00",
          "2023-02-09T00:00:00",
          "2023-02-10T00:00:00",
          "2023-02-13T00:00:00",
          "2023-02-14T00:00:00",
          "2023-02-15T00:00:00",
          "2023-02-16T00:00:00",
          "2023-02-17T00:00:00",
          "2023-02-21T00:00:00",
          "2023-02-22T00:00:00",
          "2023-02-23T00:00:00",
          "2023-02-24T00:00:00",
          "2023-02-27T00:00:00",
          "2023-02-28T00:00:00",
          "2023-03-01T00:00:00",
          "2023-03-02T00:00:00",
          "2023-03-03T00:00:00",
          "2023-03-06T00:00:00",
          "2023-03-07T00:00:00",
          "2023-03-08T00:00:00",
          "2023-03-09T00:00:00",
          "2023-03-10T00:00:00",
          "2023-03-13T00:00:00",
          "2023-03-14T00:00:00",
          "2023-03-15T00:00:00",
          "2023-03-16T00:00:00",
          "2023-03-17T00:00:00",
          "2023-03-20T00:00:00",
          "2023-03-21T00:00:00",
          "2023-03-22T00:00:00",
          "2023-03-23T00:00:00",
          "2023-03-24T00:00:00",
          "2023-03-27T00:00:00",
          "2023-03-28T00:00:00",
          "2023-03-29T00:00:00",
          "2023-03-30T00:00:00",
          "2023-03-31T00:00:00",
          "2023-04-03T00:00:00",
          "2023-04-04T00:00:00",
          "2023-04-05T00:00:00",
          "2023-04-06T00:00:00",
          "2023-04-10T00:00:00",
          "2023-04-11T00:00:00",
          "2023-04-12T00:00:00",
          "2023-04-13T00:00:00",
          "2023-04-14T00:00:00",
          "2023-04-17T00:00:00",
          "2023-04-18T00:00:00",
          "2023-04-19T00:00:00",
          "2023-04-20T00:00:00",
          "2023-04-21T00:00:00",
          "2023-04-24T00:00:00",
          "2023-04-25T00:00:00",
          "2023-04-26T00:00:00",
          "2023-04-27T00:00:00",
          "2023-04-28T00:00:00",
          "2023-05-01T00:00:00",
          "2023-05-02T00:00:00",
          "2023-05-03T00:00:00",
          "2023-05-04T00:00:00",
          "2023-05-05T00:00:00",
          "2023-05-08T00:00:00",
          "2023-05-09T00:00:00",
          "2023-05-10T00:00:00",
          "2023-05-11T00:00:00",
          "2023-05-12T00:00:00",
          "2023-05-15T00:00:00",
          "2023-05-16T00:00:00",
          "2023-05-17T00:00:00",
          "2023-05-18T00:00:00",
          "2023-05-19T00:00:00",
          "2023-05-22T00:00:00",
          "2023-05-23T00:00:00",
          "2023-05-24T00:00:00",
          "2023-05-25T00:00:00",
          "2023-05-26T00:00:00",
          "2023-05-30T00:00:00",
          "2023-05-31T00:00:00",
          "2023-06-01T00:00:00",
          "2023-06-02T00:00:00",
          "2023-06-05T00:00:00",
          "2023-06-06T00:00:00",
          "2023-06-07T00:00:00",
          "2023-06-08T00:00:00",
          "2023-06-09T00:00:00",
          "2023-06-12T00:00:00",
          "2023-06-13T00:00:00",
          "2023-06-14T00:00:00",
          "2023-06-15T00:00:00",
          "2023-06-16T00:00:00",
          "2023-06-20T00:00:00",
          "2023-06-21T00:00:00",
          "2023-06-22T00:00:00",
          "2023-06-23T00:00:00",
          "2023-06-26T00:00:00",
          "2023-06-27T00:00:00",
          "2023-06-28T00:00:00",
          "2023-06-29T00:00:00",
          "2023-06-30T00:00:00",
          "2023-07-03T00:00:00",
          "2023-07-05T00:00:00",
          "2023-07-06T00:00:00",
          "2023-07-07T00:00:00",
          "2023-07-10T00:00:00",
          "2023-07-11T00:00:00",
          "2023-07-12T00:00:00",
          "2023-07-13T00:00:00",
          "2023-07-14T00:00:00",
          "2023-07-17T00:00:00",
          "2023-07-18T00:00:00",
          "2023-07-19T00:00:00",
          "2023-07-20T00:00:00",
          "2023-07-21T00:00:00",
          "2023-07-24T00:00:00",
          "2023-07-25T00:00:00",
          "2023-07-26T00:00:00",
          "2023-07-27T00:00:00",
          "2023-07-28T00:00:00",
          "2023-07-31T00:00:00",
          "2023-08-01T00:00:00",
          "2023-08-02T00:00:00",
          "2023-08-03T00:00:00",
          "2023-08-04T00:00:00",
          "2023-08-07T00:00:00",
          "2023-08-08T00:00:00",
          "2023-08-09T00:00:00",
          "2023-08-10T00:00:00",
          "2023-08-11T00:00:00",
          "2023-08-14T00:00:00",
          "2023-08-15T00:00:00",
          "2023-08-16T00:00:00",
          "2023-08-17T00:00:00",
          "2023-08-18T00:00:00",
          "2023-08-21T00:00:00",
          "2023-08-22T00:00:00",
          "2023-08-23T00:00:00",
          "2023-08-24T00:00:00",
          "2023-08-25T00:00:00",
          "2023-08-28T00:00:00",
          "2023-08-29T00:00:00",
          "2023-08-30T00:00:00",
          "2023-08-31T00:00:00",
          "2023-09-01T00:00:00",
          "2023-09-05T00:00:00",
          "2023-09-06T00:00:00",
          "2023-09-07T00:00:00",
          "2023-09-08T00:00:00",
          "2023-09-11T00:00:00",
          "2023-09-12T00:00:00",
          "2023-09-13T00:00:00",
          "2023-09-14T00:00:00",
          "2023-09-15T00:00:00",
          "2023-09-18T00:00:00",
          "2023-09-19T00:00:00",
          "2023-09-20T00:00:00",
          "2023-09-21T00:00:00",
          "2023-09-22T00:00:00",
          "2023-09-25T00:00:00",
          "2023-09-26T00:00:00",
          "2023-09-27T00:00:00",
          "2023-09-28T00:00:00",
          "2023-09-29T00:00:00",
          "2023-10-02T00:00:00",
          "2023-10-03T00:00:00",
          "2023-10-04T00:00:00",
          "2023-10-05T00:00:00",
          "2023-10-06T00:00:00",
          "2023-10-09T00:00:00",
          "2023-10-10T00:00:00",
          "2023-10-11T00:00:00",
          "2023-10-12T00:00:00",
          "2023-10-13T00:00:00",
          "2023-10-16T00:00:00",
          "2023-10-17T00:00:00",
          "2023-10-18T00:00:00",
          "2023-10-19T00:00:00",
          "2023-10-20T00:00:00"
         ],
         "y": [
          239.80331420898438,
          244.8842315673828,
          248.2615966796875,
          229.10665893554688,
          224.58035278320312,
          233.61309814453125,
          229.9088897705078,
          225.98678588867188,
          217.99400329589844,
          212.19998168945312,
          219.27166748046875,
          225.6896514892578,
          226.6800994873047,
          222.36180114746094,
          240.6550750732422,
          244.7455596923828,
          239.23875427246094,
          239.6547393798828,
          240.0917510986328,
          240.04208374023438,
          239.58522033691406,
          240.4095916748047,
          243.36940002441406,
          245.90211486816406,
          245.81271362304688,
          240.12155151367188,
          238.7012481689453,
          253.41087341308594,
          252.9639129638672,
          253.29168701171875,
          248.50436401367188,
          243.45877075195312,
          242.71385192871094,
          245.7233123779297,
          243.75674438476562,
          250.79869079589844,
          255.17881774902344,
          255.47679138183594,
          247.32241821289062,
          243.03170776367188,
          238.82041931152344,
          240.16128540039062,
          242.77345275878906,
          236.57574462890625,
          237.11209106445312,
          235.35409545898438,
          232.9405517578125,
          239.3766326904297,
          238.1947021484375,
          237.95632934570312,
          227.54736328125,
          220.80335998535156,
          223.40560913085938,
          225.5807647705078,
          227.29904174804688,
          234.17214965820312,
          236.89356994628906,
          237.60870361328125,
          238.7211151123047,
          234.2118682861328,
          230.35816955566406,
          238.5919952392578,
          240.9359893798828,
          240.399658203125,
          238.97933959960938,
          246.3192596435547,
          246.47817993164062,
          241.06512451171875,
          246.13055419921875,
          251.0370635986328,
          262.8067321777344,
          256.59912109375,
          255.02980041503906,
          265.7467041015625,
          264.9223327636719,
          261.8334045410156,
          261.3169250488281,
          269.481201171875,
          270.32550048828125,
          268.164794921875,
          261.0255126953125,
          256.95306396484375,
          251.586181640625,
          250.43116760253906,
          253.67718505859375,
          248.15098571777344,
          249.0869598388672,
          248.35012817382812,
          245.21363830566406,
          250.0328826904297,
          254.1949462890625,
          255.76817321777344,
          253.05982971191406,
          252.61175537109375,
          251.23770141601562,
          247.523681640625,
          252.83082580566406,
          259.6713562011719,
          264.3013916015625,
          275.0152893066406,
          278.2314147949219,
          271.0622863769531,
          272.6056213378906,
          271.1220397949219,
          276.468994140625,
          279.36651611328125,
          275.1944885253906,
          274.0494384765625,
          279.3067626953125,
          282.8315734863281,
          287.0633544921875,
          285.9979553222656,
          285.9481506347656,
          283.1203308105469,
          290.34918212890625,
          288.148681640625,
          281.6168212890625,
          282.27398681640625,
          288.59674072265625,
          284.9126281738281,
          287.5611877441406,
          287.133056640625,
          287.21270751953125,
          284.8827209472656,
          284.5342712402344,
          280.5613708496094,
          274.2386474609375,
          294.10302734375,
          303.5224304199219,
          305.9420471191406,
          304.24932861328125,
          304.0999450683594,
          303.09429931640625,
          304.0999450683594,
          309.3175048828125,
          307.3260498046875,
          305.6831359863281,
          310.9703674316406,
          308.77978515625,
          307.64471435546875,
          308.1325988769531,
          310.4028015136719,
          313.33660888671875,
          317.8470458984375,
          317.66741943359375,
          320.5014343261719,
          314.59393310546875,
          313.1869201660156,
          325.2314147949219,
          332.18670654296875,
          330.5102233886719,
          327.6961975097656,
          331.8773193359375,
          334.6913757324219,
          335.2302551269531,
          332.9750061035156,
          322.69677734375,
          324.57281494140625,
          326.0995788574219,
          331.1488952636719,
          333.583740234375,
          336.6272888183594,
          347.36456298828125,
          341.6067199707031,
          337.3357849121094,
          332.8552551269531,
          338.9922790527344,
          334.3121643066406,
          327.90576171875,
          333.8631591796875,
          335.14044189453125,
          334.34210205078125,
          339.8205261230469,
          337.2759094238281,
          337.4355773925781,
          340.5489807128906,
          336.5075378417969,
          331.12890625,
          331.767578125,
          336.4875793457031,
          341.93603515625,
          344.5105895996094,
          344.99957275390625,
          358.73046875,
          354.3298034667969,
          346.13714599609375,
          343.043701171875,
          344.380859375,
          350.23846435546875,
          337.0563659667969,
          330.0212707519531,
          337.65509033203125,
          335.2102966308594,
          335.62939453125,
          326.8080749511719,
          325.9698486328125,
          327.0874938964844,
          329.41253662109375,
          325.3611145019531,
          321.5492248535156,
          322.2477111816406,
          320.331787109375,
          323.35540771484375,
          321.1799621582031,
          320.3999938964844,
          316.8800048828125,
          316.4800109863281,
          321.8800048828125,
          322.4599914550781,
          327,
          319.9700012207031,
          322.9800109863281,
          323.70001220703125,
          328.4100036621094,
          328.7900085449219,
          327.760009765625,
          328.6600036621094,
          333.54998779296875,
          332.8800048828125,
          329.9100036621094,
          334.2699890136719,
          337.94000244140625,
          331.7699890136719,
          336.05999755859375,
          338.70001220703125,
          330.2200012207031,
          329.05999755859375,
          328.6499938964844,
          320.7699890136719,
          319.5299987792969,
          317.010009765625,
          317.5400085449219,
          312.1400146484375,
          312.7900085449219,
          313.6400146484375,
          315.75,
          321.79998779296875,
          313.3900146484375,
          318.9599914550781,
          319.3599853515625,
          327.260009765625,
          329.82000732421875,
          328.3900146484375,
          332.4200134277344,
          331.1600036621094,
          327.7300109863281,
          332.6400146484375,
          332.05999755859375,
          330.1099853515625,
          331.32000732421875,
          326.6700134277344
         ]
        },
        {
         "name": "mean",
         "type": "scatter",
         "x": [
          "2022-10-21T00:00:00",
          "2022-10-24T00:00:00",
          "2022-10-25T00:00:00",
          "2022-10-26T00:00:00",
          "2022-10-27T00:00:00",
          "2022-10-28T00:00:00",
          "2022-10-31T00:00:00",
          "2022-11-01T00:00:00",
          "2022-11-02T00:00:00",
          "2022-11-03T00:00:00",
          "2022-11-04T00:00:00",
          "2022-11-07T00:00:00",
          "2022-11-08T00:00:00",
          "2022-11-09T00:00:00",
          "2022-11-10T00:00:00",
          "2022-11-11T00:00:00",
          "2022-11-14T00:00:00",
          "2022-11-15T00:00:00",
          "2022-11-16T00:00:00",
          "2022-11-17T00:00:00",
          "2022-11-18T00:00:00",
          "2022-11-21T00:00:00",
          "2022-11-22T00:00:00",
          "2022-11-23T00:00:00",
          "2022-11-25T00:00:00",
          "2022-11-28T00:00:00",
          "2022-11-29T00:00:00",
          "2022-11-30T00:00:00",
          "2022-12-01T00:00:00",
          "2022-12-02T00:00:00",
          "2022-12-05T00:00:00",
          "2022-12-06T00:00:00",
          "2022-12-07T00:00:00",
          "2022-12-08T00:00:00",
          "2022-12-09T00:00:00",
          "2022-12-12T00:00:00",
          "2022-12-13T00:00:00",
          "2022-12-14T00:00:00",
          "2022-12-15T00:00:00",
          "2022-12-16T00:00:00",
          "2022-12-19T00:00:00",
          "2022-12-20T00:00:00",
          "2022-12-21T00:00:00",
          "2022-12-22T00:00:00",
          "2022-12-23T00:00:00",
          "2022-12-27T00:00:00",
          "2022-12-28T00:00:00",
          "2022-12-29T00:00:00",
          "2022-12-30T00:00:00",
          "2023-01-03T00:00:00",
          "2023-01-04T00:00:00",
          "2023-01-05T00:00:00",
          "2023-01-06T00:00:00",
          "2023-01-09T00:00:00",
          "2023-01-10T00:00:00",
          "2023-01-11T00:00:00",
          "2023-01-12T00:00:00",
          "2023-01-13T00:00:00",
          "2023-01-17T00:00:00",
          "2023-01-18T00:00:00",
          "2023-01-19T00:00:00",
          "2023-01-20T00:00:00",
          "2023-01-23T00:00:00",
          "2023-01-24T00:00:00",
          "2023-01-25T00:00:00",
          "2023-01-26T00:00:00",
          "2023-01-27T00:00:00",
          "2023-01-30T00:00:00",
          "2023-01-31T00:00:00",
          "2023-02-01T00:00:00",
          "2023-02-02T00:00:00",
          "2023-02-03T00:00:00",
          "2023-02-06T00:00:00",
          "2023-02-07T00:00:00",
          "2023-02-08T00:00:00",
          "2023-02-09T00:00:00",
          "2023-02-10T00:00:00",
          "2023-02-13T00:00:00",
          "2023-02-14T00:00:00",
          "2023-02-15T00:00:00",
          "2023-02-16T00:00:00",
          "2023-02-17T00:00:00",
          "2023-02-21T00:00:00",
          "2023-02-22T00:00:00",
          "2023-02-23T00:00:00",
          "2023-02-24T00:00:00",
          "2023-02-27T00:00:00",
          "2023-02-28T00:00:00",
          "2023-03-01T00:00:00",
          "2023-03-02T00:00:00",
          "2023-03-03T00:00:00",
          "2023-03-06T00:00:00",
          "2023-03-07T00:00:00",
          "2023-03-08T00:00:00",
          "2023-03-09T00:00:00",
          "2023-03-10T00:00:00",
          "2023-03-13T00:00:00",
          "2023-03-14T00:00:00",
          "2023-03-15T00:00:00",
          "2023-03-16T00:00:00",
          "2023-03-17T00:00:00",
          "2023-03-20T00:00:00",
          "2023-03-21T00:00:00",
          "2023-03-22T00:00:00",
          "2023-03-23T00:00:00",
          "2023-03-24T00:00:00",
          "2023-03-27T00:00:00",
          "2023-03-28T00:00:00",
          "2023-03-29T00:00:00",
          "2023-03-30T00:00:00",
          "2023-03-31T00:00:00",
          "2023-04-03T00:00:00",
          "2023-04-04T00:00:00",
          "2023-04-05T00:00:00",
          "2023-04-06T00:00:00",
          "2023-04-10T00:00:00",
          "2023-04-11T00:00:00",
          "2023-04-12T00:00:00",
          "2023-04-13T00:00:00",
          "2023-04-14T00:00:00",
          "2023-04-17T00:00:00",
          "2023-04-18T00:00:00",
          "2023-04-19T00:00:00",
          "2023-04-20T00:00:00",
          "2023-04-21T00:00:00",
          "2023-04-24T00:00:00",
          "2023-04-25T00:00:00",
          "2023-04-26T00:00:00",
          "2023-04-27T00:00:00",
          "2023-04-28T00:00:00",
          "2023-05-01T00:00:00",
          "2023-05-02T00:00:00",
          "2023-05-03T00:00:00",
          "2023-05-04T00:00:00",
          "2023-05-05T00:00:00",
          "2023-05-08T00:00:00",
          "2023-05-09T00:00:00",
          "2023-05-10T00:00:00",
          "2023-05-11T00:00:00",
          "2023-05-12T00:00:00",
          "2023-05-15T00:00:00",
          "2023-05-16T00:00:00",
          "2023-05-17T00:00:00",
          "2023-05-18T00:00:00",
          "2023-05-19T00:00:00",
          "2023-05-22T00:00:00",
          "2023-05-23T00:00:00",
          "2023-05-24T00:00:00",
          "2023-05-25T00:00:00",
          "2023-05-26T00:00:00",
          "2023-05-30T00:00:00",
          "2023-05-31T00:00:00",
          "2023-06-01T00:00:00",
          "2023-06-02T00:00:00",
          "2023-06-05T00:00:00",
          "2023-06-06T00:00:00",
          "2023-06-07T00:00:00",
          "2023-06-08T00:00:00",
          "2023-06-09T00:00:00",
          "2023-06-12T00:00:00",
          "2023-06-13T00:00:00",
          "2023-06-14T00:00:00",
          "2023-06-15T00:00:00",
          "2023-06-16T00:00:00",
          "2023-06-20T00:00:00",
          "2023-06-21T00:00:00",
          "2023-06-22T00:00:00",
          "2023-06-23T00:00:00",
          "2023-06-26T00:00:00",
          "2023-06-27T00:00:00",
          "2023-06-28T00:00:00",
          "2023-06-29T00:00:00",
          "2023-06-30T00:00:00",
          "2023-07-03T00:00:00",
          "2023-07-05T00:00:00",
          "2023-07-06T00:00:00",
          "2023-07-07T00:00:00",
          "2023-07-10T00:00:00",
          "2023-07-11T00:00:00",
          "2023-07-12T00:00:00",
          "2023-07-13T00:00:00",
          "2023-07-14T00:00:00",
          "2023-07-17T00:00:00",
          "2023-07-18T00:00:00",
          "2023-07-19T00:00:00",
          "2023-07-20T00:00:00",
          "2023-07-21T00:00:00",
          "2023-07-24T00:00:00",
          "2023-07-25T00:00:00",
          "2023-07-26T00:00:00",
          "2023-07-27T00:00:00",
          "2023-07-28T00:00:00",
          "2023-07-31T00:00:00",
          "2023-08-01T00:00:00",
          "2023-08-02T00:00:00",
          "2023-08-03T00:00:00",
          "2023-08-04T00:00:00",
          "2023-08-07T00:00:00",
          "2023-08-08T00:00:00",
          "2023-08-09T00:00:00",
          "2023-08-10T00:00:00",
          "2023-08-11T00:00:00",
          "2023-08-14T00:00:00",
          "2023-08-15T00:00:00",
          "2023-08-16T00:00:00",
          "2023-08-17T00:00:00",
          "2023-08-18T00:00:00",
          "2023-08-21T00:00:00",
          "2023-08-22T00:00:00",
          "2023-08-23T00:00:00",
          "2023-08-24T00:00:00",
          "2023-08-25T00:00:00",
          "2023-08-28T00:00:00",
          "2023-08-29T00:00:00",
          "2023-08-30T00:00:00",
          "2023-08-31T00:00:00",
          "2023-09-01T00:00:00",
          "2023-09-05T00:00:00",
          "2023-09-06T00:00:00",
          "2023-09-07T00:00:00",
          "2023-09-08T00:00:00",
          "2023-09-11T00:00:00",
          "2023-09-12T00:00:00",
          "2023-09-13T00:00:00",
          "2023-09-14T00:00:00",
          "2023-09-15T00:00:00",
          "2023-09-18T00:00:00",
          "2023-09-19T00:00:00",
          "2023-09-20T00:00:00",
          "2023-09-21T00:00:00",
          "2023-09-22T00:00:00",
          "2023-09-25T00:00:00",
          "2023-09-26T00:00:00",
          "2023-09-27T00:00:00",
          "2023-09-28T00:00:00",
          "2023-09-29T00:00:00",
          "2023-10-02T00:00:00",
          "2023-10-03T00:00:00",
          "2023-10-04T00:00:00",
          "2023-10-05T00:00:00",
          "2023-10-06T00:00:00",
          "2023-10-09T00:00:00",
          "2023-10-10T00:00:00",
          "2023-10-11T00:00:00",
          "2023-10-12T00:00:00",
          "2023-10-13T00:00:00",
          "2023-10-16T00:00:00",
          "2023-10-17T00:00:00",
          "2023-10-18T00:00:00",
          "2023-10-19T00:00:00",
          "2023-10-20T00:00:00"
         ],
         "y": [
          null,
          null,
          null,
          null,
          237.32723083496094,
          236.0891876220703,
          233.0941192626953,
          228.6391571044922,
          226.4166259765625,
          223.9405517578125,
          221.072265625,
          220.22841796875,
          220.36708068847656,
          221.24064025878906,
          226.93165893554686,
          232.02643737792968,
          234.73625793457032,
          237.33118591308593,
          240.8771759033203,
          240.75457763671875,
          239.722509765625,
          239.95667724609376,
          240.699609375,
          241.86168212890624,
          243.01580810546875,
          243.12307434082032,
          242.78140563964843,
          244.78970031738282,
          246.20205993652343,
          247.6978546142578,
          249.37441711425782,
          250.32592163085937,
          248.18651733398437,
          246.73839721679687,
          244.83140869140624,
          245.29027404785157,
          247.63428344726563,
          250.18687133789064,
          250.5066925048828,
          250.36168518066407,
          247.96603088378907,
          244.9625244140625,
          242.42185668945314,
          240.27252197265625,
          239.0885986328125,
          238.39533386230468,
          236.95118713378906,
          236.27182312011718,
          236.59561462402343,
          236.76446228027345,
          235.20311584472657,
          232.7756774902344,
          229.58147277832032,
          227.05868530273438,
          224.92722778320314,
          226.25218505859374,
          229.47022705078126,
          232.31084594726562,
          234.938916015625,
          236.32148132324218,
          235.55868530273438,
          235.89837036132812,
          236.56382751464844,
          236.8995361328125,
          237.8530303955078,
          241.04524841308594,
          242.6224853515625,
          242.6483123779297,
          243.79449157714845,
          246.20603637695314,
          249.50353088378907,
          251.52771911621093,
          254.320654296875,
          258.24388427734374,
          261.02093811035155,
          260.82627258300784,
          261.76983337402345,
          264.6601135253906,
          265.57587280273435,
          266.224365234375,
          266.0627868652344,
          265.1900146484375,
          261.6110107421875,
          257.63214416503905,
          254.7346221923828,
          252.159716796875,
          250.58649597167968,
          249.9392852783203,
          248.89577941894532,
          248.1669189453125,
          249.3757110595703,
          250.71195373535156,
          251.65389404296874,
          253.13351745605468,
          253.37448120117188,
          252.04022827148438,
          251.4527587890625,
          252.77506408691406,
          255.1129913330078,
          259.86850891113284,
          266.0100555419922,
          269.65634765625,
          272.2432006835937,
          273.6073303222656,
          273.8980712890625,
          274.1250915527344,
          274.9515319824219,
          275.24029541015625,
          276.8772399902344,
          278.149755859375,
          279.6891235351562,
          281.8498168945313,
          284.22955932617185,
          284.9922729492188,
          286.49579467773435,
          286.7128601074219,
          285.8366333007813,
          285.1018005371094,
          286.19708251953125,
          285.1097717285156,
          284.9922729492188,
          286.09552001953125,
          287.08326416015626,
          286.3404602050781,
          286.26478881835936,
          284.8648254394531,
          282.28594360351565,
          283.66400756835935,
          287.39194946289064,
          291.6735046386719,
          296.4110961914063,
          302.38335571289065,
          304.1816101074219,
          304.2971130371094,
          304.9722045898437,
          305.587548828125,
          305.90418701171876,
          307.4794006347656,
          308.4153686523438,
          308.080810546875,
          308.24212036132815,
          309.18605346679686,
          309.6593017578125,
          311.47275390625,
          313.477294921875,
          315.95106201171876,
          316.78928833007814,
          316.7593505859375,
          318.23622436523436,
          321.14008178710935,
          323.1418395996094,
          325.7622924804688,
          329.5003723144531,
          331.3923645019531,
          332.00107421875,
          332.49403076171876,
          331.4941467285156,
          330.0332458496094,
          328.31488647460935,
          327.4986145019531,
          327.620361328125,
          330.4064636230469,
          334.9648132324219,
          338.0662414550781,
          339.3036193847656,
          339.1579223632813,
          339.63092041015625,
          337.02044067382815,
          334.2802490234375,
          333.5857238769531,
          334.0427612304687,
          333.11272583007815,
          334.2143981933594,
          336.088427734375,
          336.80291137695315,
          337.884619140625,
          338.3177062988281,
          336.5793823242187,
          335.47771606445315,
          335.2881164550781,
          335.56552734375,
          337.1661376953125,
          339.9402709960938,
          345.3328491210938,
          348.9012939453125,
          349.74151611328125,
          349.44813842773436,
          349.32439575195315,
          347.62599487304686,
          344.1713073730469,
          340.94813232421876,
          339.87041015625,
          338.0362976074219,
          335.11448364257814,
          333.0648254394531,
          332.254541015625,
          330.1410217285156,
          328.9814697265625,
          326.9278137207031,
          325.87604370117185,
          325.1316162109375,
          323.7804748535156,
          322.5690490722656,
          321.7328186035156,
          321.5029724121094,
          320.42943115234374,
          319.65907592773436,
          319.36399536132814,
          319.6200012207031,
          320.94000244140625,
          321.55800170898436,
          322.8580017089844,
          323.2220031738281,
          324.41200561523436,
          324.77000732421874,
          326.3280090332031,
          327.46400756835936,
          329.4340026855469,
          330.3280029296875,
          330.552001953125,
          331.8539978027344,
          333.7099975585937,
          333.3539978027344,
          333.9899963378906,
          335.747998046875,
          334.93800048828126,
          333.16199951171876,
          332.5380004882812,
          329.47999877929686,
          325.64599609375,
          323.0039978027344,
          320.7,
          317.39800415039065,
          315.8020080566406,
          314.62401123046874,
          314.37200927734375,
          315.2240051269531,
          315.4740051269531,
          316.7080017089844,
          317.85199584960935,
          320.15399780273435,
          321.75800170898435,
          324.75800170898435,
          327.45000610351565,
          329.810009765625,
          329.9040100097656,
          330.4680114746094,
          331.20200805664064,
          330.74000244140626,
          330.7720031738281,
          330.56000366210935
         ]
        },
        {
         "name": "high",
         "type": "scatter",
         "x": [
          "2022-10-21T00:00:00",
          "2022-10-24T00:00:00",
          "2022-10-25T00:00:00",
          "2022-10-26T00:00:00",
          "2022-10-27T00:00:00",
          "2022-10-28T00:00:00",
          "2022-10-31T00:00:00",
          "2022-11-01T00:00:00",
          "2022-11-02T00:00:00",
          "2022-11-03T00:00:00",
          "2022-11-04T00:00:00",
          "2022-11-07T00:00:00",
          "2022-11-08T00:00:00",
          "2022-11-09T00:00:00",
          "2022-11-10T00:00:00",
          "2022-11-11T00:00:00",
          "2022-11-14T00:00:00",
          "2022-11-15T00:00:00",
          "2022-11-16T00:00:00",
          "2022-11-17T00:00:00",
          "2022-11-18T00:00:00",
          "2022-11-21T00:00:00",
          "2022-11-22T00:00:00",
          "2022-11-23T00:00:00",
          "2022-11-25T00:00:00",
          "2022-11-28T00:00:00",
          "2022-11-29T00:00:00",
          "2022-11-30T00:00:00",
          "2022-12-01T00:00:00",
          "2022-12-02T00:00:00",
          "2022-12-05T00:00:00",
          "2022-12-06T00:00:00",
          "2022-12-07T00:00:00",
          "2022-12-08T00:00:00",
          "2022-12-09T00:00:00",
          "2022-12-12T00:00:00",
          "2022-12-13T00:00:00",
          "2022-12-14T00:00:00",
          "2022-12-15T00:00:00",
          "2022-12-16T00:00:00",
          "2022-12-19T00:00:00",
          "2022-12-20T00:00:00",
          "2022-12-21T00:00:00",
          "2022-12-22T00:00:00",
          "2022-12-23T00:00:00",
          "2022-12-27T00:00:00",
          "2022-12-28T00:00:00",
          "2022-12-29T00:00:00",
          "2022-12-30T00:00:00",
          "2023-01-03T00:00:00",
          "2023-01-04T00:00:00",
          "2023-01-05T00:00:00",
          "2023-01-06T00:00:00",
          "2023-01-09T00:00:00",
          "2023-01-10T00:00:00",
          "2023-01-11T00:00:00",
          "2023-01-12T00:00:00",
          "2023-01-13T00:00:00",
          "2023-01-17T00:00:00",
          "2023-01-18T00:00:00",
          "2023-01-19T00:00:00",
          "2023-01-20T00:00:00",
          "2023-01-23T00:00:00",
          "2023-01-24T00:00:00",
          "2023-01-25T00:00:00",
          "2023-01-26T00:00:00",
          "2023-01-27T00:00:00",
          "2023-01-30T00:00:00",
          "2023-01-31T00:00:00",
          "2023-02-01T00:00:00",
          "2023-02-02T00:00:00",
          "2023-02-03T00:00:00",
          "2023-02-06T00:00:00",
          "2023-02-07T00:00:00",
          "2023-02-08T00:00:00",
          "2023-02-09T00:00:00",
          "2023-02-10T00:00:00",
          "2023-02-13T00:00:00",
          "2023-02-14T00:00:00",
          "2023-02-15T00:00:00",
          "2023-02-16T00:00:00",
          "2023-02-17T00:00:00",
          "2023-02-21T00:00:00",
          "2023-02-22T00:00:00",
          "2023-02-23T00:00:00",
          "2023-02-24T00:00:00",
          "2023-02-27T00:00:00",
          "2023-02-28T00:00:00",
          "2023-03-01T00:00:00",
          "2023-03-02T00:00:00",
          "2023-03-03T00:00:00",
          "2023-03-06T00:00:00",
          "2023-03-07T00:00:00",
          "2023-03-08T00:00:00",
          "2023-03-09T00:00:00",
          "2023-03-10T00:00:00",
          "2023-03-13T00:00:00",
          "2023-03-14T00:00:00",
          "2023-03-15T00:00:00",
          "2023-03-16T00:00:00",
          "2023-03-17T00:00:00",
          "2023-03-20T00:00:00",
          "2023-03-21T00:00:00",
          "2023-03-22T00:00:00",
          "2023-03-23T00:00:00",
          "2023-03-24T00:00:00",
          "2023-03-27T00:00:00",
          "2023-03-28T00:00:00",
          "2023-03-29T00:00:00",
          "2023-03-30T00:00:00",
          "2023-03-31T00:00:00",
          "2023-04-03T00:00:00",
          "2023-04-04T00:00:00",
          "2023-04-05T00:00:00",
          "2023-04-06T00:00:00",
          "2023-04-10T00:00:00",
          "2023-04-11T00:00:00",
          "2023-04-12T00:00:00",
          "2023-04-13T00:00:00",
          "2023-04-14T00:00:00",
          "2023-04-17T00:00:00",
          "2023-04-18T00:00:00",
          "2023-04-19T00:00:00",
          "2023-04-20T00:00:00",
          "2023-04-21T00:00:00",
          "2023-04-24T00:00:00",
          "2023-04-25T00:00:00",
          "2023-04-26T00:00:00",
          "2023-04-27T00:00:00",
          "2023-04-28T00:00:00",
          "2023-05-01T00:00:00",
          "2023-05-02T00:00:00",
          "2023-05-03T00:00:00",
          "2023-05-04T00:00:00",
          "2023-05-05T00:00:00",
          "2023-05-08T00:00:00",
          "2023-05-09T00:00:00",
          "2023-05-10T00:00:00",
          "2023-05-11T00:00:00",
          "2023-05-12T00:00:00",
          "2023-05-15T00:00:00",
          "2023-05-16T00:00:00",
          "2023-05-17T00:00:00",
          "2023-05-18T00:00:00",
          "2023-05-19T00:00:00",
          "2023-05-22T00:00:00",
          "2023-05-23T00:00:00",
          "2023-05-24T00:00:00",
          "2023-05-25T00:00:00",
          "2023-05-26T00:00:00",
          "2023-05-30T00:00:00",
          "2023-05-31T00:00:00",
          "2023-06-01T00:00:00",
          "2023-06-02T00:00:00",
          "2023-06-05T00:00:00",
          "2023-06-06T00:00:00",
          "2023-06-07T00:00:00",
          "2023-06-08T00:00:00",
          "2023-06-09T00:00:00",
          "2023-06-12T00:00:00",
          "2023-06-13T00:00:00",
          "2023-06-14T00:00:00",
          "2023-06-15T00:00:00",
          "2023-06-16T00:00:00",
          "2023-06-20T00:00:00",
          "2023-06-21T00:00:00",
          "2023-06-22T00:00:00",
          "2023-06-23T00:00:00",
          "2023-06-26T00:00:00",
          "2023-06-27T00:00:00",
          "2023-06-28T00:00:00",
          "2023-06-29T00:00:00",
          "2023-06-30T00:00:00",
          "2023-07-03T00:00:00",
          "2023-07-05T00:00:00",
          "2023-07-06T00:00:00",
          "2023-07-07T00:00:00",
          "2023-07-10T00:00:00",
          "2023-07-11T00:00:00",
          "2023-07-12T00:00:00",
          "2023-07-13T00:00:00",
          "2023-07-14T00:00:00",
          "2023-07-17T00:00:00",
          "2023-07-18T00:00:00",
          "2023-07-19T00:00:00",
          "2023-07-20T00:00:00",
          "2023-07-21T00:00:00",
          "2023-07-24T00:00:00",
          "2023-07-25T00:00:00",
          "2023-07-26T00:00:00",
          "2023-07-27T00:00:00",
          "2023-07-28T00:00:00",
          "2023-07-31T00:00:00",
          "2023-08-01T00:00:00",
          "2023-08-02T00:00:00",
          "2023-08-03T00:00:00",
          "2023-08-04T00:00:00",
          "2023-08-07T00:00:00",
          "2023-08-08T00:00:00",
          "2023-08-09T00:00:00",
          "2023-08-10T00:00:00",
          "2023-08-11T00:00:00",
          "2023-08-14T00:00:00",
          "2023-08-15T00:00:00",
          "2023-08-16T00:00:00",
          "2023-08-17T00:00:00",
          "2023-08-18T00:00:00",
          "2023-08-21T00:00:00",
          "2023-08-22T00:00:00",
          "2023-08-23T00:00:00",
          "2023-08-24T00:00:00",
          "2023-08-25T00:00:00",
          "2023-08-28T00:00:00",
          "2023-08-29T00:00:00",
          "2023-08-30T00:00:00",
          "2023-08-31T00:00:00",
          "2023-09-01T00:00:00",
          "2023-09-05T00:00:00",
          "2023-09-06T00:00:00",
          "2023-09-07T00:00:00",
          "2023-09-08T00:00:00",
          "2023-09-11T00:00:00",
          "2023-09-12T00:00:00",
          "2023-09-13T00:00:00",
          "2023-09-14T00:00:00",
          "2023-09-15T00:00:00",
          "2023-09-18T00:00:00",
          "2023-09-19T00:00:00",
          "2023-09-20T00:00:00",
          "2023-09-21T00:00:00",
          "2023-09-22T00:00:00",
          "2023-09-25T00:00:00",
          "2023-09-26T00:00:00",
          "2023-09-27T00:00:00",
          "2023-09-28T00:00:00",
          "2023-09-29T00:00:00",
          "2023-10-02T00:00:00",
          "2023-10-03T00:00:00",
          "2023-10-04T00:00:00",
          "2023-10-05T00:00:00",
          "2023-10-06T00:00:00",
          "2023-10-09T00:00:00",
          "2023-10-10T00:00:00",
          "2023-10-11T00:00:00",
          "2023-10-12T00:00:00",
          "2023-10-13T00:00:00",
          "2023-10-16T00:00:00",
          "2023-10-17T00:00:00",
          "2023-10-18T00:00:00",
          "2023-10-19T00:00:00",
          "2023-10-20T00:00:00"
         ],
         "y": [
          null,
          null,
          null,
          null,
          242.07377545166017,
          240.81097137451172,
          237.7560016479492,
          233.21194024658206,
          230.94495849609376,
          228.41936279296874,
          225.4937109375,
          224.63298632812499,
          224.7744223022461,
          225.66545306396483,
          231.4702921142578,
          236.66696612548827,
          239.43098309326172,
          242.07780963134766,
          245.6947194213867,
          245.56966918945312,
          244.5169599609375,
          244.75581079101565,
          245.51360156249999,
          246.69891577148437,
          247.87612426757812,
          247.98553582763674,
          247.6370337524414,
          249.6854943237305,
          251.1261011352539,
          252.65181170654296,
          254.36190545654298,
          255.33244006347655,
          253.15024768066405,
          251.6731651611328,
          249.72803686523437,
          250.1960795288086,
          252.58696911621095,
          255.19060876464846,
          255.51682635498048,
          255.36891888427735,
          252.92535150146486,
          249.86177490234377,
          247.2702938232422,
          245.07797241210938,
          243.87037060546876,
          243.16324053955077,
          241.69021087646485,
          240.99725958251952,
          241.3275269165039,
          241.49975152587893,
          239.9071781616211,
          237.43119104003907,
          234.17310223388674,
          231.59985900878905,
          229.4257723388672,
          230.77722875976562,
          234.0596315917969,
          236.95706286621095,
          239.6376943359375,
          241.04791094970702,
          240.26985900878907,
          240.61633776855467,
          241.2951040649414,
          241.63752685546876,
          242.61009100341795,
          245.86615338134766,
          247.47493505859373,
          247.5012786254883,
          248.6703814086914,
          251.1301571044922,
          254.49360150146487,
          256.55827349853513,
          259.4070673828125,
          263.4087619628906,
          266.2413568725586,
          266.042798034668,
          267.0052300415039,
          269.95331579589845,
          270.887390258789,
          271.5488525390625,
          271.38404260253907,
          270.49381494140624,
          266.84323095703127,
          262.78478704833987,
          259.82931463623044,
          257.2029111328125,
          255.5982258911133,
          254.93807098388672,
          253.87369500732424,
          253.13025732421875,
          254.36322528076172,
          255.7261928100586,
          256.68697192382814,
          258.1961878051758,
          258.4419708251953,
          257.08103283691406,
          256.48181396484375,
          257.83056536865234,
          260.21525115966796,
          265.0658790893555,
          271.330256652832,
          275.04947460937495,
          277.6880646972656,
          279.07947692871096,
          279.37603271484375,
          279.6075933837891,
          280.4505626220703,
          280.7451013183594,
          282.4147847900391,
          283.71275097656246,
          285.28290600585933,
          287.4868132324219,
          289.9141505126953,
          290.69211840820316,
          292.225710571289,
          292.44711730957033,
          291.5533659667969,
          290.8038365478516,
          291.9210241699219,
          290.81196716308597,
          290.69211840820316,
          291.8174304199219,
          292.8249294433594,
          292.0672694091797,
          291.99008459472657,
          290.5621219482422,
          287.93166247558594,
          289.33728771972653,
          293.1397884521485,
          297.5069747314453,
          302.3393181152344,
          308.43102282714847,
          310.26524230957034,
          310.38305529785157,
          311.0716486816406,
          311.69929980468754,
          312.02227075195316,
          313.6289886474609,
          314.5836760253907,
          314.2424267578125,
          314.4069627685547,
          315.3697745361328,
          315.85248779296876,
          317.702208984375,
          319.7468408203125,
          322.27008325195317,
          323.1250740966797,
          323.09453759765626,
          324.60094885253903,
          327.56288342285154,
          329.6046763916016,
          332.27753833007813,
          336.09037976074217,
          338.0202117919922,
          338.64109570312496,
          339.14391137695316,
          338.12402966308593,
          336.63391076660156,
          334.88118420410154,
          334.0485867919922,
          334.1727685546875,
          337.0145928955078,
          341.66410949707034,
          344.8275662841797,
          346.0896917724609,
          345.9410808105469,
          346.42353881835936,
          343.7608494873047,
          340.96585400390626,
          340.2574383544922,
          340.7236164550781,
          339.77498034667974,
          340.89868615722656,
          342.8101962890625,
          343.5389696044922,
          344.64231152343746,
          345.0840604248047,
          343.3109699707031,
          342.18727038574224,
          341.9938787841797,
          342.27683789062496,
          343.9094604492188,
          346.7390764160157,
          352.2395061035157,
          355.8793198242187,
          356.73634643554686,
          356.43710119628906,
          356.3108836669922,
          354.5785147705078,
          351.05473352050785,
          347.76709497070317,
          346.667818359375,
          344.79702355957033,
          341.8167733154297,
          339.72612194824217,
          338.89963183593756,
          336.74384216308596,
          335.5610991210938,
          333.4663699951172,
          332.3935645751953,
          331.6342485351563,
          330.2560843505859,
          329.0204300537109,
          328.16747497558595,
          327.9330318603516,
          326.8380197753906,
          326.05225744628905,
          325.7512752685547,
          326.0124012451172,
          327.3588024902344,
          327.98916174316406,
          329.3151617431641,
          329.6864432373047,
          330.9002457275391,
          331.2654074707031,
          332.8545692138672,
          334.0132877197266,
          336.02268273925785,
          336.93456298828124,
          337.1630419921875,
          338.4910777587891,
          340.3841975097656,
          340.0210777587891,
          340.6697962646484,
          342.4629580078125,
          341.6367604980469,
          339.82523950195315,
          339.18876049804686,
          336.0695987548828,
          332.158916015625,
          329.4640777587891,
          327.114,
          323.74596423339847,
          322.11804821777343,
          320.91649145507813,
          320.6594494628906,
          321.52848522949216,
          321.78348522949216,
          323.0421617431641,
          324.2090357666015,
          326.55707775878903,
          328.19316174316407,
          331.25316174316407,
          333.99900622558596,
          336.40620996093753,
          336.50209020996095,
          337.0773717041016,
          337.82604821777346,
          337.3548024902344,
          337.3874432373047,
          337.1712037353515
         ]
        },
        {
         "name": "low",
         "type": "scatter",
         "x": [
          "2022-10-21T00:00:00",
          "2022-10-24T00:00:00",
          "2022-10-25T00:00:00",
          "2022-10-26T00:00:00",
          "2022-10-27T00:00:00",
          "2022-10-28T00:00:00",
          "2022-10-31T00:00:00",
          "2022-11-01T00:00:00",
          "2022-11-02T00:00:00",
          "2022-11-03T00:00:00",
          "2022-11-04T00:00:00",
          "2022-11-07T00:00:00",
          "2022-11-08T00:00:00",
          "2022-11-09T00:00:00",
          "2022-11-10T00:00:00",
          "2022-11-11T00:00:00",
          "2022-11-14T00:00:00",
          "2022-11-15T00:00:00",
          "2022-11-16T00:00:00",
          "2022-11-17T00:00:00",
          "2022-11-18T00:00:00",
          "2022-11-21T00:00:00",
          "2022-11-22T00:00:00",
          "2022-11-23T00:00:00",
          "2022-11-25T00:00:00",
          "2022-11-28T00:00:00",
          "2022-11-29T00:00:00",
          "2022-11-30T00:00:00",
          "2022-12-01T00:00:00",
          "2022-12-02T00:00:00",
          "2022-12-05T00:00:00",
          "2022-12-06T00:00:00",
          "2022-12-07T00:00:00",
          "2022-12-08T00:00:00",
          "2022-12-09T00:00:00",
          "2022-12-12T00:00:00",
          "2022-12-13T00:00:00",
          "2022-12-14T00:00:00",
          "2022-12-15T00:00:00",
          "2022-12-16T00:00:00",
          "2022-12-19T00:00:00",
          "2022-12-20T00:00:00",
          "2022-12-21T00:00:00",
          "2022-12-22T00:00:00",
          "2022-12-23T00:00:00",
          "2022-12-27T00:00:00",
          "2022-12-28T00:00:00",
          "2022-12-29T00:00:00",
          "2022-12-30T00:00:00",
          "2023-01-03T00:00:00",
          "2023-01-04T00:00:00",
          "2023-01-05T00:00:00",
          "2023-01-06T00:00:00",
          "2023-01-09T00:00:00",
          "2023-01-10T00:00:00",
          "2023-01-11T00:00:00",
          "2023-01-12T00:00:00",
          "2023-01-13T00:00:00",
          "2023-01-17T00:00:00",
          "2023-01-18T00:00:00",
          "2023-01-19T00:00:00",
          "2023-01-20T00:00:00",
          "2023-01-23T00:00:00",
          "2023-01-24T00:00:00",
          "2023-01-25T00:00:00",
          "2023-01-26T00:00:00",
          "2023-01-27T00:00:00",
          "2023-01-30T00:00:00",
          "2023-01-31T00:00:00",
          "2023-02-01T00:00:00",
          "2023-02-02T00:00:00",
          "2023-02-03T00:00:00",
          "2023-02-06T00:00:00",
          "2023-02-07T00:00:00",
          "2023-02-08T00:00:00",
          "2023-02-09T00:00:00",
          "2023-02-10T00:00:00",
          "2023-02-13T00:00:00",
          "2023-02-14T00:00:00",
          "2023-02-15T00:00:00",
          "2023-02-16T00:00:00",
          "2023-02-17T00:00:00",
          "2023-02-21T00:00:00",
          "2023-02-22T00:00:00",
          "2023-02-23T00:00:00",
          "2023-02-24T00:00:00",
          "2023-02-27T00:00:00",
          "2023-02-28T00:00:00",
          "2023-03-01T00:00:00",
          "2023-03-02T00:00:00",
          "2023-03-03T00:00:00",
          "2023-03-06T00:00:00",
          "2023-03-07T00:00:00",
          "2023-03-08T00:00:00",
          "2023-03-09T00:00:00",
          "2023-03-10T00:00:00",
          "2023-03-13T00:00:00",
          "2023-03-14T00:00:00",
          "2023-03-15T00:00:00",
          "2023-03-16T00:00:00",
          "2023-03-17T00:00:00",
          "2023-03-20T00:00:00",
          "2023-03-21T00:00:00",
          "2023-03-22T00:00:00",
          "2023-03-23T00:00:00",
          "2023-03-24T00:00:00",
          "2023-03-27T00:00:00",
          "2023-03-28T00:00:00",
          "2023-03-29T00:00:00",
          "2023-03-30T00:00:00",
          "2023-03-31T00:00:00",
          "2023-04-03T00:00:00",
          "2023-04-04T00:00:00",
          "2023-04-05T00:00:00",
          "2023-04-06T00:00:00",
          "2023-04-10T00:00:00",
          "2023-04-11T00:00:00",
          "2023-04-12T00:00:00",
          "2023-04-13T00:00:00",
          "2023-04-14T00:00:00",
          "2023-04-17T00:00:00",
          "2023-04-18T00:00:00",
          "2023-04-19T00:00:00",
          "2023-04-20T00:00:00",
          "2023-04-21T00:00:00",
          "2023-04-24T00:00:00",
          "2023-04-25T00:00:00",
          "2023-04-26T00:00:00",
          "2023-04-27T00:00:00",
          "2023-04-28T00:00:00",
          "2023-05-01T00:00:00",
          "2023-05-02T00:00:00",
          "2023-05-03T00:00:00",
          "2023-05-04T00:00:00",
          "2023-05-05T00:00:00",
          "2023-05-08T00:00:00",
          "2023-05-09T00:00:00",
          "2023-05-10T00:00:00",
          "2023-05-11T00:00:00",
          "2023-05-12T00:00:00",
          "2023-05-15T00:00:00",
          "2023-05-16T00:00:00",
          "2023-05-17T00:00:00",
          "2023-05-18T00:00:00",
          "2023-05-19T00:00:00",
          "2023-05-22T00:00:00",
          "2023-05-23T00:00:00",
          "2023-05-24T00:00:00",
          "2023-05-25T00:00:00",
          "2023-05-26T00:00:00",
          "2023-05-30T00:00:00",
          "2023-05-31T00:00:00",
          "2023-06-01T00:00:00",
          "2023-06-02T00:00:00",
          "2023-06-05T00:00:00",
          "2023-06-06T00:00:00",
          "2023-06-07T00:00:00",
          "2023-06-08T00:00:00",
          "2023-06-09T00:00:00",
          "2023-06-12T00:00:00",
          "2023-06-13T00:00:00",
          "2023-06-14T00:00:00",
          "2023-06-15T00:00:00",
          "2023-06-16T00:00:00",
          "2023-06-20T00:00:00",
          "2023-06-21T00:00:00",
          "2023-06-22T00:00:00",
          "2023-06-23T00:00:00",
          "2023-06-26T00:00:00",
          "2023-06-27T00:00:00",
          "2023-06-28T00:00:00",
          "2023-06-29T00:00:00",
          "2023-06-30T00:00:00",
          "2023-07-03T00:00:00",
          "2023-07-05T00:00:00",
          "2023-07-06T00:00:00",
          "2023-07-07T00:00:00",
          "2023-07-10T00:00:00",
          "2023-07-11T00:00:00",
          "2023-07-12T00:00:00",
          "2023-07-13T00:00:00",
          "2023-07-14T00:00:00",
          "2023-07-17T00:00:00",
          "2023-07-18T00:00:00",
          "2023-07-19T00:00:00",
          "2023-07-20T00:00:00",
          "2023-07-21T00:00:00",
          "2023-07-24T00:00:00",
          "2023-07-25T00:00:00",
          "2023-07-26T00:00:00",
          "2023-07-27T00:00:00",
          "2023-07-28T00:00:00",
          "2023-07-31T00:00:00",
          "2023-08-01T00:00:00",
          "2023-08-02T00:00:00",
          "2023-08-03T00:00:00",
          "2023-08-04T00:00:00",
          "2023-08-07T00:00:00",
          "2023-08-08T00:00:00",
          "2023-08-09T00:00:00",
          "2023-08-10T00:00:00",
          "2023-08-11T00:00:00",
          "2023-08-14T00:00:00",
          "2023-08-15T00:00:00",
          "2023-08-16T00:00:00",
          "2023-08-17T00:00:00",
          "2023-08-18T00:00:00",
          "2023-08-21T00:00:00",
          "2023-08-22T00:00:00",
          "2023-08-23T00:00:00",
          "2023-08-24T00:00:00",
          "2023-08-25T00:00:00",
          "2023-08-28T00:00:00",
          "2023-08-29T00:00:00",
          "2023-08-30T00:00:00",
          "2023-08-31T00:00:00",
          "2023-09-01T00:00:00",
          "2023-09-05T00:00:00",
          "2023-09-06T00:00:00",
          "2023-09-07T00:00:00",
          "2023-09-08T00:00:00",
          "2023-09-11T00:00:00",
          "2023-09-12T00:00:00",
          "2023-09-13T00:00:00",
          "2023-09-14T00:00:00",
          "2023-09-15T00:00:00",
          "2023-09-18T00:00:00",
          "2023-09-19T00:00:00",
          "2023-09-20T00:00:00",
          "2023-09-21T00:00:00",
          "2023-09-22T00:00:00",
          "2023-09-25T00:00:00",
          "2023-09-26T00:00:00",
          "2023-09-27T00:00:00",
          "2023-09-28T00:00:00",
          "2023-09-29T00:00:00",
          "2023-10-02T00:00:00",
          "2023-10-03T00:00:00",
          "2023-10-04T00:00:00",
          "2023-10-05T00:00:00",
          "2023-10-06T00:00:00",
          "2023-10-09T00:00:00",
          "2023-10-10T00:00:00",
          "2023-10-11T00:00:00",
          "2023-10-12T00:00:00",
          "2023-10-13T00:00:00",
          "2023-10-16T00:00:00",
          "2023-10-17T00:00:00",
          "2023-10-18T00:00:00",
          "2023-10-19T00:00:00",
          "2023-10-20T00:00:00"
         ],
         "y": [
          null,
          null,
          null,
          null,
          232.58068621826172,
          231.3674038696289,
          228.4322368774414,
          224.06637396240234,
          221.88829345703124,
          219.46174072265626,
          216.6508203125,
          215.823849609375,
          215.95973907470702,
          216.81582745361328,
          222.39302575683593,
          227.3859086303711,
          230.04153277587892,
          232.5845621948242,
          236.0596323852539,
          235.93948608398438,
          234.9280595703125,
          235.15754370117187,
          235.8856171875,
          237.0244484863281,
          238.15549194335938,
          238.2606128540039,
          237.92577752685546,
          239.89390631103515,
          241.27801873779296,
          242.74389752197266,
          244.38692877197266,
          245.31940319824218,
          243.2227869873047,
          241.80362927246094,
          239.9347805175781,
          240.38446856689453,
          242.6815977783203,
          245.1831339111328,
          245.49655865478513,
          245.3544514770508,
          243.0067102661133,
          240.06327392578123,
          237.57341955566406,
          235.46707153320312,
          234.30682666015625,
          233.6274271850586,
          232.21216339111328,
          231.54638665771483,
          231.86370233154295,
          232.02917303466796,
          230.49905352783205,
          228.1201639404297,
          224.9898433227539,
          222.5175115966797,
          220.42868322753907,
          221.72714135742186,
          224.88082250976564,
          227.6646290283203,
          230.2401376953125,
          231.59505169677735,
          230.84751159667968,
          231.18040295410157,
          231.83255096435548,
          232.16154541015624,
          233.09596978759765,
          236.22434344482423,
          237.77003564453125,
          237.7953461303711,
          238.91860174560549,
          241.28191564941406,
          244.51346026611327,
          246.4971647338867,
          249.2342412109375,
          253.07900659179685,
          255.80051934814452,
          255.60974713134766,
          256.534436706543,
          259.3669112548828,
          260.2643553466797,
          260.8998779296875,
          260.7415311279297,
          259.8862143554688,
          256.3787905273437,
          252.47950128173827,
          249.63992974853514,
          247.1165224609375,
          245.57476605224608,
          244.9404995727539,
          243.9178638305664,
          243.20358056640623,
          244.3881968383789,
          245.69771466064452,
          246.62081616210938,
          248.07084710693357,
          248.30699157714844,
          246.9994237060547,
          246.42370361328125,
          247.71956280517577,
          250.01073150634764,
          254.67113873291018,
          260.68985443115236,
          264.263220703125,
          266.79833666992187,
          268.1351837158203,
          268.42010986328125,
          268.64258972167966,
          269.4525013427735,
          269.7354895019531,
          271.33969519042967,
          272.5867607421875,
          274.0953410644531,
          276.2128205566406,
          278.5449681396484,
          279.2924274902344,
          280.7658787841797,
          280.9786029052734,
          280.11990063476566,
          279.3997645263672,
          280.4731408691406,
          279.4075762939453,
          279.2924274902344,
          280.3736096191406,
          281.3415988769531,
          280.6136510009765,
          280.53949304199216,
          279.16752893066405,
          276.64022473144536,
          277.9907274169922,
          281.6441104736328,
          285.84003454589845,
          290.48287426757815,
          296.3356885986328,
          298.0979779052734,
          298.2111707763672,
          298.87276049804683,
          299.4757978515625,
          299.78610327148436,
          301.32981262207034,
          302.2470612792969,
          301.9191943359375,
          302.0772779541016,
          303.0023323974609,
          303.46611572265624,
          305.243298828125,
          307.2077490234375,
          309.63204077148436,
          310.45350256347655,
          310.42416357421877,
          311.8714998779297,
          314.71728015136716,
          316.6790028076172,
          319.2470466308594,
          322.91036486816404,
          324.76451721191404,
          325.361052734375,
          325.84415014648437,
          324.86426379394527,
          323.4325809326172,
          321.74858874511716,
          320.94864221191403,
          321.0679541015625,
          323.79833435058595,
          328.2655169677734,
          331.30491662597655,
          332.5175469970703,
          332.37476391601564,
          332.83830200195314,
          330.2800318603516,
          327.5946440429687,
          326.91400939941406,
          327.36190600585934,
          326.45047131347656,
          327.5301102294922,
          329.3666591796875,
          330.0668531494141,
          331.1269267578125,
          331.5513521728515,
          329.8477946777343,
          328.76816174316406,
          328.58235412597656,
          328.854216796875,
          330.4228149414062,
          333.14146557617187,
          338.42619213867187,
          341.92326806640625,
          342.74668579101564,
          342.45917565917966,
          342.3379078369141,
          340.6734749755859,
          337.2878812255859,
          334.12916967773435,
          333.07300195312496,
          331.27557165527344,
          328.41219396972656,
          326.40352893066404,
          325.6094501953125,
          323.5382012939453,
          322.40184033203127,
          320.38925744628904,
          319.3585228271484,
          318.62898388671874,
          317.3048653564453,
          316.1176680908203,
          315.2981622314453,
          315.07291296386717,
          314.0208425292969,
          313.2658944091797,
          312.97671545410157,
          313.227601196289,
          314.5212023925781,
          315.12684167480467,
          316.40084167480467,
          316.75756311035155,
          317.92376550292965,
          318.27460717773437,
          319.801448852539,
          320.91472741699215,
          322.8453226318359,
          323.72144287109376,
          323.9409619140625,
          325.2169178466797,
          327.03579760742184,
          326.6869178466797,
          327.3101964111328,
          329.0330380859375,
          328.2392404785156,
          326.4987595214844,
          325.8872404785156,
          322.8903988037109,
          319.133076171875,
          316.5439178466797,
          314.286,
          311.0500440673828,
          309.48596789550777,
          308.33153100585935,
          308.0845690917969,
          308.91952502441404,
          309.16452502441405,
          310.3738416748047,
          311.4949559326172,
          313.75091784667967,
          315.32284167480464,
          318.26284167480463,
          320.90100598144534,
          323.2138095703125,
          323.3059298095703,
          323.8586512451172,
          324.5779678955078,
          324.1252023925781,
          324.15656311035156,
          323.9488035888672
         ]
        }
       ],
       "layout": {
        "template": {
         "data": {
          "bar": [
           {
            "error_x": {
             "color": "#2a3f5f"
            },
            "error_y": {
             "color": "#2a3f5f"
            },
            "marker": {
             "line": {
              "color": "#E5ECF6",
              "width": 0.5
             },
             "pattern": {
              "fillmode": "overlay",
              "size": 10,
              "solidity": 0.2
             }
            },
            "type": "bar"
           }
          ],
          "barpolar": [
           {
            "marker": {
             "line": {
              "color": "#E5ECF6",
              "width": 0.5
             },
             "pattern": {
              "fillmode": "overlay",
              "size": 10,
              "solidity": 0.2
             }
            },
            "type": "barpolar"
           }
          ],
          "carpet": [
           {
            "aaxis": {
             "endlinecolor": "#2a3f5f",
             "gridcolor": "white",
             "linecolor": "white",
             "minorgridcolor": "white",
             "startlinecolor": "#2a3f5f"
            },
            "baxis": {
             "endlinecolor": "#2a3f5f",
             "gridcolor": "white",
             "linecolor": "white",
             "minorgridcolor": "white",
             "startlinecolor": "#2a3f5f"
            },
            "type": "carpet"
           }
          ],
          "choropleth": [
           {
            "colorbar": {
             "outlinewidth": 0,
             "ticks": ""
            },
            "type": "choropleth"
           }
          ],
          "contour": [
           {
            "colorbar": {
             "outlinewidth": 0,
             "ticks": ""
            },
            "colorscale": [
             [
              0,
              "#0d0887"
             ],
             [
              0.1111111111111111,
              "#46039f"
             ],
             [
              0.2222222222222222,
              "#7201a8"
             ],
             [
              0.3333333333333333,
              "#9c179e"
             ],
             [
              0.4444444444444444,
              "#bd3786"
             ],
             [
              0.5555555555555556,
              "#d8576b"
             ],
             [
              0.6666666666666666,
              "#ed7953"
             ],
             [
              0.7777777777777778,
              "#fb9f3a"
             ],
             [
              0.8888888888888888,
              "#fdca26"
             ],
             [
              1,
              "#f0f921"
             ]
            ],
            "type": "contour"
           }
          ],
          "contourcarpet": [
           {
            "colorbar": {
             "outlinewidth": 0,
             "ticks": ""
            },
            "type": "contourcarpet"
           }
          ],
          "heatmap": [
           {
            "colorbar": {
             "outlinewidth": 0,
             "ticks": ""
            },
            "colorscale": [
             [
              0,
              "#0d0887"
             ],
             [
              0.1111111111111111,
              "#46039f"
             ],
             [
              0.2222222222222222,
              "#7201a8"
             ],
             [
              0.3333333333333333,
              "#9c179e"
             ],
             [
              0.4444444444444444,
              "#bd3786"
             ],
             [
              0.5555555555555556,
              "#d8576b"
             ],
             [
              0.6666666666666666,
              "#ed7953"
             ],
             [
              0.7777777777777778,
              "#fb9f3a"
             ],
             [
              0.8888888888888888,
              "#fdca26"
             ],
             [
              1,
              "#f0f921"
             ]
            ],
            "type": "heatmap"
           }
          ],
          "heatmapgl": [
           {
            "colorbar": {
             "outlinewidth": 0,
             "ticks": ""
            },
            "colorscale": [
             [
              0,
              "#0d0887"
             ],
             [
              0.1111111111111111,
              "#46039f"
             ],
             [
              0.2222222222222222,
              "#7201a8"
             ],
             [
              0.3333333333333333,
              "#9c179e"
             ],
             [
              0.4444444444444444,
              "#bd3786"
             ],
             [
              0.5555555555555556,
              "#d8576b"
             ],
             [
              0.6666666666666666,
              "#ed7953"
             ],
             [
              0.7777777777777778,
              "#fb9f3a"
             ],
             [
              0.8888888888888888,
              "#fdca26"
             ],
             [
              1,
              "#f0f921"
             ]
            ],
            "type": "heatmapgl"
           }
          ],
          "histogram": [
           {
            "marker": {
             "pattern": {
              "fillmode": "overlay",
              "size": 10,
              "solidity": 0.2
             }
            },
            "type": "histogram"
           }
          ],
          "histogram2d": [
           {
            "colorbar": {
             "outlinewidth": 0,
             "ticks": ""
            },
            "colorscale": [
             [
              0,
              "#0d0887"
             ],
             [
              0.1111111111111111,
              "#46039f"
             ],
             [
              0.2222222222222222,
              "#7201a8"
             ],
             [
              0.3333333333333333,
              "#9c179e"
             ],
             [
              0.4444444444444444,
              "#bd3786"
             ],
             [
              0.5555555555555556,
              "#d8576b"
             ],
             [
              0.6666666666666666,
              "#ed7953"
             ],
             [
              0.7777777777777778,
              "#fb9f3a"
             ],
             [
              0.8888888888888888,
              "#fdca26"
             ],
             [
              1,
              "#f0f921"
             ]
            ],
            "type": "histogram2d"
           }
          ],
          "histogram2dcontour": [
           {
            "colorbar": {
             "outlinewidth": 0,
             "ticks": ""
            },
            "colorscale": [
             [
              0,
              "#0d0887"
             ],
             [
              0.1111111111111111,
              "#46039f"
             ],
             [
              0.2222222222222222,
              "#7201a8"
             ],
             [
              0.3333333333333333,
              "#9c179e"
             ],
             [
              0.4444444444444444,
              "#bd3786"
             ],
             [
              0.5555555555555556,
              "#d8576b"
             ],
             [
              0.6666666666666666,
              "#ed7953"
             ],
             [
              0.7777777777777778,
              "#fb9f3a"
             ],
             [
              0.8888888888888888,
              "#fdca26"
             ],
             [
              1,
              "#f0f921"
             ]
            ],
            "type": "histogram2dcontour"
           }
          ],
          "mesh3d": [
           {
            "colorbar": {
             "outlinewidth": 0,
             "ticks": ""
            },
            "type": "mesh3d"
           }
          ],
          "parcoords": [
           {
            "line": {
             "colorbar": {
              "outlinewidth": 0,
              "ticks": ""
             }
            },
            "type": "parcoords"
           }
          ],
          "pie": [
           {
            "automargin": true,
            "type": "pie"
           }
          ],
          "scatter": [
           {
            "fillpattern": {
             "fillmode": "overlay",
             "size": 10,
             "solidity": 0.2
            },
            "type": "scatter"
           }
          ],
          "scatter3d": [
           {
            "line": {
             "colorbar": {
              "outlinewidth": 0,
              "ticks": ""
             }
            },
            "marker": {
             "colorbar": {
              "outlinewidth": 0,
              "ticks": ""
             }
            },
            "type": "scatter3d"
           }
          ],
          "scattercarpet": [
           {
            "marker": {
             "colorbar": {
              "outlinewidth": 0,
              "ticks": ""
             }
            },
            "type": "scattercarpet"
           }
          ],
          "scattergeo": [
           {
            "marker": {
             "colorbar": {
              "outlinewidth": 0,
              "ticks": ""
             }
            },
            "type": "scattergeo"
           }
          ],
          "scattergl": [
           {
            "marker": {
             "colorbar": {
              "outlinewidth": 0,
              "ticks": ""
             }
            },
            "type": "scattergl"
           }
          ],
          "scattermapbox": [
           {
            "marker": {
             "colorbar": {
              "outlinewidth": 0,
              "ticks": ""
             }
            },
            "type": "scattermapbox"
           }
          ],
          "scatterpolar": [
           {
            "marker": {
             "colorbar": {
              "outlinewidth": 0,
              "ticks": ""
             }
            },
            "type": "scatterpolar"
           }
          ],
          "scatterpolargl": [
           {
            "marker": {
             "colorbar": {
              "outlinewidth": 0,
              "ticks": ""
             }
            },
            "type": "scatterpolargl"
           }
          ],
          "scatterternary": [
           {
            "marker": {
             "colorbar": {
              "outlinewidth": 0,
              "ticks": ""
             }
            },
            "type": "scatterternary"
           }
          ],
          "surface": [
           {
            "colorbar": {
             "outlinewidth": 0,
             "ticks": ""
            },
            "colorscale": [
             [
              0,
              "#0d0887"
             ],
             [
              0.1111111111111111,
              "#46039f"
             ],
             [
              0.2222222222222222,
              "#7201a8"
             ],
             [
              0.3333333333333333,
              "#9c179e"
             ],
             [
              0.4444444444444444,
              "#bd3786"
             ],
             [
              0.5555555555555556,
              "#d8576b"
             ],
             [
              0.6666666666666666,
              "#ed7953"
             ],
             [
              0.7777777777777778,
              "#fb9f3a"
             ],
             [
              0.8888888888888888,
              "#fdca26"
             ],
             [
              1,
              "#f0f921"
             ]
            ],
            "type": "surface"
           }
          ],
          "table": [
           {
            "cells": {
             "fill": {
              "color": "#EBF0F8"
             },
             "line": {
              "color": "white"
             }
            },
            "header": {
             "fill": {
              "color": "#C8D4E3"
             },
             "line": {
              "color": "white"
             }
            },
            "type": "table"
           }
          ]
         },
         "layout": {
          "annotationdefaults": {
           "arrowcolor": "#2a3f5f",
           "arrowhead": 0,
           "arrowwidth": 1
          },
          "autotypenumbers": "strict",
          "coloraxis": {
           "colorbar": {
            "outlinewidth": 0,
            "ticks": ""
           }
          },
          "colorscale": {
           "diverging": [
            [
             0,
             "#8e0152"
            ],
            [
             0.1,
             "#c51b7d"
            ],
            [
             0.2,
             "#de77ae"
            ],
            [
             0.3,
             "#f1b6da"
            ],
            [
             0.4,
             "#fde0ef"
            ],
            [
             0.5,
             "#f7f7f7"
            ],
            [
             0.6,
             "#e6f5d0"
            ],
            [
             0.7,
             "#b8e186"
            ],
            [
             0.8,
             "#7fbc41"
            ],
            [
             0.9,
             "#4d9221"
            ],
            [
             1,
             "#276419"
            ]
           ],
           "sequential": [
            [
             0,
             "#0d0887"
            ],
            [
             0.1111111111111111,
             "#46039f"
            ],
            [
             0.2222222222222222,
             "#7201a8"
            ],
            [
             0.3333333333333333,
             "#9c179e"
            ],
            [
             0.4444444444444444,
             "#bd3786"
            ],
            [
             0.5555555555555556,
             "#d8576b"
            ],
            [
             0.6666666666666666,
             "#ed7953"
            ],
            [
             0.7777777777777778,
             "#fb9f3a"
            ],
            [
             0.8888888888888888,
             "#fdca26"
            ],
            [
             1,
             "#f0f921"
            ]
           ],
           "sequentialminus": [
            [
             0,
             "#0d0887"
            ],
            [
             0.1111111111111111,
             "#46039f"
            ],
            [
             0.2222222222222222,
             "#7201a8"
            ],
            [
             0.3333333333333333,
             "#9c179e"
            ],
            [
             0.4444444444444444,
             "#bd3786"
            ],
            [
             0.5555555555555556,
             "#d8576b"
            ],
            [
             0.6666666666666666,
             "#ed7953"
            ],
            [
             0.7777777777777778,
             "#fb9f3a"
            ],
            [
             0.8888888888888888,
             "#fdca26"
            ],
            [
             1,
             "#f0f921"
            ]
           ]
          },
          "colorway": [
           "#636efa",
           "#EF553B",
           "#00cc96",
           "#ab63fa",
           "#FFA15A",
           "#19d3f3",
           "#FF6692",
           "#B6E880",
           "#FF97FF",
           "#FECB52"
          ],
          "font": {
           "color": "#2a3f5f"
          },
          "geo": {
           "bgcolor": "white",
           "lakecolor": "white",
           "landcolor": "#E5ECF6",
           "showlakes": true,
           "showland": true,
           "subunitcolor": "white"
          },
          "hoverlabel": {
           "align": "left"
          },
          "hovermode": "closest",
          "mapbox": {
           "style": "light"
          },
          "paper_bgcolor": "white",
          "plot_bgcolor": "#E5ECF6",
          "polar": {
           "angularaxis": {
            "gridcolor": "white",
            "linecolor": "white",
            "ticks": ""
           },
           "bgcolor": "#E5ECF6",
           "radialaxis": {
            "gridcolor": "white",
            "linecolor": "white",
            "ticks": ""
           }
          },
          "scene": {
           "xaxis": {
            "backgroundcolor": "#E5ECF6",
            "gridcolor": "white",
            "gridwidth": 2,
            "linecolor": "white",
            "showbackground": true,
            "ticks": "",
            "zerolinecolor": "white"
           },
           "yaxis": {
            "backgroundcolor": "#E5ECF6",
            "gridcolor": "white",
            "gridwidth": 2,
            "linecolor": "white",
            "showbackground": true,
            "ticks": "",
            "zerolinecolor": "white"
           },
           "zaxis": {
            "backgroundcolor": "#E5ECF6",
            "gridcolor": "white",
            "gridwidth": 2,
            "linecolor": "white",
            "showbackground": true,
            "ticks": "",
            "zerolinecolor": "white"
           }
          },
          "shapedefaults": {
           "line": {
            "color": "#2a3f5f"
           }
          },
          "ternary": {
           "aaxis": {
            "gridcolor": "white",
            "linecolor": "white",
            "ticks": ""
           },
           "baxis": {
            "gridcolor": "white",
            "linecolor": "white",
            "ticks": ""
           },
           "bgcolor": "#E5ECF6",
           "caxis": {
            "gridcolor": "white",
            "linecolor": "white",
            "ticks": ""
           }
          },
          "title": {
           "x": 0.05
          },
          "xaxis": {
           "automargin": true,
           "gridcolor": "white",
           "linecolor": "white",
           "ticks": "",
           "title": {
            "standoff": 15
           },
           "zerolinecolor": "white",
           "zerolinewidth": 2
          },
          "yaxis": {
           "automargin": true,
           "gridcolor": "white",
           "linecolor": "white",
           "ticks": "",
           "title": {
            "standoff": 15
           },
           "zerolinecolor": "white",
           "zerolinewidth": 2
          }
         }
        },
        "title": {
         "text": "Stock price of MSFT"
        },
        "xaxis": {
         "dtick": 100,
         "rangeslider": {
          "visible": true
         },
         "tickformat": "%d, %Y",
         "type": "category"
        }
       }
      }
     },
     "metadata": {},
     "output_type": "display_data"
    }
   ],
   "source": [
    "\n",
    "fig = go.Figure()\n",
    "\n",
    "fig.add_trace(go.Scatter(x=stock_data.index,y=stock_data[\"Adj Close\"], name=TICKER))\n",
    "fig.add_trace(go.Scatter(x=stock_data.index,y=stock_data[\"rolling mean\"], name=\"mean\"))\n",
    "fig.add_trace(go.Scatter(x=stock_data.index,y=stock_data[\"high\"], name=\"high\"))\n",
    "fig.add_trace(go.Scatter(x=stock_data.index,y=stock_data[\"low\"],name=\"low\"))\n",
    "\n",
    "fig.update_layout(title=f\"Stock price of {TICKER}\", \n",
    "                  xaxis=dict(rangeslider=dict(visible=True),type=\"category\",tickformat = \"%d, %Y\", dtick = 100))\n",
    "\n",
    "fig.show()\n"
   ]
  },
  {
   "cell_type": "markdown",
   "metadata": {},
   "source": [
    "Pandas can also apply comparisons to all the rows at once, if you are using comparisons a series of True and False will be returned where the values meet the conditions. You can then use `.loc[]` to filter out the positions using the previously created series as a filter.\n",
    "\n",
    "The code below finds all the possible buy and sell opportunities based on our parameters."
   ]
  },
  {
   "cell_type": "code",
   "execution_count": 199,
   "metadata": {},
   "outputs": [
    {
     "name": "stdout",
     "output_type": "stream",
     "text": [
      "buys\n",
      "        Adj Close  rolling mean        high         low\n",
      "count   19.000000     19.000000   19.000000   19.000000\n",
      "mean   256.245634    264.760853  270.056070  259.465636\n",
      "std     40.818884     40.803867   41.619944   39.987790\n",
      "min    212.199982    223.940552  228.419363  219.461741\n",
      "25%    226.063858    235.380901  240.088519  230.673283\n",
      "50%    243.031708    250.325922  255.332440  245.319403\n",
      "75%    265.595856    273.737979  279.212739  268.263220\n",
      "max    337.056366    344.171307  351.054734  337.287881\n",
      "\n",
      "sells\n",
      "        Adj Close  rolling mean        high         low\n",
      "count   37.000000     37.000000   37.000000   37.000000\n",
      "mean   280.058547    271.394790  276.822686  265.966894\n",
      "std     38.798928     37.996610   38.756542   37.236678\n",
      "min    225.689651    220.228418  224.632986  215.823850\n",
      "25%    252.963913    245.290274  250.196080  240.384469\n",
      "50%    264.301392    255.112991  260.215251  250.010732\n",
      "75%    317.847046    311.472754  317.702209  305.243299\n",
      "max    358.730469    345.332849  352.239506  338.426192\n"
     ]
    }
   ],
   "source": [
    "filt = stock_data[\"Adj Close\"] <= stock_data[\"low\"] # Buy low\n",
    "buys = stock_data.loc[filt]\n",
    "\n",
    "filt = stock_data[\"Adj Close\"] >= stock_data[\"high\"] # Sell high\n",
    "sells = stock_data.loc[filt]\n",
    "\n",
    "print(\"buys\")\n",
    "print(buys.describe())\n",
    "print(\"\\nsells\")\n",
    "print(sells.describe())"
   ]
  },
  {
   "cell_type": "markdown",
   "metadata": {},
   "source": [
    "Now we need to back test our strategy to see if it works. First declare the variables we want to track"
   ]
  },
  {
   "cell_type": "code",
   "execution_count": 200,
   "metadata": {},
   "outputs": [],
   "source": [
    "start_balance = 1_000\n",
    "balance = start_balance\n",
    "\n",
    "position = 0            # Tracks the shares owned.\n",
    "trades = 0              # Tracks trades closed.\n",
    "trading_fee = 0.001     # Fee for trading is a flat percentage of the price, this increases the price when buying and decreases our selling price."
   ]
  },
  {
   "cell_type": "markdown",
   "metadata": {},
   "source": [
    "Next iterate over the rows entering and exiting postions based on the high and low bands we previously created."
   ]
  },
  {
   "cell_type": "code",
   "execution_count": 201,
   "metadata": {},
   "outputs": [
    {
     "name": "stdout",
     "output_type": "stream",
     "text": [
      "Closing Balance          :  1,129.95\n",
      "Return on start balance  :  13.0%\n",
      "shares traded            :  29\n",
      "average profit per trade :  4.4812\n"
     ]
    }
   ],
   "source": [
    "for index, row in stock_data.iterrows():\n",
    "    # skip over rows which dont have a value.\n",
    "    if pd.isnull(row[\"rolling mean\"]):\n",
    "        continue\n",
    "\n",
    "    # If we have a position open, sell if the price is above high band.\n",
    "    if position:\n",
    "        if row[\"Adj Close\"] >= row[\"high\"]:\n",
    "\n",
    "            balance += position * row[\"Adj Close\"] * (1 - trading_fee)  # Sell the position by adding the current value of shares to balance.\n",
    "            trades += position\n",
    "            position = 0 # Lastly set the position to zero\n",
    "\n",
    "    # If we are not in a position, open a postition only if the price is below low band.\n",
    "    elif not position:\n",
    "        if row[\"Adj Close\"] <= row[\"low\"]:\n",
    "            # Check if we have enough cash to enter a position of at least 1 share.\n",
    "            if balance >= row[\"Adj Close\"]:\n",
    "                # amount of shares to buy, no fractional shares so use math.floor.\n",
    "                buy_shares = floor(balance / row[\"Adj Close\"])\n",
    "                # buy_shares = 1 # set to only buy one share.\n",
    "\n",
    "                # calculate risk management and hedge here.\n",
    "                # There is no hedging or risk management in this example, we just go all in everytime we see a buy signal.\n",
    "\n",
    "                # Purchase the assets by subtracting the value of shares, then adding the shares to the position.\n",
    "                balance -= buy_shares * row[\"Adj Close\"] * (1 + trading_fee)\n",
    "                position += buy_shares\n",
    "\n",
    "            else:\n",
    "                # If we break the loop now the share price could drop to a level we can purchase later.\n",
    "                print(f\"{index} : Not enough money to purchase\")\n",
    "                \n",
    "\n",
    "# Force close the position at end for easier comparison.\n",
    "if position > 0:\n",
    "    balance += position * row[\"Adj Close\"] * (1 - trading_fee) # Sell.\n",
    "    trades += position\n",
    "    print(f\"{position} postions forcibly closed\")\n",
    "    position = 0\n",
    "\n",
    "\n",
    "# output the results of trading.\n",
    "profit = balance - start_balance\n",
    "returns = (profit / start_balance) * 100\n",
    "\n",
    "print(f\"Closing Balance          :  {round(balance,2):,}\")\n",
    "print(f\"Return on start balance  :  {round(returns,2)}%\")\n",
    "print(f\"shares traded            :  {trades}\")\n",
    "print(f\"average profit per trade :  {round(profit/trades, 4)}\")"
   ]
  },
  {
   "cell_type": "markdown",
   "metadata": {},
   "source": [
    "The reason why a simple moving average (SMA) can be profitable is because it follows the overall trend of the stock, but SMA can quickly become un-profitable, if the asset goes into a down trend. \n",
    "\n",
    "When the asset is in a down trend lower prices are more likely so the program will continue to buy until you run out of money or you stop it. Furthermore becuase it follows trends it is unable to take advantage of sudden changes in prices at all. These sudden changes such as a reaction to a company under or overperforming in a quater, are when miss-pricings can occur due to the initial reaction, the SMA misses out on these chances to create any extra return due to the data for that day having a reduced effect on the moving average. This is why quantitative hedge funds can be more profitable during volatile periods, they take advantage of market miss-pricing.\n",
    "\n",
    "You'll never make an overall profit in a downtrend becuase the next sell will be above the high band, but still lower than your previous buy price.\n",
    "\n",
    "For example a smarter algorithm would:\n",
    "- Take in to account a larger trend or the momentum.\n",
    "- Enter postions based on price formations instead of trends.\n",
    "- Manage risk/uncertainty\n",
    "\n",
    "When testing your strategy you need to account for trading costs, costs can be anything such as the broker taking a fee or running costs like server fees. These can turn a simple algorthim into something that will never be profitable with even a low fee.\n",
    "\n",
    "Trading strategies also need to account for factors other than just trading costs, for example slippage can become deadly with high frequency trading. Slippage is the difference in price between the program receiving data and sending out the trade request, by the time the exchange recieves the request there will be a new price. This is why firms will have their servers hosting the trading bot physically closer to the exchange, to minimise the time it takes for the information to travel as they have already fully optimised the software.\n",
    "\n",
    "Just because it is profitable doesn't mean it is good either. For long only strategies we can compare it to just holding the same asset over the same period of time. The return on investment here is always lower than the overall price movement because this bot incurs more trading fees than just buying once and it isn't always in a postion or it makes a bad decision.\n",
    "\n",
    "When your making a bot you can only use past data. e.g. If you were to use the `high` column in your algorithm for intraday trading you would need to know ahead of time the highest price for the day. But if you were doing a longer term trading strategy it would be possible to use previous day's high's to create a trend.\n",
    "\n",
    "The model created here is a simplified version of bollinger bands. Instead of using a fixed percentage offset of average price, bollinger bands use z-values/z-score to determine outliers in pricing."
   ]
  },
  {
   "cell_type": "code",
   "execution_count": 202,
   "metadata": {},
   "outputs": [
    {
     "name": "stdout",
     "output_type": "stream",
     "text": [
      "Buy and hold return :  35.95 %\n"
     ]
    }
   ],
   "source": [
    "initial = stock_data[\"Adj Close\"][0] * (1 + trading_fee)\n",
    "final = stock_data[\"Adj Close\"].tail(1)[0] * (1 - trading_fee)\n",
    "\n",
    "pct_change = ((final  - initial) / initial) * 100\n",
    "\n",
    "print(\"Buy and hold return : \",round(pct_change, 2),\"%\")"
   ]
  },
  {
   "cell_type": "markdown",
   "metadata": {},
   "source": [
    "# Saving and Loading data"
   ]
  },
  {
   "cell_type": "markdown",
   "metadata": {},
   "source": [
    "Pandas can save and load data from various file types, when loading in data you may need to specify the index. Below saves the data in the current working directory, with the name : `stock data` .\n",
    "\n",
    "The file extention needs to be included.\n",
    "\n",
    "I reccomend reading from a file instead of downloading everytime, this allows you to debug any errors in the downloaded data and get consistent results while building. \n",
    "\n",
    "You should seperate out the downloading into another python file, this makes it easier to edit or replace the downloading process later."
   ]
  },
  {
   "cell_type": "code",
   "execution_count": 203,
   "metadata": {},
   "outputs": [],
   "source": [
    "stock_data.to_csv(\"stock data.csv\")\n",
    "# stock_data = pd.read_excel(\"examplefile.xlsx\") # returns a pandas dataframe with the data from the excel file"
   ]
  },
  {
   "cell_type": "markdown",
   "metadata": {},
   "source": [
    "# Importing your own work\n",
    "\n",
    "You can create your own modules and import other python files that you created, you can simply use import (if they are in the same directory) as they are already on your computer.\n",
    "\n",
    "Example:\n",
    "\n",
    "---\n",
    "\n",
    "```python\n",
    "import downloader\n",
    "\n",
    "data = downloader.download()\n",
    "\n",
    "# do stuff with the data...\n",
    "```"
   ]
  },
  {
   "cell_type": "markdown",
   "metadata": {},
   "source": [
    "# Other libaries worth mentioning\n",
    "\n",
    "[openpyxl](https://openpyxl.readthedocs.io/en/stable/#)\n",
    "- Reading and writing excel documents.\n",
    "\n",
    "[PyPDF2](https://pypi.org/project/PyPDF2/)\n",
    "- PDF reading and manipulation.\n",
    "\n",
    "[Tensorflow](https://www.tensorflow.org/) (or [pytorch](https://pytorch.org/))\n",
    "- Neural networks and deep learning.\n",
    "\n",
    "[Scikit-learn](https://scikit-learn.org/stable/)\n",
    "- Machine learning tools.\n",
    "\n",
    "[Pytest](https://docs.pytest.org/en/7.4.x/)\n",
    "- Unit testing for python (making sure code behaves as expected... by writing more code).\n",
    "\n",
    "[Json](https://www.json.org/json-en.html) (built in)\n",
    "- JSON (Java script object notation) serialisation. A filetype and system for saving data which is human readable.\n",
    "\n",
    "[Pickle](https://docs.python.org/3/library/pickle.html) (built in)\n",
    "- Object serialisation, not human readable but can be easier to save python objects with.\n",
    "\n",
    "> Serialisation\n",
    ">\n",
    "> the process of converting the state of an object into a form that can be persisted or transported.\n",
    "\n"
   ]
  }
 ],
 "metadata": {
  "kernelspec": {
   "display_name": "Python 3",
   "language": "python",
   "name": "python3"
  },
  "language_info": {
   "codemirror_mode": {
    "name": "ipython",
    "version": 3
   },
   "file_extension": ".py",
   "mimetype": "text/x-python",
   "name": "python",
   "nbconvert_exporter": "python",
   "pygments_lexer": "ipython3",
   "version": "3.11.3"
  }
 },
 "nbformat": 4,
 "nbformat_minor": 2
}
