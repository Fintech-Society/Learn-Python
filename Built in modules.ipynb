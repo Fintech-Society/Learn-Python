{
 "cells": [
  {
   "cell_type": "markdown",
   "metadata": {},
   "source": [
    "# Math"
   ]
  },
  {
   "cell_type": "code",
   "execution_count": 3,
   "metadata": {},
   "outputs": [
    {
     "data": {
      "text/plain": [
       "1.0"
      ]
     },
     "execution_count": 3,
     "metadata": {},
     "output_type": "execute_result"
    }
   ],
   "source": [
    "import math\n",
    "\n",
    "math.ceil(10.4)\n",
    "math.log(2,2)"
   ]
  },
  {
   "cell_type": "markdown",
   "metadata": {},
   "source": [
    "# OS"
   ]
  },
  {
   "cell_type": "markdown",
   "metadata": {},
   "source": [
    "OS is a interface for interacting with your operating system using python, its best use is for manipulating paths for file handling\n",
    "\n",
    "[Documentation here](https://docs.python.org/3/library/os.html)"
   ]
  },
  {
   "cell_type": "code",
   "execution_count": 4,
   "metadata": {},
   "outputs": [
    {
     "name": "stdout",
     "output_type": "stream",
     "text": [
      "c:\\Users\\olive\\Documents\\GitHub\\2023-10-18-Fintech-Society\n"
     ]
    }
   ],
   "source": [
    "import os\n",
    "\n",
    "print(os.getcwd())\n"
   ]
  },
  {
   "cell_type": "code",
   "execution_count": 7,
   "metadata": {},
   "outputs": [
    {
     "name": "stdout",
     "output_type": "stream",
     "text": [
      "Hello\n",
      "\n",
      "Hello\n"
     ]
    }
   ],
   "source": [
    "\n",
    "FOLDER_PATH = os.path.join(os.getcwd(), \"new folder\")   # Assign the folder path using os.path.\n",
    "FILE_PATH = os.path.join(FOLDER_PATH,\"hello.txt\")       # Assign file path using os.path, ensure you include the file type (.***) .\n",
    "\n",
    "# open() documentation : https://docs.python.org/3/library/functions.html#open\n",
    "# with keyword : https://docs.python.org/3/reference/compound_stmts.html#with\n",
    "\n",
    "if os.path.exists(FOLDER_PATH):     # check if the folder exists using os.path.exists() .\n",
    "    with open(FILE_PATH, \"r\") as f: # This is a contect manager, we specify to open the file and the context manager will close the connection for us automatically (its safer this way), the file is assigned the variable: f\n",
    "        print(f.read())             # Read content of file, this is possible becuase we passed in \"r\" as an argument in open(), this will read anything already inside it and return it as a string.\n",
    "\n",
    "else:                               # Folder doesn't exist.\n",
    "    os.mkdir(\"new folder\")          # make the directory (mkdir) where the FILE_PATH variable points too.\n",
    "    with open(FILE_PATH, \"w\") as f: # this time we write content to the file using \"w\" and f.write(), be careful as this completely overwrites anything inside.\n",
    "        f.write(\"Hello\")"
   ]
  },
  {
   "cell_type": "markdown",
   "metadata": {},
   "source": [
    "# Datetime"
   ]
  },
  {
   "cell_type": "markdown",
   "metadata": {},
   "source": [
    "Python has its own libary for handling datetimes which allow for math and comparisons between datetime objects."
   ]
  },
  {
   "cell_type": "code",
   "execution_count": 8,
   "metadata": {},
   "outputs": [
    {
     "data": {
      "text/plain": [
       "datetime.datetime(2023, 10, 18, 13, 43, 54, 37720)"
      ]
     },
     "execution_count": 8,
     "metadata": {},
     "output_type": "execute_result"
    }
   ],
   "source": [
    "import datetime\n",
    "\n",
    "now = datetime.datetime.now()\n",
    "now"
   ]
  },
  {
   "cell_type": "code",
   "execution_count": 9,
   "metadata": {},
   "outputs": [
    {
     "data": {
      "text/plain": [
       "10"
      ]
     },
     "execution_count": 9,
     "metadata": {},
     "output_type": "execute_result"
    }
   ],
   "source": [
    "# 10 years\n",
    "year = datetime.timedelta(days=365)\n",
    "ten_years = year * 10\n",
    "\n",
    "ten_years.days // 365 # 3650 days\n"
   ]
  },
  {
   "cell_type": "code",
   "execution_count": 11,
   "metadata": {},
   "outputs": [
    {
     "data": {
      "text/plain": [
       "'283_824_000.0'"
      ]
     },
     "execution_count": 11,
     "metadata": {},
     "output_type": "execute_result"
    }
   ],
   "source": [
    "# 9 years in seconds\n",
    "nine_years_of_seconds = (ten_years - year).total_seconds()\n",
    "f\"{nine_years_of_seconds:_}\""
   ]
  },
  {
   "cell_type": "markdown",
   "metadata": {},
   "source": [
    "# Collections"
   ]
  },
  {
   "cell_type": "code",
   "execution_count": 12,
   "metadata": {},
   "outputs": [
    {
     "data": {
      "text/plain": [
       "defaultdict(list,\n",
       "            {('a', 'm', 'o', 't'): ['atom'],\n",
       "             ('b', 'b', 'm', 'o'): ['bomb'],\n",
       "             ('a', 'e', 'l', 'm', 's'): ['meals', 'males', 'meals', 'Salem'],\n",
       "             ('a', 'i', 'n', 's', 't'): ['saint', 'satin'],\n",
       "             ('a', 'e', 'e', 'g', 'n', 'v'): ['avenge', 'Geneva'],\n",
       "             ('a', 'e', 'l', 's', 's'): ['sales', 'seals'],\n",
       "             ('a', 'b', 'l', 'm'): ['balm', 'lamb'],\n",
       "             ('a', 'e', 'm', 'n'): ['mean', 'mane'],\n",
       "             ('a', 'l', 's', 's', 't'): ['salts', 'lasts'],\n",
       "             ('b', 'l', 'o', 't'): ['blot', 'bolt'],\n",
       "             ('e', 'l', 'm', 'n', 'o'): ['melon', 'lemon'],\n",
       "             ('a', 'a', 'e', 'g', 'l', 's', 's', 'v'): ['salvages',\n",
       "              'Las Vegas'],\n",
       "             ('b', 'l', 'o', 'w'): ['blow', 'bowl'],\n",
       "             ('i', 'm', 'o', 's', 't'): ['moist', 'omits'],\n",
       "             ('a', 'h', 'p', 'r', 's'): ['sharp', 'harps'],\n",
       "             ('a', 'b', 'g', 'r'): ['brag', 'grab'],\n",
       "             ('e', 'm', 'o', 'r'): ['more', 'Rome'],\n",
       "             ('b', 'h', 'r', 's', 'u'): ['shrub', 'brush'],\n",
       "             ('c', 'h', 'm', 'u'): ['chum', 'much'],\n",
       "             ('d', 'e', 'e', 'n', 's'): ['needs', 'dense'],\n",
       "             ('e', 'i', 'n', 'r', 's'): ['siren', 'rinse'],\n",
       "             ('a', 'c', 'l', 'o'): ['coal', 'cola'],\n",
       "             ('d', 'e', 'e', 'n', 'r', 'v'): ['nerved', 'Denver'],\n",
       "             ('d', 'i', 'k', 's', 's'): ['skids', 'disks'],\n",
       "             ('c', 'n', 'o', 's', 't', 'u'): ['counts', 'Tucson'],\n",
       "             ('e', 'n', 'n', 'o'): ['none', 'neon'],\n",
       "             ('i', 'k', 'l', 'l', 's'): ['skill', 'kills'],\n",
       "             ('a', 'd', 'e', 'g', 'i', 'n', 'o', 's'): ['diagnose',\n",
       "              'San Diego'],\n",
       "             ('d', 'e', 'n', 'u'): ['nude', 'dune'],\n",
       "             ('a', 'i', 'l', 'n', 's'): ['snail', 'nails'],\n",
       "             ('a', 'd', 'i', 'r', 'y'): ['diary', 'dairy'],\n",
       "             ('a', 'c', 'e', 'n', 'o'): ['ocean', 'canoe'],\n",
       "             ('b', 'e', 'o', 'r', 's'): ['sober', 'robes'],\n",
       "             ('a', 'd', 'i', 'm', 'n', 'o', 's'): ['domains', 'Madison'],\n",
       "             ('a', 'c', 'e', 'p'): ['pace', 'cape'],\n",
       "             ('i', 'l', 'o', 's', 's'): ['soils'],\n",
       "             ('i', 'l', 'o', 's'): ['oils'],\n",
       "             ('d', 'e', 'i', 'o', 'r', 't', 't'): ['dottier', 'Detroit'],\n",
       "             ('a', 'i', 'p', 'r', 's'): ['pairs', 'Paris'],\n",
       "             ('l', 'o', 'o', 's'): ['solo', 'Oslo'],\n",
       "             ('d', 'e', 'f', 'i', 'r'): ['fired', 'fried'],\n",
       "             ('a', 'e', 'l', 'p'): ['pale', 'leap'],\n",
       "             ('a', 'p', 'r', 's', 'y'): ['spray', 'prays'],\n",
       "             ('e', 'f', 'g', 'i', 'n', 'r'): ['fringe', 'finger'],\n",
       "             ('a', 'e', 'l', 'n', 'p', 's'): ['panels', 'Naples'],\n",
       "             ('a', 'c', 'k', 's', 't'): ['stack', 'tacks'],\n",
       "             ('a', 'e', 'h', 'n', 's', 't'): ['hasten', 'Athens'],\n",
       "             ('a', 'k', 'p', 'r', 's'): ['parks', 'spark'],\n",
       "             ('c', 'i', 'k', 's', 't'): ['stick', 'ticks'],\n",
       "             ('c', 'd', 'e', 'i'): ['iced', 'dice'],\n",
       "             ('l', 'o', 'o', 'p', 's'): ['pools', 'spool'],\n",
       "             ('i', 'p', 'r', 's', 't'): ['strip', 'trips'],\n",
       "             ('c', 'h', 'i', 'n'): ['inch', 'chin'],\n",
       "             ('o', 'p', 'r', 's', 't'): ['ports', 'sport'],\n",
       "             ('d', 's', 't', 'u', 'y'): ['study', 'dusty'],\n",
       "             ('e', 'e', 'k', 'n'): ['keen', 'knee'],\n",
       "             ('o', 'p', 's', 's', 't'): ['posts', 'stops'],\n",
       "             ('a', 'e', 'm', 't'): ['team', 'meat'],\n",
       "             ('a', 'l', 'm', 'p'): ['lamp', 'palm'],\n",
       "             ('a', 'c', 'e', 'r', 's'): ['races', 'cares'],\n",
       "             ('d', 'e', 'l', 'o', 'o', 't'): ['tooled',\n",
       "              'Toledo',\n",
       "              'looted',\n",
       "              'Toledo'],\n",
       "             ('a', 'l', 's', 't'): ['last', 'salt'],\n",
       "             ('a', 'e', 'p', 'r'): ['reap', 'pear'],\n",
       "             ('e', 'o', 's', 't', 'v'): ['votes', 'stove'],\n",
       "             ('d', 'e', 'i', 'l', 'm', 'p'): ['limped', 'dimple'],\n",
       "             ('e', 'e', 'f', 'r'): ['reef', 'free'],\n",
       "             ('a', 'i', 's', 't', 'w'): ['waits', 'waist'],\n",
       "             ('i', 'l', 'n', 'o'): ['lion', 'loin'],\n",
       "             ('b', 'd', 'e', 'o', 'r'): ['robed', 'bored'],\n",
       "             ('a', 'p', 's', 's', 'w'): ['wasps', 'swaps'],\n",
       "             ('c', 'k', 'o', 'r'): ['rock', 'cork'],\n",
       "             ('e', 'l', 'l', 's', 'w'): ['wells', 'swell'],\n",
       "             ('l', 'm', 'p', 'u'): ['lump', 'plum'],\n",
       "             ('m', 'o', 'o', 'r'): ['room', 'moor'],\n",
       "             ('e', 's', 't', 'w'): ['west', 'stew'],\n",
       "             ('a', 'c', 'h', 'm', 'r'): ['march', 'charm'],\n",
       "             ('e', 'o', 'p', 'r', 's'): ['ropes', 'pores'],\n",
       "             ('a', 'h', 't', 'w'): ['what', 'thaw'],\n",
       "             ('a', 'h', 'm', 's'): ['mash', 'hams']})"
      ]
     },
     "execution_count": 12,
     "metadata": {},
     "output_type": "execute_result"
    }
   ],
   "source": [
    "import collections\n",
    "\n",
    "defaultdict = collections.defaultdict(list)\n",
    "\n",
    "anagrams = [\"atom\",\"bomb\",\"meals\",\"males\",\"saint\",\"satin\",\"avenge\",\"Geneva\",\"meals\",\"Salem\",\"sales\",\"seals\",\"balm\",\"lamb\",\"mean\",\"mane\",\"salts\",\"lasts\",\"blot\",\"bolt\",\"melon\",\"lemon\",\"salvages\",\"Las Vegas\",\"blow\",\"bowl\",\"moist\",\"omits\",\"sharp\",\"harps\",\"brag\",\"grab\",\"more\",\"Rome\",\"shrub\",\"brush\",\"chum\",\"much\",\"needs\",\"dense\",\"siren\",\"rinse\",\"coal\",\"cola\",\"nerved\",\"Denver\",\"skids\",\"disks\",\"counts\",\"Tucson\",\"none\",\"neon\",\"skill\",\"kills\",\"diagnose\",\"San Diego\",\"nude\",\"dune\",\"snail\",\"nails\",\"diary\",\"dairy\",\"ocean\",\"canoe\",\"sober\",\"robes\",\"domains\",\"Madison\",\"pace\",\"cape\",\"soils\",\"oils\",\"dottier\",\"Detroit\",\"pairs\",\"Paris\",\"solo\",\"Oslo\",\"fired\",\"fried\",\"pale\",\"leap\",\"spray\",\"prays\",\"fringe\",\"finger\",\"panels\",\"Naples\",\"stack\",\"tacks\",\"hasten\",\"Athens\",\"parks\",\"spark\",\"stick\",\"ticks\",\"iced\",\"dice\",\"pools\",\"spool\",\"strip\",\"trips\",\"inch\",\"chin\",\"ports\",\"sport\",\"study\",\"dusty\",\"keen\",\"knee\",\"posts\",\"stops\",\"team\",\"meat\",\"lamp\",\"palm\",\"races\",\"cares\",\"tooled\",\"Toledo\",\"last\",\"salt\",\"reap\",\"pear\",\"votes\",\"stove\",\"limped\",\"dimple\",\"reef\",\"free\",\"waits\",\"waist\",\"lion\",\"loin\",\"robed\",\"bored\",\"wasps\",\"swaps\",\"looted\",\"Toledo\",\"rock\",\"cork\",\"wells\",\"swell\",\"lump\",\"plum\",\"room\",\"moor\",\"west\",\"stew\",\"march\",\"charm\",\"ropes\",\"pores\",\"what\",\"thaw\",\"mash\",\"hams\"]\n",
    "\n",
    "for word in anagrams:\n",
    "    key = sorted(word.lower())\n",
    "    \n",
    "    if \" \" in key:\n",
    "        key.remove(\" \")\n",
    "\n",
    "    key = tuple(key)\n",
    "    defaultdict[key].append(word)\n",
    "\n",
    "defaultdict"
   ]
  },
  {
   "cell_type": "code",
   "execution_count": 13,
   "metadata": {},
   "outputs": [
    {
     "data": {
      "text/plain": [
       "Counter({'meals': 2,\n",
       "         'Toledo': 2,\n",
       "         'atom': 1,\n",
       "         'bomb': 1,\n",
       "         'males': 1,\n",
       "         'saint': 1,\n",
       "         'satin': 1,\n",
       "         'avenge': 1,\n",
       "         'Geneva': 1,\n",
       "         'Salem': 1,\n",
       "         'sales': 1,\n",
       "         'seals': 1,\n",
       "         'balm': 1,\n",
       "         'lamb': 1,\n",
       "         'mean': 1,\n",
       "         'mane': 1,\n",
       "         'salts': 1,\n",
       "         'lasts': 1,\n",
       "         'blot': 1,\n",
       "         'bolt': 1,\n",
       "         'melon': 1,\n",
       "         'lemon': 1,\n",
       "         'salvages': 1,\n",
       "         'Las Vegas': 1,\n",
       "         'blow': 1,\n",
       "         'bowl': 1,\n",
       "         'moist': 1,\n",
       "         'omits': 1,\n",
       "         'sharp': 1,\n",
       "         'harps': 1,\n",
       "         'brag': 1,\n",
       "         'grab': 1,\n",
       "         'more': 1,\n",
       "         'Rome': 1,\n",
       "         'shrub': 1,\n",
       "         'brush': 1,\n",
       "         'chum': 1,\n",
       "         'much': 1,\n",
       "         'needs': 1,\n",
       "         'dense': 1,\n",
       "         'siren': 1,\n",
       "         'rinse': 1,\n",
       "         'coal': 1,\n",
       "         'cola': 1,\n",
       "         'nerved': 1,\n",
       "         'Denver': 1,\n",
       "         'skids': 1,\n",
       "         'disks': 1,\n",
       "         'counts': 1,\n",
       "         'Tucson': 1,\n",
       "         'none': 1,\n",
       "         'neon': 1,\n",
       "         'skill': 1,\n",
       "         'kills': 1,\n",
       "         'diagnose': 1,\n",
       "         'San Diego': 1,\n",
       "         'nude': 1,\n",
       "         'dune': 1,\n",
       "         'snail': 1,\n",
       "         'nails': 1,\n",
       "         'diary': 1,\n",
       "         'dairy': 1,\n",
       "         'ocean': 1,\n",
       "         'canoe': 1,\n",
       "         'sober': 1,\n",
       "         'robes': 1,\n",
       "         'domains': 1,\n",
       "         'Madison': 1,\n",
       "         'pace': 1,\n",
       "         'cape': 1,\n",
       "         'soils': 1,\n",
       "         'oils': 1,\n",
       "         'dottier': 1,\n",
       "         'Detroit': 1,\n",
       "         'pairs': 1,\n",
       "         'Paris': 1,\n",
       "         'solo': 1,\n",
       "         'Oslo': 1,\n",
       "         'fired': 1,\n",
       "         'fried': 1,\n",
       "         'pale': 1,\n",
       "         'leap': 1,\n",
       "         'spray': 1,\n",
       "         'prays': 1,\n",
       "         'fringe': 1,\n",
       "         'finger': 1,\n",
       "         'panels': 1,\n",
       "         'Naples': 1,\n",
       "         'stack': 1,\n",
       "         'tacks': 1,\n",
       "         'hasten': 1,\n",
       "         'Athens': 1,\n",
       "         'parks': 1,\n",
       "         'spark': 1,\n",
       "         'stick': 1,\n",
       "         'ticks': 1,\n",
       "         'iced': 1,\n",
       "         'dice': 1,\n",
       "         'pools': 1,\n",
       "         'spool': 1,\n",
       "         'strip': 1,\n",
       "         'trips': 1,\n",
       "         'inch': 1,\n",
       "         'chin': 1,\n",
       "         'ports': 1,\n",
       "         'sport': 1,\n",
       "         'study': 1,\n",
       "         'dusty': 1,\n",
       "         'keen': 1,\n",
       "         'knee': 1,\n",
       "         'posts': 1,\n",
       "         'stops': 1,\n",
       "         'team': 1,\n",
       "         'meat': 1,\n",
       "         'lamp': 1,\n",
       "         'palm': 1,\n",
       "         'races': 1,\n",
       "         'cares': 1,\n",
       "         'tooled': 1,\n",
       "         'last': 1,\n",
       "         'salt': 1,\n",
       "         'reap': 1,\n",
       "         'pear': 1,\n",
       "         'votes': 1,\n",
       "         'stove': 1,\n",
       "         'limped': 1,\n",
       "         'dimple': 1,\n",
       "         'reef': 1,\n",
       "         'free': 1,\n",
       "         'waits': 1,\n",
       "         'waist': 1,\n",
       "         'lion': 1,\n",
       "         'loin': 1,\n",
       "         'robed': 1,\n",
       "         'bored': 1,\n",
       "         'wasps': 1,\n",
       "         'swaps': 1,\n",
       "         'looted': 1,\n",
       "         'rock': 1,\n",
       "         'cork': 1,\n",
       "         'wells': 1,\n",
       "         'swell': 1,\n",
       "         'lump': 1,\n",
       "         'plum': 1,\n",
       "         'room': 1,\n",
       "         'moor': 1,\n",
       "         'west': 1,\n",
       "         'stew': 1,\n",
       "         'march': 1,\n",
       "         'charm': 1,\n",
       "         'ropes': 1,\n",
       "         'pores': 1,\n",
       "         'what': 1,\n",
       "         'thaw': 1,\n",
       "         'mash': 1,\n",
       "         'hams': 1})"
      ]
     },
     "execution_count": 13,
     "metadata": {},
     "output_type": "execute_result"
    }
   ],
   "source": [
    "collections.Counter(anagrams)"
   ]
  },
  {
   "cell_type": "markdown",
   "metadata": {},
   "source": [
    "# Itertools"
   ]
  },
  {
   "cell_type": "code",
   "execution_count": 14,
   "metadata": {},
   "outputs": [
    {
     "name": "stdout",
     "output_type": "stream",
     "text": [
      "AAA\n",
      "AAB\n",
      "AAC\n",
      "AAD\n",
      "ABA\n",
      "ABB\n",
      "ABC\n",
      "ABD\n",
      "ACA\n",
      "ACB\n",
      "ACC\n",
      "ACD\n",
      "ADA\n",
      "ADB\n",
      "ADC\n",
      "ADD\n",
      "BAA\n",
      "BAB\n",
      "BAC\n",
      "BAD\n",
      "BBA\n",
      "BBB\n",
      "BBC\n",
      "BBD\n",
      "BCA\n",
      "BCB\n",
      "BCC\n",
      "BCD\n",
      "BDA\n",
      "BDB\n",
      "BDC\n",
      "BDD\n",
      "CAA\n",
      "CAB\n",
      "CAC\n",
      "CAD\n",
      "CBA\n",
      "CBB\n",
      "CBC\n",
      "CBD\n",
      "CCA\n",
      "CCB\n",
      "CCC\n",
      "CCD\n",
      "CDA\n",
      "CDB\n",
      "CDC\n",
      "CDD\n",
      "DAA\n",
      "DAB\n",
      "DAC\n",
      "DAD\n",
      "DBA\n",
      "DBB\n",
      "DBC\n",
      "DBD\n",
      "DCA\n",
      "DCB\n",
      "DCC\n",
      "DCD\n",
      "DDA\n",
      "DDB\n",
      "DDC\n",
      "DDD\n"
     ]
    }
   ],
   "source": [
    "import itertools\n",
    "\n",
    "string = \"ABCD\"\n",
    "\n",
    "# all possible orders\n",
    "for a,b,c in itertools.product(string, repeat=3):\n",
    "    print(a+b+c)"
   ]
  },
  {
   "cell_type": "code",
   "execution_count": 16,
   "metadata": {},
   "outputs": [
    {
     "name": "stdout",
     "output_type": "stream",
     "text": [
      "ABC\n",
      "ABD\n",
      "ACB\n",
      "ACD\n",
      "ADB\n",
      "ADC\n",
      "BAC\n",
      "BAD\n",
      "BCA\n",
      "BCD\n",
      "BDA\n",
      "BDC\n",
      "CAB\n",
      "CAD\n",
      "CBA\n",
      "CBD\n",
      "CDA\n",
      "CDB\n",
      "DAB\n",
      "DAC\n",
      "DBA\n",
      "DBC\n",
      "DCA\n",
      "DCB\n"
     ]
    }
   ],
   "source": [
    "# All possible orders no repeats\n",
    "for a,b,c in itertools.permutations(string,3):\n",
    "    print(a+b+c)"
   ]
  },
  {
   "cell_type": "code",
   "execution_count": 15,
   "metadata": {},
   "outputs": [
    {
     "name": "stdout",
     "output_type": "stream",
     "text": [
      "ABC\n",
      "ABD\n",
      "ACD\n",
      "BCD\n"
     ]
    }
   ],
   "source": [
    "for a,b,c in itertools.combinations(string,3):\n",
    "    print(a+b+c)"
   ]
  },
  {
   "cell_type": "markdown",
   "metadata": {},
   "source": [
    "# Requests (and BeautifulSoup)"
   ]
  },
  {
   "cell_type": "code",
   "execution_count": 19,
   "metadata": {},
   "outputs": [
    {
     "ename": "KeyError",
     "evalue": "'a'",
     "output_type": "error",
     "traceback": [
      "\u001b[1;31m---------------------------------------------------------------------------\u001b[0m",
      "\u001b[1;31mKeyError\u001b[0m                                  Traceback (most recent call last)",
      "\u001b[1;32mc:\\Users\\olive\\Documents\\GitHub\\2023-10-18-Fintech-Society\\Built in modules.ipynb Cell 20\u001b[0m line \u001b[0;36m1\n\u001b[0;32m      <a href='vscode-notebook-cell:/c%3A/Users/olive/Documents/GitHub/2023-10-18-Fintech-Society/Built%20in%20modules.ipynb#X24sZmlsZQ%3D%3D?line=7'>8</a>\u001b[0m response \u001b[39m=\u001b[39m requests\u001b[39m.\u001b[39mget(URL)\n\u001b[0;32m      <a href='vscode-notebook-cell:/c%3A/Users/olive/Documents/GitHub/2023-10-18-Fintech-Society/Built%20in%20modules.ipynb#X24sZmlsZQ%3D%3D?line=8'>9</a>\u001b[0m site \u001b[39m=\u001b[39m bs(response\u001b[39m.\u001b[39mcontent, \u001b[39m\"\u001b[39m\u001b[39mlxml\u001b[39m\u001b[39m\"\u001b[39m)\n\u001b[1;32m---> <a href='vscode-notebook-cell:/c%3A/Users/olive/Documents/GitHub/2023-10-18-Fintech-Society/Built%20in%20modules.ipynb#X24sZmlsZQ%3D%3D?line=9'>10</a>\u001b[0m site[\u001b[39m\"\u001b[39;49m\u001b[39ma\u001b[39;49m\u001b[39m\"\u001b[39;49m]\n",
      "File \u001b[1;32mc:\\Users\\olive\\AppData\\Local\\Programs\\Python\\Python310\\lib\\site-packages\\bs4\\element.py:1519\u001b[0m, in \u001b[0;36mTag.__getitem__\u001b[1;34m(self, key)\u001b[0m\n\u001b[0;32m   1516\u001b[0m \u001b[39mdef\u001b[39;00m \u001b[39m__getitem__\u001b[39m(\u001b[39mself\u001b[39m, key):\n\u001b[0;32m   1517\u001b[0m \u001b[39m    \u001b[39m\u001b[39m\"\"\"tag[key] returns the value of the 'key' attribute for the Tag,\u001b[39;00m\n\u001b[0;32m   1518\u001b[0m \u001b[39m    and throws an exception if it's not there.\"\"\"\u001b[39;00m\n\u001b[1;32m-> 1519\u001b[0m     \u001b[39mreturn\u001b[39;00m \u001b[39mself\u001b[39;49m\u001b[39m.\u001b[39;49mattrs[key]\n",
      "\u001b[1;31mKeyError\u001b[0m: 'a'"
     ]
    }
   ],
   "source": [
    "import requests\n",
    "from bs4 import BeautifulSoup as bs\n",
    "# BeautifulSoup parses the content and makes it more navigatable and presentable\n",
    "# https://www.crummy.com/software/BeautifulSoup/bs4/doc/\n",
    "\n",
    "URL = \"https://www.jpmorganchase.com/ir\"\n",
    "\n",
    "response = requests.get(URL)\n",
    "site = bs(response.content, \"lxml\")\n",
    "site"
   ]
  },
  {
   "cell_type": "code",
   "execution_count": null,
   "metadata": {},
   "outputs": [],
   "source": [
    "# Post\n",
    "\n",
    "URL = \"https://httpbin.org/anything\"\n",
    "\n",
    "payload = {\"hello\" : \"world\"}\n",
    "\n",
    "r = requests.post(URL,json=payload)\n",
    "bs(r.content, \"lxml\")"
   ]
  }
 ],
 "metadata": {
  "kernelspec": {
   "display_name": "Python 3",
   "language": "python",
   "name": "python3"
  },
  "language_info": {
   "codemirror_mode": {
    "name": "ipython",
    "version": 3
   },
   "file_extension": ".py",
   "mimetype": "text/x-python",
   "name": "python",
   "nbconvert_exporter": "python",
   "pygments_lexer": "ipython3",
   "version": "3.10.7"
  }
 },
 "nbformat": 4,
 "nbformat_minor": 2
}
