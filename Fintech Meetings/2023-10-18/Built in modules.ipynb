{
 "cells": [
  {
   "cell_type": "markdown",
   "metadata": {},
   "source": [
    "One of python's strength is the massive collection of libaries you can download and use. These libaries are code that other people have written and published.\n",
    "\n",
    "When installing python it also installs **pip**, pip is a package management software used in the command line or terminal that installs python packages and required dependencies for you. \n",
    "\n",
    "To install packages you open a command line, This can be done from vscode or directly from your computer. \n",
    "\n",
    "## From Vscode\n",
    "\n",
    "CTRL + SHIFT + '\n",
    "\n",
    "or in the bar at the top type: \">Create New Terminal\"\n",
    "\n",
    "## For windows\n",
    "\n",
    "WINDOWS + R -> \"cmd\" \n",
    "\n",
    "or windows button and search cmd\n",
    "\n",
    "## For Mac\n",
    "\n",
    "- Click the Launchpad icon in the Dock, type Terminal in the search field, then click Terminal.\n",
    "- In the Finder , open the /Applications/Utilities folder, then double-click Terminal.\n",
    "\n",
    "---\n",
    "\n",
    "Next type \n",
    "```\n",
    "pip install {libary name}\n",
    "```\n",
    "\n",
    "pip will then install the libary for you, for built in modules are already present but third party libaries will need this step.\n",
    "\n",
    "Finally to use the module in your code, at the top of the file write import.\n",
    "\n",
    "```python\n",
    "import # module name\n",
    "```\n",
    "\n",
    "pip also has other methods list as `pip list` which lists the installed libaries. Use `pip help` to see others.\n",
    "\n",
    "Because you are installing third party code onto your computer you need to make sure it is reputable and not a virus your self."
   ]
  },
  {
   "cell_type": "markdown",
   "metadata": {},
   "source": [
    "# Math\n",
    "\n",
    "Introduces math functions and constants.\n",
    "\n",
    "The link below leads to the official page where each function is explained for this libary.\n",
    "\n",
    "Most libaries will have sites which have a more in depth tutorial for using the libary so I do reccomend visiting the sites.\n",
    "\n",
    "[Math Documentation](https://docs.python.org/3/library/math.html)"
   ]
  },
  {
   "cell_type": "code",
   "execution_count": null,
   "metadata": {},
   "outputs": [],
   "source": [
    "import math\n",
    "\n",
    "math.ceil(10.4)\n",
    "math.log(2,2)"
   ]
  },
  {
   "cell_type": "markdown",
   "metadata": {},
   "source": [
    "# OS"
   ]
  },
  {
   "cell_type": "markdown",
   "metadata": {},
   "source": [
    "OS is a interface for interacting with your operating system using python, its best use is for manipulating paths for file handling.\n",
    "\n",
    "[OS Documentation](https://docs.python.org/3/library/os.html)"
   ]
  },
  {
   "cell_type": "code",
   "execution_count": null,
   "metadata": {},
   "outputs": [],
   "source": [
    "import os\n",
    "\n",
    "print(os.getcwd())"
   ]
  },
  {
   "cell_type": "code",
   "execution_count": null,
   "metadata": {},
   "outputs": [],
   "source": [
    "\n",
    "FOLDER_PATH = os.path.join(os.getcwd(), \"new folder\")   # Assign the folder path using os.path.\n",
    "FILE_PATH = os.path.join(FOLDER_PATH,\"hello.txt\")       # Assign file path using os.path, ensure you include the file type (.***) .\n",
    "\n",
    "# open() documentation : https://docs.python.org/3/library/functions.html#open\n",
    "# with keyword : https://docs.python.org/3/reference/compound_stmts.html#with\n",
    "\n",
    "if os.path.exists(FOLDER_PATH):     # check if the folder exists using os.path.exists() .\n",
    "    with open(FILE_PATH, \"r\") as f: # This is a contect manager, we specify to open the file and the context manager will close the connection for us automatically (its safer this way), the file is assigned the variable: f\n",
    "        print(f.read())             # Read content of file, this is possible becuase we passed in \"r\" as an argument in open(), this will read anything already inside it and return it as a string.\n",
    "\n",
    "else:                               # Folder doesn't exist.\n",
    "    os.mkdir(\"new folder\")          # make the directory (mkdir) where the FILE_PATH variable points too.\n",
    "    with open(FILE_PATH, \"w\") as f: # this time we write content to the file using \"w\" and f.write(), be careful as this completely overwrites anything inside.\n",
    "        f.write(\"Hello\")"
   ]
  },
  {
   "cell_type": "markdown",
   "metadata": {},
   "source": [
    "# Datetime"
   ]
  },
  {
   "cell_type": "markdown",
   "metadata": {},
   "source": [
    "Python has its own libary for manipulating datetimes which allow for math and comparisons between datetime objects.\n",
    "\n",
    "[Datetime Documentation](https://docs.python.org/3/library/datetime.html)"
   ]
  },
  {
   "cell_type": "code",
   "execution_count": null,
   "metadata": {},
   "outputs": [],
   "source": [
    "import datetime\n",
    "\n",
    "now = datetime.datetime.now()\n",
    "now"
   ]
  },
  {
   "cell_type": "code",
   "execution_count": null,
   "metadata": {},
   "outputs": [],
   "source": [
    "# 10 years\n",
    "year = datetime.timedelta(days=365)\n",
    "ten_years = year * 10\n",
    "\n",
    "ten_years.days // 365 # 3650 days\n"
   ]
  },
  {
   "cell_type": "code",
   "execution_count": null,
   "metadata": {},
   "outputs": [],
   "source": [
    "# 9 years in seconds\n",
    "nine_years_of_seconds = (ten_years - year).total_seconds()\n",
    "f\"{nine_years_of_seconds:_}\""
   ]
  },
  {
   "cell_type": "markdown",
   "metadata": {},
   "source": [
    "# Collections"
   ]
  },
  {
   "cell_type": "markdown",
   "metadata": {},
   "source": [
    "Introduces some more specific data structures for python. In particular defualt dict allows for setting the defualt values for dictionaries so you can assign lists to new keys easily\n",
    "\n",
    "[Collections Documentation](https://docs.python.org/3/library/collections.html) "
   ]
  },
  {
   "cell_type": "code",
   "execution_count": null,
   "metadata": {},
   "outputs": [],
   "source": [
    "import collections\n",
    "\n",
    "defaultdict = collections.defaultdict(list)\n",
    "\n",
    "# Find all anagrams\n",
    "anagrams = [\"atom\",\"bomb\",\"meals\",\"males\",\"saint\",\"satin\",\"avenge\",\"Geneva\",\"meals\",\"Salem\",\"sales\",\"seals\",\"balm\",\"lamb\",\"mean\",\"mane\",\"salts\",\"lasts\",\"blot\",\"bolt\",\"melon\",\"lemon\",\"salvages\",\"Las Vegas\",\"blow\",\"bowl\",\"moist\",\"omits\",\"sharp\",\"harps\",\"brag\",\"grab\",\"more\",\"Rome\",\"shrub\",\"brush\",\"chum\",\"much\",\"needs\",\"dense\",\"siren\",\"rinse\",\"coal\",\"cola\",\"nerved\",\"Denver\",\"skids\",\"disks\",\"counts\",\"Tucson\",\"none\",\"neon\",\"skill\",\"kills\",\"diagnose\",\"San Diego\",\"nude\",\"dune\",\"snail\",\"nails\",\"diary\",\"dairy\",\"ocean\",\"canoe\",\"sober\",\"robes\",\"domains\",\"Madison\",\"pace\",\"cape\",\"soils\",\"oils\",\"dottier\",\"Detroit\",\"pairs\",\"Paris\",\"solo\",\"Oslo\",\"fired\",\"fried\",\"pale\",\"leap\",\"spray\",\"prays\",\"fringe\",\"finger\",\"panels\",\"Naples\",\"stack\",\"tacks\",\"hasten\",\"Athens\",\"parks\",\"spark\",\"stick\",\"ticks\",\"iced\",\"dice\",\"pools\",\"spool\",\"strip\",\"trips\",\"inch\",\"chin\",\"ports\",\"sport\",\"study\",\"dusty\",\"keen\",\"knee\",\"posts\",\"stops\",\"team\",\"meat\",\"lamp\",\"palm\",\"races\",\"cares\",\"tooled\",\"Toledo\",\"last\",\"salt\",\"reap\",\"pear\",\"votes\",\"stove\",\"limped\",\"dimple\",\"reef\",\"free\",\"waits\",\"waist\",\"lion\",\"loin\",\"robed\",\"bored\",\"wasps\",\"swaps\",\"looted\",\"Toledo\",\"rock\",\"cork\",\"wells\",\"swell\",\"lump\",\"plum\",\"room\",\"moor\",\"west\",\"stew\",\"march\",\"charm\",\"ropes\",\"pores\",\"what\",\"thaw\",\"mash\",\"hams\"]\n",
    "\n",
    "for word in anagrams:\n",
    "    # A key has to be the same for every group\n",
    "    key = sorted(word.lower())\n",
    "    \n",
    "    if \" \" in key:\n",
    "        key.remove(\" \")\n",
    "\n",
    "    # sorted gives a list, dictionaries can only take non-mutable data types as a key, such as a tuple.\n",
    "    key = tuple(key)\n",
    "    defaultdict[key].append(word)\n",
    "\n",
    "defaultdict"
   ]
  },
  {
   "cell_type": "code",
   "execution_count": null,
   "metadata": {},
   "outputs": [],
   "source": [
    "collections.Counter(anagrams)"
   ]
  },
  {
   "cell_type": "markdown",
   "metadata": {},
   "source": [
    "# Itertools\n",
    "\n",
    "Itertools adds tools used in iterations, there are a quite a few in this libary that are useful so check it out yourself as it can save you some headaches later.\n",
    "\n",
    "[Itertools documentation](https://docs.python.org/3/library/itertools.html)"
   ]
  },
  {
   "cell_type": "code",
   "execution_count": null,
   "metadata": {},
   "outputs": [],
   "source": [
    "import itertools\n",
    "\n",
    "string = \"ABCD\"\n",
    "\n",
    "# all possible orders of string with length 3\n",
    "for a,b,c in itertools.product(string, repeat=3):\n",
    "    print(a+b+c)"
   ]
  },
  {
   "cell_type": "code",
   "execution_count": null,
   "metadata": {},
   "outputs": [],
   "source": [
    "thing1 = \"AB\"\n",
    "thing2 = 1,5.6,23.21,112,\"A\",\"T\",9.0\n",
    "\n",
    "for x in itertools.chain(thing1,thing2):\n",
    "    print(x)"
   ]
  },
  {
   "cell_type": "markdown",
   "metadata": {},
   "source": [
    "# Requests (and BeautifulSoup)"
   ]
  },
  {
   "cell_type": "markdown",
   "metadata": {},
   "source": [
    "Requests libary handles interacting with websites for you. It is used for web scraping and gathering data\n",
    "\n",
    "\n",
    "[Requests documentation](https://requests.readthedocs.io/en/latest/)"
   ]
  },
  {
   "cell_type": "code",
   "execution_count": null,
   "metadata": {},
   "outputs": [],
   "source": [
    "import requests\n",
    "from bs4 import BeautifulSoup as bs\n",
    "# BeautifulSoup parses the content and makes it more navigatable and presentable\n",
    "# https://www.crummy.com/software/BeautifulSoup/bs4/doc/\n",
    "\n",
    "URL = \"https://www.jpmorganchase.com/ir\"\n",
    "\n",
    "response = requests.get(URL)\n",
    "site = bs(response.content, \"lxml\")\n",
    "site"
   ]
  },
  {
   "cell_type": "markdown",
   "metadata": {},
   "source": [
    "Post requests are used when you want to send specific data to the site to update information.\n",
    "\n",
    "e.g. A site may ask for verification and you would verify by using post to send a payload of the required information. The payload is a json format or as a dictionary.\n",
    "\n",
    "httpbin will mirror what we sent it."
   ]
  },
  {
   "cell_type": "code",
   "execution_count": null,
   "metadata": {},
   "outputs": [],
   "source": [
    "# Post\n",
    "\n",
    "URL = \"https://httpbin.org/anything\"\n",
    "\n",
    "payload = {\"hello\" : \"world\"}\n",
    "\n",
    "r = requests.post(URL,json=payload)\n",
    "bs(r.content, \"lxml\")"
   ]
  }
 ],
 "metadata": {
  "kernelspec": {
   "display_name": "Python 3",
   "language": "python",
   "name": "python3"
  },
  "language_info": {
   "codemirror_mode": {
    "name": "ipython",
    "version": 3
   },
   "file_extension": ".py",
   "mimetype": "text/x-python",
   "name": "python",
   "nbconvert_exporter": "python",
   "pygments_lexer": "ipython3",
   "version": "3.11.3"
  }
 },
 "nbformat": 4,
 "nbformat_minor": 2
}
